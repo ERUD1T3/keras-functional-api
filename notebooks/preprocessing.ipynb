{
 "cells": [
  {
   "cell_type": "code",
   "execution_count": 11,
   "outputs": [],
   "source": [
    "import pandas as pd\n",
    "import numpy as np"
   ],
   "metadata": {
    "collapsed": false,
    "ExecuteTime": {
     "end_time": "2023-09-27T02:31:21.333512300Z",
     "start_time": "2023-09-27T02:31:21.270014400Z"
    }
   },
   "id": "fd3bbe0b3382a620"
  },
  {
   "cell_type": "code",
   "execution_count": 12,
   "outputs": [],
   "source": [
    "# Load the original data again\n",
    "original_data = pd.read_csv(\"../cme_and_electron/cme_daniel_100MeV.csv\")"
   ],
   "metadata": {
    "collapsed": false,
    "ExecuteTime": {
     "end_time": "2023-09-27T02:31:23.302512500Z",
     "start_time": "2023-09-27T02:31:23.225013Z"
    }
   },
   "id": "60077859ed46edd1"
  },
  {
   "cell_type": "markdown",
   "source": [
    "| Feature/Target Variable        | Preprocessing Step                                                                 |\n",
    "|-------------------------------|------------------------------------------------------------------------------------|\n",
    "| peak_intensity                 | Take the natural log, then divide by the max of the natural log                    |\n",
    "| CMEs_over_1000_past_9_hrs      | Divide by max (2)                                                                  |\n",
    "| CMEs_past_9_hours              | Divide by max (6)                                                                  |\n",
    "| V log V                        | Take the natural log, then divide by the max of the natural log                     |\n",
    "| longitude                      | Normalize to range \\([-1, 1]\\) by dividing by 180                                  |\n",
    "| MPA                            | Normalize to range \\([0, 1]\\) by dividing by 360                                   |\n",
    "| latitude                       | Normalize to range \\([-1, 1]\\) by dividing by 90                                   |\n",
    "| Acceleration (Accel)           | Divide by max                                                                      |\n",
    "| Linear Speed (donki_speed)     | Divide by max                                                                      |\n",
    "| Richardson's Equation          | Take the natural log, then divide by the absolute value of the min of the natural log |\n",
    "| 2nd Order Speed Final          | Divide by max                                                                      |\n",
    "| 2nd Order Speed at 20 Solar Radii | Divide by max                                                              |\n",
    "| Max Speed Past Day             | Divide by max                                                                      |\n",
    "| CMEs in the Past Month         | Divide by max                                                                      |\n",
    "| Daily Sunspot Count            | Divide by max                                                                      |\n",
    "| Half Width (donki_ha)          | Divide by max                                                                      |\n",
    "| CPA (Central_PA)               | Divide by max                                                                      |\n",
    "| Diffusive Shock (V^V^2_replacement) | Take the natural log, then divide by the absolute value of the min of the natural log |\n",
    "| Halo                           | No transformation (categorical)                                                    |\n",
    "| Type II Visualization Area     | If zero, leave as zero. Else, take the natural log, then divide by the max of the natural log |"
   ],
   "metadata": {
    "collapsed": false
   },
   "id": "4e9f8f04adf10103"
  },
  {
   "cell_type": "code",
   "execution_count": 13,
   "outputs": [],
   "source": [
    "# # Define the updated preprocessing functions based on the new table\n",
    "# def updated_preprocess_data(df):\n",
    "#     new_data = pd.DataFrame()\n",
    "# \n",
    "#     # Apply transformations as specified in the updated table\n",
    "#     log_peak_intensity_max = np.log(df['peak_intensity']).max()\n",
    "#     new_data['log_peak_intensity_norm'] = np.log(df['peak_intensity']) / log_peak_intensity_max\n",
    "# \n",
    "#     new_data['CMEs_over_1000_past_9_hrs_norm'] = df['CMEs_over_1000_past_9_hrs'] / 2\n",
    "#     new_data['CMEs_past_9_hours_norm'] = df['CMEs_past_9_hours'] / 6\n",
    "# \n",
    "#     log_v_log_v_max = np.log(df['V log V']).max()\n",
    "#     new_data['log_V_log_V_norm'] = np.log(df['V log V']) / log_v_log_v_max\n",
    "# \n",
    "#     new_data['longitude_norm'] = df['longitude'] / 180\n",
    "#     new_data['MPA_norm'] = df['MPA'] / 360\n",
    "#     new_data['latitude_norm'] = df['latitude'] / 90\n",
    "#     new_data['Accel_norm'] = df['Accel'] / df['Accel'].max()\n",
    "#     new_data['donki_speed_norm'] = df['donki_speed'] / df['donki_speed'].max()\n",
    "# \n",
    "#     # Take the natural log of the 'V^V^2_replacement' (Diffusive Shock) and 'richardson_formula_1.0_c' (Richardson's Equation)\n",
    "#     df['log_diffusive_shock'] = np.log(df['V^V^2_replacement'])\n",
    "#     df['log_richardson_formula'] = np.log(df['richardson_formula_1.0_c'])\n",
    "# \n",
    "#     # Find the absolute value of the minimum of these logged features\n",
    "#     abs_min_log_diffusive_shock = np.abs(df['log_diffusive_shock'].min())\n",
    "#     abs_min_log_richardson_formula = np.abs(df['log_richardson_formula'].min())\n",
    "# \n",
    "#     # Divide by the absolute value of the min\n",
    "#     new_data['log_diffusive_shock_norm'] = df['log_diffusive_shock'] / abs_min_log_diffusive_shock\n",
    "#     new_data['log_richardson_formula_norm'] = df['log_richardson_formula'] / abs_min_log_richardson_formula\n",
    "# \n",
    "#     new_data['2nd_order_speed_final_norm'] = df['2nd_order_speed_final'] / df['2nd_order_speed_final'].max()\n",
    "#     new_data['2nd_order_speed_20R_norm'] = df['2nd_order_speed_20R'] / df['2nd_order_speed_20R'].max()\n",
    "#     new_data['Max_speed_past_day_norm'] = df['Max_speed_past_day'] / df['Max_speed_past_day'].max()\n",
    "#     new_data['CMEs_past_month_norm'] = df['CMEs_past_month'] / df['CMEs_past_month'].max()\n",
    "#     new_data['sunspots_norm'] = df['sunspots'] / df['sunspots'].max()\n",
    "#     new_data['donki_ha_norm'] = df['donki_ha'] / df['donki_ha'].max()\n",
    "#     new_data['Central_PA_norm'] = df['Central_PA'] / df['Central_PA'].max()\n",
    "# \n",
    "#     new_data['HALO'] = df['HALO']\n",
    "# \n",
    "#     log_type_2_area_max = np.log(df[df['Type_2_Area'] > 0]['Type_2_Area']).max()\n",
    "#     new_data['log_Type_2_Area_norm'] = df['Type_2_Area'].apply(\n",
    "#         lambda x: 0 if x == 0 else np.log(x + 1) / log_type_2_area_max)\n",
    "# \n",
    "#     return new_data"
   ],
   "metadata": {
    "collapsed": false,
    "ExecuteTime": {
     "end_time": "2023-09-27T02:31:27.749474100Z",
     "start_time": "2023-09-27T02:31:27.707474700Z"
    }
   },
   "id": "d4b424e9cbbfe5d8"
  },
  {
   "cell_type": "markdown",
   "source": [
    "| Feature/Target Variable            | Preprocessing Step                                                                                                  |\n",
    "|------------------------------------|---------------------------------------------------------------------------------------------------------------------|\n",
    "| peak_intensity                     | Take the natural log                                                                                                |\n",
    "| CMEs_over_1000_past_9_hrs          | Map to 0-1 using min-max normalization                                                                               |\n",
    "| CMEs_past_9_hours                  | Map to 0-1 using min-max normalization                                                                               |\n",
    "| V log V                            | Map to 0-1 using min-max normalization                                                                               |\n",
    "| longitude                          | Map to 0-1 using min-max normalization                                                                               |\n",
    "| MPA                                | Map to 0-1 using min-max normalization                                                                               |\n",
    "| latitude                           | Map to 0-1 using min-max normalization                                                                               |\n",
    "| Acceleration (Accel)               | Map to 0-1 using min-max normalization                                                                               |\n",
    "| Linear Speed (donki_speed)         | Map to 0-1 using min-max normalization                                                                               |\n",
    "| Richardson's Equation              | Take the natural log, map to 0-1 using min-max normalization based on natural log                                    |\n",
    "| 2nd Order Speed Final              | Map to 0-1 using min-max normalization                                                                               |\n",
    "| 2nd Order Speed at 20 Solar Radii  | Map to 0-1 using min-max normalization                                                                               |\n",
    "| Max Speed Past Day                 | Map to 0-1 using min-max normalization                                                                               |\n",
    "| CMEs in the Past Month             | Map to 0-1 using min-max normalization                                                                               |\n",
    "| Daily Sunspot Count                | Map to 0-1 using min-max normalization                                                                               |\n",
    "| Half Width (donki_ha)              | Map to 0-1 using min-max normalization                                                                               |\n",
    "| CPA (Central_PA)                   | Map to 0-1 using min-max normalization                                                                               |\n",
    "| Diffusive Shock (V^V^2_replacement) | Take the natural log, map to 0-1 using min-max normalization based on natural log                                    |\n",
    "| Halo                               | No transformation (categorical)                                                                                      |\n",
    "| Type II Visualization Area         | If zero, map to 1. Take the natural log, then map to 0-1 using min-max normalization based on the natural log values |\n"
   ],
   "metadata": {
    "collapsed": false
   },
   "id": "ff8b8587d7e601cb"
  },
  {
   "cell_type": "code",
   "execution_count": 22,
   "outputs": [],
   "source": [
    "def updated_preprocess_data(df: pd.DataFrame) -> pd.DataFrame:\n",
    "    \"\"\"\n",
    "    Apply efficient preprocessing steps to the given dataframe based on the specified scheme table.\n",
    "    :param df (pd.DataFrame): Original dataframe with raw features.\n",
    "    :return pd.DataFrame: Dataframe with features processed according to the scheme table.\n",
    "    \"\"\"\n",
    "\n",
    "    # Preallocate a dictionary to store preprocessed data\n",
    "    preprocessed_data = {}\n",
    "\n",
    "        # Lambda function for min-max normalization\n",
    "    min_max_norm = lambda x: (x - x.min()) / (x.max() - x.min())\n",
    "\n",
    "    # Natural Log Transformations\n",
    "    preprocessed_data['log_peak_intensity'] = np.log(df['peak_intensity'])\n",
    "    preprocessed_data['log_richardson_formula_1.0_c'] = np.log(df['richardson_formula_1.0_c'])\n",
    "    preprocessed_data['log_V^V^2_replacement'] = np.log(df['V^V^2_replacement'])\n",
    "    preprocessed_data['log_Type_2_Area'] = df['Type_2_Area'].apply(lambda x: np.log(x) if x != 0 else np.log(1))\n",
    "\n",
    "    # Apply Min-Max normalization on all features, including the log-transformed ones\n",
    "    for feature, proper_name in {'V Log V': 'V log V',\n",
    "                                 'Linear Speed': 'donki_speed',\n",
    "                                 '2nd Order Speed Final': '2nd_order_speed_final',\n",
    "                                 '2nd Order Speed at 20 Solar Radii': '2nd_order_speed_20R',\n",
    "                                 'CMEs over 1000 km/s Past 9 Hrs': 'CMEs_over_1000_past_9_hrs',\n",
    "                                 'Max Speed Past Day': 'Max_speed_past_day',\n",
    "                                 'CMEs in the Past Month': 'CMEs_past_month',\n",
    "                                 'Longitude': 'longitude',\n",
    "                                 'MPA': 'MPA',\n",
    "                                 'Daily Sunspot Count': 'sunspots',\n",
    "                                 'Half Width': 'donki_ha',\n",
    "                                 'Latitude': 'latitude',\n",
    "                                 'Acceleration': 'Accel',\n",
    "                                 'CPA': 'Central_PA',\n",
    "                                 'CMEs in the Past 9 Hours': 'CMEs_past_9_hours'}.items():\n",
    "        preprocessed_data[f\"{feature}_norm\"] = min_max_norm(df[proper_name])\n",
    "\n",
    "    # Apply min-max normalization to log-transformed features\n",
    "    preprocessed_data['log_richardson_formula_1.0_c_norm'] = min_max_norm(preprocessed_data['log_richardson_formula_1.0_c'])\n",
    "    preprocessed_data['log_V^V^2_replacement_norm'] = min_max_norm(preprocessed_data['log_V^V^2_replacement'])\n",
    "    preprocessed_data['log_Type_2_Area_norm'] = min_max_norm(preprocessed_data['log_Type_2_Area'])\n",
    "\n",
    "    # No transformation for 'Halo'\n",
    "    preprocessed_data['HALO'] = df['HALO']\n",
    "    \n",
    "    # drop log_richardson_formula_1.0_c, log_V^V^2_replacement, log_Type_2_Area because they are not needed anymore\n",
    "    preprocessed_data.pop('log_richardson_formula_1.0_c')\n",
    "    preprocessed_data.pop('log_V^V^2_replacement')\n",
    "    preprocessed_data.pop('log_Type_2_Area')\n",
    "\n",
    "    return pd.DataFrame(preprocessed_data)\n"
   ],
   "metadata": {
    "collapsed": false,
    "ExecuteTime": {
     "end_time": "2023-09-27T03:27:45.966210Z",
     "start_time": "2023-09-27T03:27:45.814218800Z"
    }
   },
   "id": "4ada94d42f0deb73"
  },
  {
   "cell_type": "code",
   "execution_count": 23,
   "outputs": [
    {
     "data": {
      "text/plain": "   log_peak_intensity  V Log V_norm  Linear Speed_norm  \\\n0            0.302585      0.427577           0.528689   \n1            0.302585      0.131308           0.216803   \n2            0.302585      0.224746           0.331967   \n3            0.302585      0.085371           0.158197   \n4            0.302585      0.089887           0.114754   \n\n   2nd Order Speed Final_norm  2nd Order Speed at 20 Solar Radii_norm  \\\n0                    0.458900                                0.360515   \n1                    0.234628                                0.187500   \n2                    0.155987                                0.117489   \n3                    0.099676                                0.083423   \n4                    0.143689                                0.108369   \n\n   CMEs over 1000 km/s Past 9 Hrs_norm  Max Speed Past Day_norm  \\\n0                                  0.0                   0.1260   \n1                                  0.0                   0.0000   \n2                                  0.0                   0.2192   \n3                                  0.0                   0.1132   \n4                                  0.0                   0.2600   \n\n   CMEs in the Past Month_norm  Longitude_norm  MPA_norm  \\\n0                       0.4500        0.861111  0.947222   \n1                       0.4125        0.216667  0.144444   \n2                       0.7625        0.241667  0.311111   \n3                       0.3875        0.130556  0.227778   \n4                       0.4250        0.247222  0.061111   \n\n   Daily Sunspot Count_norm  Half Width_norm  Latitude_norm  \\\n0                  0.281407         0.344828       0.831461   \n1                  0.447236         0.091954       0.713483   \n2                  0.688442         0.195402       0.393258   \n3                  0.336683         0.264368       0.460674   \n4                  0.623116         0.287356       0.882022   \n\n   Acceleration_norm  CPA_norm  CMEs in the Past 9 Hours_norm  \\\n0           0.275717  0.947222                       0.000000   \n1           0.271304  0.130556                       0.000000   \n2           0.219187  0.247222                       0.166667   \n3           0.251445  0.252778                       0.000000   \n4           0.256699  0.061111                       0.000000   \n\n   log_richardson_formula_1.0_c_norm  log_V^V^2_replacement_norm  \\\n0                           0.986491                    0.984903   \n1                           0.639191                    0.407046   \n2                           0.855708                    0.907368   \n3                           0.879719                    0.360678   \n4                           0.957720                    0.315152   \n\n   log_Type_2_Area_norm  HALO  \n0                   0.0   0.0  \n1                   0.0   0.0  \n2                   0.0   0.0  \n3                   0.0   0.0  \n4                   0.0   0.0  ",
      "text/html": "<div>\n<style scoped>\n    .dataframe tbody tr th:only-of-type {\n        vertical-align: middle;\n    }\n\n    .dataframe tbody tr th {\n        vertical-align: top;\n    }\n\n    .dataframe thead th {\n        text-align: right;\n    }\n</style>\n<table border=\"1\" class=\"dataframe\">\n  <thead>\n    <tr style=\"text-align: right;\">\n      <th></th>\n      <th>log_peak_intensity</th>\n      <th>V Log V_norm</th>\n      <th>Linear Speed_norm</th>\n      <th>2nd Order Speed Final_norm</th>\n      <th>2nd Order Speed at 20 Solar Radii_norm</th>\n      <th>CMEs over 1000 km/s Past 9 Hrs_norm</th>\n      <th>Max Speed Past Day_norm</th>\n      <th>CMEs in the Past Month_norm</th>\n      <th>Longitude_norm</th>\n      <th>MPA_norm</th>\n      <th>Daily Sunspot Count_norm</th>\n      <th>Half Width_norm</th>\n      <th>Latitude_norm</th>\n      <th>Acceleration_norm</th>\n      <th>CPA_norm</th>\n      <th>CMEs in the Past 9 Hours_norm</th>\n      <th>log_richardson_formula_1.0_c_norm</th>\n      <th>log_V^V^2_replacement_norm</th>\n      <th>log_Type_2_Area_norm</th>\n      <th>HALO</th>\n    </tr>\n  </thead>\n  <tbody>\n    <tr>\n      <th>0</th>\n      <td>0.302585</td>\n      <td>0.427577</td>\n      <td>0.528689</td>\n      <td>0.458900</td>\n      <td>0.360515</td>\n      <td>0.0</td>\n      <td>0.1260</td>\n      <td>0.4500</td>\n      <td>0.861111</td>\n      <td>0.947222</td>\n      <td>0.281407</td>\n      <td>0.344828</td>\n      <td>0.831461</td>\n      <td>0.275717</td>\n      <td>0.947222</td>\n      <td>0.000000</td>\n      <td>0.986491</td>\n      <td>0.984903</td>\n      <td>0.0</td>\n      <td>0.0</td>\n    </tr>\n    <tr>\n      <th>1</th>\n      <td>0.302585</td>\n      <td>0.131308</td>\n      <td>0.216803</td>\n      <td>0.234628</td>\n      <td>0.187500</td>\n      <td>0.0</td>\n      <td>0.0000</td>\n      <td>0.4125</td>\n      <td>0.216667</td>\n      <td>0.144444</td>\n      <td>0.447236</td>\n      <td>0.091954</td>\n      <td>0.713483</td>\n      <td>0.271304</td>\n      <td>0.130556</td>\n      <td>0.000000</td>\n      <td>0.639191</td>\n      <td>0.407046</td>\n      <td>0.0</td>\n      <td>0.0</td>\n    </tr>\n    <tr>\n      <th>2</th>\n      <td>0.302585</td>\n      <td>0.224746</td>\n      <td>0.331967</td>\n      <td>0.155987</td>\n      <td>0.117489</td>\n      <td>0.0</td>\n      <td>0.2192</td>\n      <td>0.7625</td>\n      <td>0.241667</td>\n      <td>0.311111</td>\n      <td>0.688442</td>\n      <td>0.195402</td>\n      <td>0.393258</td>\n      <td>0.219187</td>\n      <td>0.247222</td>\n      <td>0.166667</td>\n      <td>0.855708</td>\n      <td>0.907368</td>\n      <td>0.0</td>\n      <td>0.0</td>\n    </tr>\n    <tr>\n      <th>3</th>\n      <td>0.302585</td>\n      <td>0.085371</td>\n      <td>0.158197</td>\n      <td>0.099676</td>\n      <td>0.083423</td>\n      <td>0.0</td>\n      <td>0.1132</td>\n      <td>0.3875</td>\n      <td>0.130556</td>\n      <td>0.227778</td>\n      <td>0.336683</td>\n      <td>0.264368</td>\n      <td>0.460674</td>\n      <td>0.251445</td>\n      <td>0.252778</td>\n      <td>0.000000</td>\n      <td>0.879719</td>\n      <td>0.360678</td>\n      <td>0.0</td>\n      <td>0.0</td>\n    </tr>\n    <tr>\n      <th>4</th>\n      <td>0.302585</td>\n      <td>0.089887</td>\n      <td>0.114754</td>\n      <td>0.143689</td>\n      <td>0.108369</td>\n      <td>0.0</td>\n      <td>0.2600</td>\n      <td>0.4250</td>\n      <td>0.247222</td>\n      <td>0.061111</td>\n      <td>0.623116</td>\n      <td>0.287356</td>\n      <td>0.882022</td>\n      <td>0.256699</td>\n      <td>0.061111</td>\n      <td>0.000000</td>\n      <td>0.957720</td>\n      <td>0.315152</td>\n      <td>0.0</td>\n      <td>0.0</td>\n    </tr>\n  </tbody>\n</table>\n</div>"
     },
     "execution_count": 23,
     "metadata": {},
     "output_type": "execute_result"
    }
   ],
   "source": [
    "# Apply the updated preprocessing\n",
    "updated_preprocessed_data = updated_preprocess_data(original_data)\n",
    "updated_preprocessed_data.head()"
   ],
   "metadata": {
    "collapsed": false,
    "ExecuteTime": {
     "end_time": "2023-09-27T03:27:48.478944800Z",
     "start_time": "2023-09-27T03:27:48.430446200Z"
    }
   },
   "id": "c550cc45b139372a"
  },
  {
   "cell_type": "code",
   "execution_count": 24,
   "outputs": [
    {
     "data": {
      "text/plain": "                                            amin      amax\nlog_peak_intensity                      0.302585  8.732079\nV Log V_norm                            0.000000  1.000000\nLinear Speed_norm                       0.000000  1.000000\n2nd Order Speed Final_norm              0.000000  1.000000\n2nd Order Speed at 20 Solar Radii_norm  0.000000  1.000000\nCMEs over 1000 km/s Past 9 Hrs_norm     0.000000  1.000000\nMax Speed Past Day_norm                 0.000000  1.000000\nCMEs in the Past Month_norm             0.000000  1.000000\nLongitude_norm                          0.000000  1.000000\nMPA_norm                                0.000000  1.000000\nDaily Sunspot Count_norm                0.000000  1.000000\nHalf Width_norm                         0.000000  1.000000\nLatitude_norm                           0.000000  1.000000\nAcceleration_norm                       0.000000  1.000000\nCPA_norm                                0.000000  1.000000\nCMEs in the Past 9 Hours_norm           0.000000  1.000000\nlog_richardson_formula_1.0_c_norm       0.000000  1.000000\nlog_V^V^2_replacement_norm              0.000000  1.000000\nlog_Type_2_Area_norm                    0.000000  1.000000\nHALO                                    0.000000  1.000000",
      "text/html": "<div>\n<style scoped>\n    .dataframe tbody tr th:only-of-type {\n        vertical-align: middle;\n    }\n\n    .dataframe tbody tr th {\n        vertical-align: top;\n    }\n\n    .dataframe thead th {\n        text-align: right;\n    }\n</style>\n<table border=\"1\" class=\"dataframe\">\n  <thead>\n    <tr style=\"text-align: right;\">\n      <th></th>\n      <th>amin</th>\n      <th>amax</th>\n    </tr>\n  </thead>\n  <tbody>\n    <tr>\n      <th>log_peak_intensity</th>\n      <td>0.302585</td>\n      <td>8.732079</td>\n    </tr>\n    <tr>\n      <th>V Log V_norm</th>\n      <td>0.000000</td>\n      <td>1.000000</td>\n    </tr>\n    <tr>\n      <th>Linear Speed_norm</th>\n      <td>0.000000</td>\n      <td>1.000000</td>\n    </tr>\n    <tr>\n      <th>2nd Order Speed Final_norm</th>\n      <td>0.000000</td>\n      <td>1.000000</td>\n    </tr>\n    <tr>\n      <th>2nd Order Speed at 20 Solar Radii_norm</th>\n      <td>0.000000</td>\n      <td>1.000000</td>\n    </tr>\n    <tr>\n      <th>CMEs over 1000 km/s Past 9 Hrs_norm</th>\n      <td>0.000000</td>\n      <td>1.000000</td>\n    </tr>\n    <tr>\n      <th>Max Speed Past Day_norm</th>\n      <td>0.000000</td>\n      <td>1.000000</td>\n    </tr>\n    <tr>\n      <th>CMEs in the Past Month_norm</th>\n      <td>0.000000</td>\n      <td>1.000000</td>\n    </tr>\n    <tr>\n      <th>Longitude_norm</th>\n      <td>0.000000</td>\n      <td>1.000000</td>\n    </tr>\n    <tr>\n      <th>MPA_norm</th>\n      <td>0.000000</td>\n      <td>1.000000</td>\n    </tr>\n    <tr>\n      <th>Daily Sunspot Count_norm</th>\n      <td>0.000000</td>\n      <td>1.000000</td>\n    </tr>\n    <tr>\n      <th>Half Width_norm</th>\n      <td>0.000000</td>\n      <td>1.000000</td>\n    </tr>\n    <tr>\n      <th>Latitude_norm</th>\n      <td>0.000000</td>\n      <td>1.000000</td>\n    </tr>\n    <tr>\n      <th>Acceleration_norm</th>\n      <td>0.000000</td>\n      <td>1.000000</td>\n    </tr>\n    <tr>\n      <th>CPA_norm</th>\n      <td>0.000000</td>\n      <td>1.000000</td>\n    </tr>\n    <tr>\n      <th>CMEs in the Past 9 Hours_norm</th>\n      <td>0.000000</td>\n      <td>1.000000</td>\n    </tr>\n    <tr>\n      <th>log_richardson_formula_1.0_c_norm</th>\n      <td>0.000000</td>\n      <td>1.000000</td>\n    </tr>\n    <tr>\n      <th>log_V^V^2_replacement_norm</th>\n      <td>0.000000</td>\n      <td>1.000000</td>\n    </tr>\n    <tr>\n      <th>log_Type_2_Area_norm</th>\n      <td>0.000000</td>\n      <td>1.000000</td>\n    </tr>\n    <tr>\n      <th>HALO</th>\n      <td>0.000000</td>\n      <td>1.000000</td>\n    </tr>\n  </tbody>\n</table>\n</div>"
     },
     "execution_count": 24,
     "metadata": {},
     "output_type": "execute_result"
    }
   ],
   "source": [
    "# Calculate the new min and max for each of the new columns in the preprocessed data\n",
    "updated_min_max_values = updated_preprocessed_data.agg([np.min, np.max]).T\n",
    "updated_min_max_values\n"
   ],
   "metadata": {
    "collapsed": false,
    "ExecuteTime": {
     "end_time": "2023-09-27T03:27:51.791733200Z",
     "start_time": "2023-09-27T03:27:51.752737200Z"
    }
   },
   "id": "f9ba5358137211da"
  },
  {
   "cell_type": "code",
   "execution_count": 25,
   "outputs": [],
   "source": [
    "# Define the function to save the DataFrame to a CSV file\n",
    "def save_dataframe_to_csv(df, file_path):\n",
    "    \"\"\"\n",
    "    Save a given DataFrame to a CSV file at the specified file path.\n",
    "    \n",
    "    Parameters:\n",
    "        df (pd.DataFrame): DataFrame to save.\n",
    "        file_path (str): The file path where the DataFrame should be saved.\n",
    "    \"\"\"\n",
    "    df.to_csv(file_path, index=False)\n",
    "\n",
    "\n",
    "# Define the file path for saving the updated preprocessed data\n",
    "file_path_to_save = '../cme_and_electron/cme_josias_10MeV.csv'\n",
    "\n",
    "# Save the DataFrame to a CSV file\n",
    "save_dataframe_to_csv(updated_preprocessed_data, file_path_to_save)"
   ],
   "metadata": {
    "collapsed": false,
    "ExecuteTime": {
     "end_time": "2023-09-27T03:28:14.291128900Z",
     "start_time": "2023-09-27T03:28:14.210130Z"
    }
   },
   "id": "b1dd587fa2d6b414"
  },
  {
   "cell_type": "code",
   "execution_count": 7,
   "outputs": [
    {
     "data": {
      "text/plain": "8.732078739083455"
     },
     "execution_count": 7,
     "metadata": {},
     "output_type": "execute_result"
    }
   ],
   "source": [
    "# max_peak_intensity = 6198.6\n",
    "# log_peak_intensity_max = np.log(max_peak_intensity)\n",
    "# log_peak_intensity_max"
   ],
   "metadata": {
    "collapsed": false,
    "ExecuteTime": {
     "end_time": "2023-09-26T19:25:00.273249800Z",
     "start_time": "2023-09-26T19:25:00.202752200Z"
    }
   },
   "id": "fba4e5990504ae40"
  },
  {
   "cell_type": "code",
   "execution_count": 9,
   "outputs": [],
   "source": [
    "# def reverse_log_peak_intensity_norm(log_peak_intensity_norm, log_peak_intensity_max=8.732078739083455, in_log=False):\n",
    "#     \"\"\"\n",
    "#     Reverse the normalization of log_peak_intensity_norm to obtain either peak_intensity or log_peak_intensity.\n",
    "#     \n",
    "#     Parameters:\n",
    "#     - log_peak_intensity_norm (float or np.ndarray): The normalized log of peak intensity to be reversed.\n",
    "#     - log_peak_intensity_max (float): The maximum value of the log of the original peak intensity.\n",
    "#     - in_log (bool): If True, returns the log of the peak intensity. Otherwise, returns the peak intensity itself.\n",
    "#     \n",
    "#     Returns:\n",
    "#     - float or np.ndarray: The reversed peak intensity or its log, depending on the value of in_log.\n",
    "#     \"\"\"\n",
    "#     # Reverse normalization to get log_peak_intensity\n",
    "#     log_peak_intensity = log_peak_intensity_norm * log_peak_intensity_max\n",
    "# \n",
    "#     if in_log:\n",
    "#         return log_peak_intensity\n",
    "#     else:\n",
    "#         # Exponentiate to get back to peak_intensity\n",
    "#         return np.exp(log_peak_intensity)"
   ],
   "metadata": {
    "collapsed": false,
    "ExecuteTime": {
     "end_time": "2023-09-26T19:26:25.070903500Z",
     "start_time": "2023-09-26T19:26:24.969413400Z"
    }
   },
   "id": "4fab7d9d8700b2c0"
  },
  {
   "cell_type": "code",
   "execution_count": 10,
   "outputs": [
    {
     "name": "stdout",
     "output_type": "stream",
     "text": [
      "1.3533528319798735\n"
     ]
    }
   ],
   "source": [
    "# print(reverse_log_peak_intensity_norm(0.034652126))"
   ],
   "metadata": {
    "collapsed": false,
    "ExecuteTime": {
     "end_time": "2023-09-26T19:26:27.384847700Z",
     "start_time": "2023-09-26T19:26:27.344349700Z"
    }
   },
   "id": "53230111f0f0be8"
  }
 ],
 "metadata": {
  "kernelspec": {
   "display_name": "Python 3",
   "language": "python",
   "name": "python3"
  },
  "language_info": {
   "codemirror_mode": {
    "name": "ipython",
    "version": 2
   },
   "file_extension": ".py",
   "mimetype": "text/x-python",
   "name": "python",
   "nbconvert_exporter": "python",
   "pygments_lexer": "ipython2",
   "version": "2.7.6"
  }
 },
 "nbformat": 4,
 "nbformat_minor": 5
}
