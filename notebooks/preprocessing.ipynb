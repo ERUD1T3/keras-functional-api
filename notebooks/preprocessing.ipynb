{
 "cells": [
  {
   "cell_type": "code",
   "execution_count": 1,
   "outputs": [],
   "source": [
    "import pandas as pd\n",
    "import numpy as np"
   ],
   "metadata": {
    "collapsed": false,
    "ExecuteTime": {
     "end_time": "2023-10-24T19:10:45.862961900Z",
     "start_time": "2023-10-24T19:10:45.389961400Z"
    }
   },
   "id": "fd3bbe0b3382a620"
  },
  {
   "cell_type": "code",
   "execution_count": 2,
   "outputs": [],
   "source": [
    "# Load the original data again\n",
    "original_data = pd.read_csv(\"../cme_and_electron/new_data/features_data_full.csv\")"
   ],
   "metadata": {
    "collapsed": false,
    "ExecuteTime": {
     "end_time": "2023-10-24T19:10:48.978376800Z",
     "start_time": "2023-10-24T19:10:48.922377300Z"
    }
   },
   "id": "60077859ed46edd1"
  },
  {
   "cell_type": "markdown",
   "source": [
    "| Feature/Target Variable        | Preprocessing Step                                                                 |\n",
    "|-------------------------------|------------------------------------------------------------------------------------|\n",
    "| peak_intensity                 | Take the natural log, then divide by the max of the natural log                    |\n",
    "| CMEs_over_1000_past_9_hrs      | Divide by max (2)                                                                  |\n",
    "| CMEs_past_9_hours              | Divide by max (6)                                                                  |\n",
    "| V log V                        | Take the natural log, then divide by the max of the natural log                     |\n",
    "| longitude                      | Normalize to range \\([-1, 1]\\) by dividing by 180                                  |\n",
    "| MPA                            | Normalize to range \\([0, 1]\\) by dividing by 360                                   |\n",
    "| latitude                       | Normalize to range \\([-1, 1]\\) by dividing by 90                                   |\n",
    "| Acceleration (Accel)           | Divide by max                                                                      |\n",
    "| Linear Speed (donki_speed)     | Divide by max                                                                      |\n",
    "| Richardson's Equation          | Take the natural log, then divide by the absolute value of the min of the natural log |\n",
    "| 2nd Order Speed Final          | Divide by max                                                                      |\n",
    "| 2nd Order Speed at 20 Solar Radii | Divide by max                                                              |\n",
    "| Max Speed Past Day             | Divide by max                                                                      |\n",
    "| CMEs in the Past Month         | Divide by max                                                                      |\n",
    "| Daily Sunspot Count            | Divide by max                                                                      |\n",
    "| Half Width (donki_ha)          | Divide by max                                                                      |\n",
    "| CPA (Central_PA)               | Divide by max                                                                      |\n",
    "| Diffusive Shock (V^V^2_replacement) | Take the natural log, then divide by the absolute value of the min of the natural log |\n",
    "| Halo                           | No transformation (categorical)                                                    |\n",
    "| Type II Visualization Area     | If zero, leave as zero. Else, take the natural log, then divide by the max of the natural log |"
   ],
   "metadata": {
    "collapsed": false
   },
   "id": "4e9f8f04adf10103"
  },
  {
   "cell_type": "code",
   "execution_count": 13,
   "outputs": [],
   "source": [
    "# # Define the updated preprocessing functions based on the new table\n",
    "# def updated_preprocess_data(df):\n",
    "#     new_data = pd.DataFrame()\n",
    "# \n",
    "#     # Apply transformations as specified in the updated table\n",
    "#     log_peak_intensity_max = np.log(df['peak_intensity']).max()\n",
    "#     new_data['log_peak_intensity_norm'] = np.log(df['peak_intensity']) / log_peak_intensity_max\n",
    "# \n",
    "#     new_data['CMEs_over_1000_past_9_hrs_norm'] = df['CMEs_over_1000_past_9_hrs'] / 2\n",
    "#     new_data['CMEs_past_9_hours_norm'] = df['CMEs_past_9_hours'] / 6\n",
    "# \n",
    "#     log_v_log_v_max = np.log(df['V log V']).max()\n",
    "#     new_data['log_V_log_V_norm'] = np.log(df['V log V']) / log_v_log_v_max\n",
    "# \n",
    "#     new_data['longitude_norm'] = df['longitude'] / 180\n",
    "#     new_data['MPA_norm'] = df['MPA'] / 360\n",
    "#     new_data['latitude_norm'] = df['latitude'] / 90\n",
    "#     new_data['Accel_norm'] = df['Accel'] / df['Accel'].max()\n",
    "#     new_data['donki_speed_norm'] = df['donki_speed'] / df['donki_speed'].max()\n",
    "# \n",
    "#     # Take the natural log of the 'V^V^2_replacement' (Diffusive Shock) and 'richardson_formula_1.0_c' (Richardson's Equation)\n",
    "#     df['log_diffusive_shock'] = np.log(df['V^V^2_replacement'])\n",
    "#     df['log_richardson_formula'] = np.log(df['richardson_formula_1.0_c'])\n",
    "# \n",
    "#     # Find the absolute value of the minimum of these logged features\n",
    "#     abs_min_log_diffusive_shock = np.abs(df['log_diffusive_shock'].min())\n",
    "#     abs_min_log_richardson_formula = np.abs(df['log_richardson_formula'].min())\n",
    "# \n",
    "#     # Divide by the absolute value of the min\n",
    "#     new_data['log_diffusive_shock_norm'] = df['log_diffusive_shock'] / abs_min_log_diffusive_shock\n",
    "#     new_data['log_richardson_formula_norm'] = df['log_richardson_formula'] / abs_min_log_richardson_formula\n",
    "# \n",
    "#     new_data['2nd_order_speed_final_norm'] = df['2nd_order_speed_final'] / df['2nd_order_speed_final'].max()\n",
    "#     new_data['2nd_order_speed_20R_norm'] = df['2nd_order_speed_20R'] / df['2nd_order_speed_20R'].max()\n",
    "#     new_data['Max_speed_past_day_norm'] = df['Max_speed_past_day'] / df['Max_speed_past_day'].max()\n",
    "#     new_data['CMEs_past_month_norm'] = df['CMEs_past_month'] / df['CMEs_past_month'].max()\n",
    "#     new_data['sunspots_norm'] = df['sunspots'] / df['sunspots'].max()\n",
    "#     new_data['donki_ha_norm'] = df['donki_ha'] / df['donki_ha'].max()\n",
    "#     new_data['Central_PA_norm'] = df['Central_PA'] / df['Central_PA'].max()\n",
    "# \n",
    "#     new_data['HALO'] = df['HALO']\n",
    "# \n",
    "#     log_type_2_area_max = np.log(df[df['Type_2_Area'] > 0]['Type_2_Area']).max()\n",
    "#     new_data['log_Type_2_Area_norm'] = df['Type_2_Area'].apply(\n",
    "#         lambda x: 0 if x == 0 else np.log(x + 1) / log_type_2_area_max)\n",
    "# \n",
    "#     return new_data"
   ],
   "metadata": {
    "collapsed": false,
    "ExecuteTime": {
     "end_time": "2023-09-27T02:31:27.749474100Z",
     "start_time": "2023-09-27T02:31:27.707474700Z"
    }
   },
   "id": "d4b424e9cbbfe5d8"
  },
  {
   "cell_type": "markdown",
   "source": [
    "| Feature/Target Variable            | Preprocessing Step                                                                                                  |\n",
    "|------------------------------------|---------------------------------------------------------------------------------------------------------------------|\n",
    "| peak_intensity                     | Take the natural log                                                                                                |\n",
    "| CMEs_over_1000_past_9_hrs          | Map to 0-1 using min-max normalization                                                                               |\n",
    "| CMEs_past_9_hours                  | Map to 0-1 using min-max normalization                                                                               |\n",
    "| V log V                            | Map to 0-1 using min-max normalization                                                                               |\n",
    "| longitude                          | Map to 0-1 using min-max normalization                                                                               |\n",
    "| MPA                                | Map to 0-1 using min-max normalization                                                                               |\n",
    "| latitude                           | Map to 0-1 using min-max normalization                                                                               |\n",
    "| Acceleration (Accel)               | Map to 0-1 using min-max normalization                                                                               |\n",
    "| Linear Speed (donki_speed)         | Map to 0-1 using min-max normalization                                                                               |\n",
    "| Richardson's Equation              | Take the natural log, map to 0-1 using min-max normalization based on natural log                                    |\n",
    "| 2nd Order Speed Final              | Map to 0-1 using min-max normalization                                                                               |\n",
    "| 2nd Order Speed at 20 Solar Radii  | Map to 0-1 using min-max normalization                                                                               |\n",
    "| Max Speed Past Day                 | Map to 0-1 using min-max normalization                                                                               |\n",
    "| CMEs in the Past Month             | Map to 0-1 using min-max normalization                                                                               |\n",
    "| Daily Sunspot Count                | Map to 0-1 using min-max normalization                                                                               |\n",
    "| Half Width (donki_ha)              | Map to 0-1 using min-max normalization                                                                               |\n",
    "| CPA (Central_PA)                   | Map to 0-1 using min-max normalization                                                                               |\n",
    "| Diffusive Shock (V^V^2_replacement) | Take the natural log, map to 0-1 using min-max normalization based on natural log                                    |\n",
    "| Halo                               | No transformation (categorical)                                                                                      |\n",
    "| Type II Visualization Area         | If zero, map to 1. Take the natural log, then map to 0-1 using min-max normalization based on the natural log values |\n"
   ],
   "metadata": {
    "collapsed": false
   },
   "id": "ff8b8587d7e601cb"
  },
  {
   "cell_type": "code",
   "execution_count": 5,
   "outputs": [],
   "source": [
    "def updated_preprocess_data(df: pd.DataFrame) -> pd.DataFrame:\n",
    "    \"\"\"\n",
    "    Apply efficient preprocessing steps to the given dataframe based on the specified scheme table.\n",
    "    :param df (pd.DataFrame): Original dataframe with raw features.\n",
    "    :return pd.DataFrame: Dataframe with features processed according to the scheme table.\n",
    "    \"\"\"\n",
    "\n",
    "    # Preallocate a dictionary to store preprocessed data\n",
    "    preprocessed_data = {}\n",
    "\n",
    "        # Lambda function for min-max normalization\n",
    "    min_max_norm = lambda x: (x - x.min()) / (x.max() - x.min())\n",
    "\n",
    "    # Natural Log Transformations\n",
    "    preprocessed_data['log_peak_intensity'] = np.log(df['peak_intensity'])\n",
    "    preprocessed_data['log_richardson_value'] = np.log(df['richardson_value'])\n",
    "    preprocessed_data['log_diffusive_shock'] = np.log(df['diffusive_shock'])\n",
    "    preprocessed_data['log_Type2_Viz_Area'] = df['Type2_Viz_Area'].apply(lambda x: np.log(x) if x != 0 else np.log(1))\n",
    "\n",
    "    # Apply Min-Max normalization on all features, including the log-transformed ones\n",
    "    for feature, proper_name in {'V Log V': 'VlogV',\n",
    "                                 'Linear Speed': 'CME_DONKI_speed',\n",
    "                                 '2nd Order Speed Final': '2nd_order_speed_final',\n",
    "                                 '2nd Order Speed at 20 Solar Radii': '2nd_order_speed_20R',\n",
    "                                 'CMEs over 1000 km/s Past 9 Hrs': 'CMEs_with_speed_over_1000_in_past_9hours',\n",
    "                                 'Max Speed Past Day': 'max_CME_speed_in_past_day',\n",
    "                                 'CMEs in the Past Month': 'CMEs_in_past_month',\n",
    "                                 'Longitude': 'CME_DONKI_longitude',\n",
    "                                 'MPA': 'CME_CDAW_MPA',\n",
    "                                 'Daily Sunspot Count': 'daily_sunspots',\n",
    "                                 'Half Width': 'DONKI_half_width',\n",
    "                                 'Latitude': 'CME_DONKI_latitude',\n",
    "                                 'Acceleration': 'Accelaration',\n",
    "                                 'CPA': 'CPA',\n",
    "                                 'CMEs in the Past 9 Hours': 'CMEs_in_past_9hours'}.items():\n",
    "        preprocessed_data[f\"{feature}_norm\"] = min_max_norm(df[proper_name])\n",
    "\n",
    "    # Apply min-max normalization to log-transformed features\n",
    "    preprocessed_data['log_richardson_value_norm'] = min_max_norm(preprocessed_data['log_richardson_value'])\n",
    "    preprocessed_data['log_diffusive_shock_norm'] = min_max_norm(preprocessed_data['log_diffusive_shock'])\n",
    "    preprocessed_data['log_Type2_Viz_Area_norm'] = min_max_norm(preprocessed_data['log_Type2_Viz_Area'])\n",
    "\n",
    "    # No transformation for 'Halo'\n",
    "    preprocessed_data['Halo'] = df['Halo']\n",
    "    \n",
    "    # drop log_richardson_formula_1.0_c, log_V^V^2_replacement, log_Type_2_Area because they are not needed anymore\n",
    "    preprocessed_data.pop('log_richardson_value')\n",
    "    preprocessed_data.pop('log_diffusive_shock')\n",
    "    preprocessed_data.pop('log_Type2_Viz_Area')\n",
    "\n",
    "    return pd.DataFrame(preprocessed_data)\n"
   ],
   "metadata": {
    "collapsed": false,
    "ExecuteTime": {
     "end_time": "2023-10-24T19:11:52.719554700Z",
     "start_time": "2023-10-24T19:11:52.708554800Z"
    }
   },
   "id": "4ada94d42f0deb73"
  },
  {
   "cell_type": "code",
   "execution_count": 6,
   "outputs": [
    {
     "name": "stderr",
     "output_type": "stream",
     "text": [
      "C:\\Users\\the_3\\anaconda3\\envs\\aip\\lib\\site-packages\\pandas\\core\\arraylike.py:396: RuntimeWarning: invalid value encountered in log\n",
      "  result = getattr(ufunc, method)(*inputs, **kwargs)\n",
      "C:\\Users\\the_3\\anaconda3\\envs\\aip\\lib\\site-packages\\pandas\\core\\arraylike.py:396: RuntimeWarning: divide by zero encountered in log\n",
      "  result = getattr(ufunc, method)(*inputs, **kwargs)\n"
     ]
    },
    {
     "data": {
      "text/plain": "   log_peak_intensity  V Log V_norm  Linear Speed_norm  \\\n0             0.30262      0.167678           0.204380   \n1             0.30262      0.077094           0.160584   \n2             0.30262      0.146279           0.186131   \n3             0.30262      0.060073           0.206204   \n4             0.30262      0.020880           0.255474   \n\n   2nd Order Speed Final_norm  2nd Order Speed at 20 Solar Radii_norm  \\\n0                    0.212945                                0.177307   \n1                    0.155663                                0.116685   \n2                    0.164725                                0.146996   \n3                    0.176052                                0.119903   \n4                    0.032362                                0.000000   \n\n   CMEs over 1000 km/s Past 9 Hrs_norm  Max Speed Past Day_norm  \\\n0                                  0.0                 0.194085   \n1                                  0.0                 0.149723   \n2                                  0.0                 0.175601   \n3                                  0.0                 0.195933   \n4                                  0.0                 0.245841   \n\n   CMEs in the Past Month_norm  Longitude_norm  MPA_norm  \\\n0                     0.000000        0.522222  0.475000   \n1                     0.000000        0.825000  0.819444   \n2                     0.012987        0.277778  0.266667   \n3                     0.025974        0.597222  0.655556   \n4                     0.012987        0.438889  0.261111   \n\n   Daily Sunspot Count_norm  Half Width_norm  Latitude_norm  \\\n0                  0.120603         0.241379       0.533708   \n1                  0.125628         0.287356       0.589888   \n2                  0.090452         0.172414       0.421348   \n3                  0.065327         0.206897       0.471910   \n4                  0.120603         0.494253       0.533708   \n\n   Acceleration_norm  CPA_norm  CMEs in the Past 9 Hours_norm  \\\n0           0.251235  1.000000                            0.0   \n1           0.258590  0.816667                            0.0   \n2           0.245561  0.300000                            0.0   \n3           0.261427  0.663889                            0.0   \n4           0.236524  0.250000                            0.0   \n\n   log_richardson_value_norm  log_diffusive_shock_norm  \\\n0                        NaN                       NaN   \n1                        NaN                       NaN   \n2                        NaN                       NaN   \n3                        NaN                       NaN   \n4                        NaN                       NaN   \n\n   log_Type2_Viz_Area_norm  Halo  \n0                      0.0     1  \n1                      0.0     0  \n2                      0.0     0  \n3                      0.0     0  \n4                      0.0     0  ",
      "text/html": "<div>\n<style scoped>\n    .dataframe tbody tr th:only-of-type {\n        vertical-align: middle;\n    }\n\n    .dataframe tbody tr th {\n        vertical-align: top;\n    }\n\n    .dataframe thead th {\n        text-align: right;\n    }\n</style>\n<table border=\"1\" class=\"dataframe\">\n  <thead>\n    <tr style=\"text-align: right;\">\n      <th></th>\n      <th>log_peak_intensity</th>\n      <th>V Log V_norm</th>\n      <th>Linear Speed_norm</th>\n      <th>2nd Order Speed Final_norm</th>\n      <th>2nd Order Speed at 20 Solar Radii_norm</th>\n      <th>CMEs over 1000 km/s Past 9 Hrs_norm</th>\n      <th>Max Speed Past Day_norm</th>\n      <th>CMEs in the Past Month_norm</th>\n      <th>Longitude_norm</th>\n      <th>MPA_norm</th>\n      <th>Daily Sunspot Count_norm</th>\n      <th>Half Width_norm</th>\n      <th>Latitude_norm</th>\n      <th>Acceleration_norm</th>\n      <th>CPA_norm</th>\n      <th>CMEs in the Past 9 Hours_norm</th>\n      <th>log_richardson_value_norm</th>\n      <th>log_diffusive_shock_norm</th>\n      <th>log_Type2_Viz_Area_norm</th>\n      <th>Halo</th>\n    </tr>\n  </thead>\n  <tbody>\n    <tr>\n      <th>0</th>\n      <td>0.30262</td>\n      <td>0.167678</td>\n      <td>0.204380</td>\n      <td>0.212945</td>\n      <td>0.177307</td>\n      <td>0.0</td>\n      <td>0.194085</td>\n      <td>0.000000</td>\n      <td>0.522222</td>\n      <td>0.475000</td>\n      <td>0.120603</td>\n      <td>0.241379</td>\n      <td>0.533708</td>\n      <td>0.251235</td>\n      <td>1.000000</td>\n      <td>0.0</td>\n      <td>NaN</td>\n      <td>NaN</td>\n      <td>0.0</td>\n      <td>1</td>\n    </tr>\n    <tr>\n      <th>1</th>\n      <td>0.30262</td>\n      <td>0.077094</td>\n      <td>0.160584</td>\n      <td>0.155663</td>\n      <td>0.116685</td>\n      <td>0.0</td>\n      <td>0.149723</td>\n      <td>0.000000</td>\n      <td>0.825000</td>\n      <td>0.819444</td>\n      <td>0.125628</td>\n      <td>0.287356</td>\n      <td>0.589888</td>\n      <td>0.258590</td>\n      <td>0.816667</td>\n      <td>0.0</td>\n      <td>NaN</td>\n      <td>NaN</td>\n      <td>0.0</td>\n      <td>0</td>\n    </tr>\n    <tr>\n      <th>2</th>\n      <td>0.30262</td>\n      <td>0.146279</td>\n      <td>0.186131</td>\n      <td>0.164725</td>\n      <td>0.146996</td>\n      <td>0.0</td>\n      <td>0.175601</td>\n      <td>0.012987</td>\n      <td>0.277778</td>\n      <td>0.266667</td>\n      <td>0.090452</td>\n      <td>0.172414</td>\n      <td>0.421348</td>\n      <td>0.245561</td>\n      <td>0.300000</td>\n      <td>0.0</td>\n      <td>NaN</td>\n      <td>NaN</td>\n      <td>0.0</td>\n      <td>0</td>\n    </tr>\n    <tr>\n      <th>3</th>\n      <td>0.30262</td>\n      <td>0.060073</td>\n      <td>0.206204</td>\n      <td>0.176052</td>\n      <td>0.119903</td>\n      <td>0.0</td>\n      <td>0.195933</td>\n      <td>0.025974</td>\n      <td>0.597222</td>\n      <td>0.655556</td>\n      <td>0.065327</td>\n      <td>0.206897</td>\n      <td>0.471910</td>\n      <td>0.261427</td>\n      <td>0.663889</td>\n      <td>0.0</td>\n      <td>NaN</td>\n      <td>NaN</td>\n      <td>0.0</td>\n      <td>0</td>\n    </tr>\n    <tr>\n      <th>4</th>\n      <td>0.30262</td>\n      <td>0.020880</td>\n      <td>0.255474</td>\n      <td>0.032362</td>\n      <td>0.000000</td>\n      <td>0.0</td>\n      <td>0.245841</td>\n      <td>0.012987</td>\n      <td>0.438889</td>\n      <td>0.261111</td>\n      <td>0.120603</td>\n      <td>0.494253</td>\n      <td>0.533708</td>\n      <td>0.236524</td>\n      <td>0.250000</td>\n      <td>0.0</td>\n      <td>NaN</td>\n      <td>NaN</td>\n      <td>0.0</td>\n      <td>0</td>\n    </tr>\n  </tbody>\n</table>\n</div>"
     },
     "execution_count": 6,
     "metadata": {},
     "output_type": "execute_result"
    }
   ],
   "source": [
    "# Apply the updated preprocessing\n",
    "updated_preprocessed_data = updated_preprocess_data(original_data)\n",
    "updated_preprocessed_data.head()"
   ],
   "metadata": {
    "collapsed": false,
    "ExecuteTime": {
     "end_time": "2023-10-24T19:11:54.610070300Z",
     "start_time": "2023-10-24T19:11:54.530571900Z"
    }
   },
   "id": "c550cc45b139372a"
  },
  {
   "cell_type": "code",
   "execution_count": 24,
   "outputs": [
    {
     "data": {
      "text/plain": "                                            amin      amax\nlog_peak_intensity                      0.302585  8.732079\nV Log V_norm                            0.000000  1.000000\nLinear Speed_norm                       0.000000  1.000000\n2nd Order Speed Final_norm              0.000000  1.000000\n2nd Order Speed at 20 Solar Radii_norm  0.000000  1.000000\nCMEs over 1000 km/s Past 9 Hrs_norm     0.000000  1.000000\nMax Speed Past Day_norm                 0.000000  1.000000\nCMEs in the Past Month_norm             0.000000  1.000000\nLongitude_norm                          0.000000  1.000000\nMPA_norm                                0.000000  1.000000\nDaily Sunspot Count_norm                0.000000  1.000000\nHalf Width_norm                         0.000000  1.000000\nLatitude_norm                           0.000000  1.000000\nAcceleration_norm                       0.000000  1.000000\nCPA_norm                                0.000000  1.000000\nCMEs in the Past 9 Hours_norm           0.000000  1.000000\nlog_richardson_formula_1.0_c_norm       0.000000  1.000000\nlog_V^V^2_replacement_norm              0.000000  1.000000\nlog_Type_2_Area_norm                    0.000000  1.000000\nHALO                                    0.000000  1.000000",
      "text/html": "<div>\n<style scoped>\n    .dataframe tbody tr th:only-of-type {\n        vertical-align: middle;\n    }\n\n    .dataframe tbody tr th {\n        vertical-align: top;\n    }\n\n    .dataframe thead th {\n        text-align: right;\n    }\n</style>\n<table border=\"1\" class=\"dataframe\">\n  <thead>\n    <tr style=\"text-align: right;\">\n      <th></th>\n      <th>amin</th>\n      <th>amax</th>\n    </tr>\n  </thead>\n  <tbody>\n    <tr>\n      <th>log_peak_intensity</th>\n      <td>0.302585</td>\n      <td>8.732079</td>\n    </tr>\n    <tr>\n      <th>V Log V_norm</th>\n      <td>0.000000</td>\n      <td>1.000000</td>\n    </tr>\n    <tr>\n      <th>Linear Speed_norm</th>\n      <td>0.000000</td>\n      <td>1.000000</td>\n    </tr>\n    <tr>\n      <th>2nd Order Speed Final_norm</th>\n      <td>0.000000</td>\n      <td>1.000000</td>\n    </tr>\n    <tr>\n      <th>2nd Order Speed at 20 Solar Radii_norm</th>\n      <td>0.000000</td>\n      <td>1.000000</td>\n    </tr>\n    <tr>\n      <th>CMEs over 1000 km/s Past 9 Hrs_norm</th>\n      <td>0.000000</td>\n      <td>1.000000</td>\n    </tr>\n    <tr>\n      <th>Max Speed Past Day_norm</th>\n      <td>0.000000</td>\n      <td>1.000000</td>\n    </tr>\n    <tr>\n      <th>CMEs in the Past Month_norm</th>\n      <td>0.000000</td>\n      <td>1.000000</td>\n    </tr>\n    <tr>\n      <th>Longitude_norm</th>\n      <td>0.000000</td>\n      <td>1.000000</td>\n    </tr>\n    <tr>\n      <th>MPA_norm</th>\n      <td>0.000000</td>\n      <td>1.000000</td>\n    </tr>\n    <tr>\n      <th>Daily Sunspot Count_norm</th>\n      <td>0.000000</td>\n      <td>1.000000</td>\n    </tr>\n    <tr>\n      <th>Half Width_norm</th>\n      <td>0.000000</td>\n      <td>1.000000</td>\n    </tr>\n    <tr>\n      <th>Latitude_norm</th>\n      <td>0.000000</td>\n      <td>1.000000</td>\n    </tr>\n    <tr>\n      <th>Acceleration_norm</th>\n      <td>0.000000</td>\n      <td>1.000000</td>\n    </tr>\n    <tr>\n      <th>CPA_norm</th>\n      <td>0.000000</td>\n      <td>1.000000</td>\n    </tr>\n    <tr>\n      <th>CMEs in the Past 9 Hours_norm</th>\n      <td>0.000000</td>\n      <td>1.000000</td>\n    </tr>\n    <tr>\n      <th>log_richardson_formula_1.0_c_norm</th>\n      <td>0.000000</td>\n      <td>1.000000</td>\n    </tr>\n    <tr>\n      <th>log_V^V^2_replacement_norm</th>\n      <td>0.000000</td>\n      <td>1.000000</td>\n    </tr>\n    <tr>\n      <th>log_Type_2_Area_norm</th>\n      <td>0.000000</td>\n      <td>1.000000</td>\n    </tr>\n    <tr>\n      <th>HALO</th>\n      <td>0.000000</td>\n      <td>1.000000</td>\n    </tr>\n  </tbody>\n</table>\n</div>"
     },
     "execution_count": 24,
     "metadata": {},
     "output_type": "execute_result"
    }
   ],
   "source": [
    "# Calculate the new min and max for each of the new columns in the preprocessed data\n",
    "updated_min_max_values = updated_preprocessed_data.agg([np.min, np.max]).T\n",
    "updated_min_max_values\n"
   ],
   "metadata": {
    "collapsed": false,
    "ExecuteTime": {
     "end_time": "2023-09-27T03:27:51.791733200Z",
     "start_time": "2023-09-27T03:27:51.752737200Z"
    }
   },
   "id": "f9ba5358137211da"
  },
  {
   "cell_type": "code",
   "execution_count": 25,
   "outputs": [],
   "source": [
    "# Define the function to save the DataFrame to a CSV file\n",
    "def save_dataframe_to_csv(df, file_path):\n",
    "    \"\"\"\n",
    "    Save a given DataFrame to a CSV file at the specified file path.\n",
    "    \n",
    "    Parameters:\n",
    "        df (pd.DataFrame): DataFrame to save.\n",
    "        file_path (str): The file path where the DataFrame should be saved.\n",
    "    \"\"\"\n",
    "    df.to_csv(file_path, index=False)\n",
    "\n",
    "\n",
    "# Define the file path for saving the updated preprocessed data\n",
    "file_path_to_save = '../cme_and_electron/cme_josias_10MeV.csv'\n",
    "\n",
    "# Save the DataFrame to a CSV file\n",
    "save_dataframe_to_csv(updated_preprocessed_data, file_path_to_save)"
   ],
   "metadata": {
    "collapsed": false,
    "ExecuteTime": {
     "end_time": "2023-09-27T03:28:14.291128900Z",
     "start_time": "2023-09-27T03:28:14.210130Z"
    }
   },
   "id": "b1dd587fa2d6b414"
  },
  {
   "cell_type": "code",
   "execution_count": 7,
   "outputs": [
    {
     "data": {
      "text/plain": "8.732078739083455"
     },
     "execution_count": 7,
     "metadata": {},
     "output_type": "execute_result"
    }
   ],
   "source": [
    "# max_peak_intensity = 6198.6\n",
    "# log_peak_intensity_max = np.log(max_peak_intensity)\n",
    "# log_peak_intensity_max"
   ],
   "metadata": {
    "collapsed": false,
    "ExecuteTime": {
     "end_time": "2023-09-26T19:25:00.273249800Z",
     "start_time": "2023-09-26T19:25:00.202752200Z"
    }
   },
   "id": "fba4e5990504ae40"
  },
  {
   "cell_type": "code",
   "execution_count": 9,
   "outputs": [],
   "source": [
    "# def reverse_log_peak_intensity_norm(log_peak_intensity_norm, log_peak_intensity_max=8.732078739083455, in_log=False):\n",
    "#     \"\"\"\n",
    "#     Reverse the normalization of log_peak_intensity_norm to obtain either peak_intensity or log_peak_intensity.\n",
    "#     \n",
    "#     Parameters:\n",
    "#     - log_peak_intensity_norm (float or np.ndarray): The normalized log of peak intensity to be reversed.\n",
    "#     - log_peak_intensity_max (float): The maximum value of the log of the original peak intensity.\n",
    "#     - in_log (bool): If True, returns the log of the peak intensity. Otherwise, returns the peak intensity itself.\n",
    "#     \n",
    "#     Returns:\n",
    "#     - float or np.ndarray: The reversed peak intensity or its log, depending on the value of in_log.\n",
    "#     \"\"\"\n",
    "#     # Reverse normalization to get log_peak_intensity\n",
    "#     log_peak_intensity = log_peak_intensity_norm * log_peak_intensity_max\n",
    "# \n",
    "#     if in_log:\n",
    "#         return log_peak_intensity\n",
    "#     else:\n",
    "#         # Exponentiate to get back to peak_intensity\n",
    "#         return np.exp(log_peak_intensity)"
   ],
   "metadata": {
    "collapsed": false,
    "ExecuteTime": {
     "end_time": "2023-09-26T19:26:25.070903500Z",
     "start_time": "2023-09-26T19:26:24.969413400Z"
    }
   },
   "id": "4fab7d9d8700b2c0"
  },
  {
   "cell_type": "code",
   "execution_count": 10,
   "outputs": [
    {
     "name": "stdout",
     "output_type": "stream",
     "text": [
      "1.3533528319798735\n"
     ]
    }
   ],
   "source": [
    "# print(reverse_log_peak_intensity_norm(0.034652126))"
   ],
   "metadata": {
    "collapsed": false,
    "ExecuteTime": {
     "end_time": "2023-09-26T19:26:27.384847700Z",
     "start_time": "2023-09-26T19:26:27.344349700Z"
    }
   },
   "id": "53230111f0f0be8"
  }
 ],
 "metadata": {
  "kernelspec": {
   "display_name": "Python 3",
   "language": "python",
   "name": "python3"
  },
  "language_info": {
   "codemirror_mode": {
    "name": "ipython",
    "version": 2
   },
   "file_extension": ".py",
   "mimetype": "text/x-python",
   "name": "python",
   "nbconvert_exporter": "python",
   "pygments_lexer": "ipython2",
   "version": "2.7.6"
  }
 },
 "nbformat": 4,
 "nbformat_minor": 5
}
