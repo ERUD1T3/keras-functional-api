{
 "cells": [
  {
   "cell_type": "markdown",
   "source": [
    "# For manipulating data and combining electron and cme data"
   ],
   "metadata": {
    "collapsed": false
   },
   "id": "7b8ba8ca8fa8e073"
  },
  {
   "cell_type": "code",
   "execution_count": 1,
   "id": "6ce6a475b0212af0",
   "metadata": {
    "collapsed": true,
    "ExecuteTime": {
     "end_time": "2023-08-24T01:00:42.700892300Z",
     "start_time": "2023-08-24T01:00:42.232392Z"
    }
   },
   "outputs": [],
   "source": [
    "import pandas as pd\n",
    "from typing import Union"
   ]
  },
  {
   "cell_type": "code",
   "execution_count": null,
   "outputs": [],
   "source": [
    "\n",
    "def read_csv_file(file_path: str, delimiter: str = ',', header: Union[int, str] = 'infer', encoding: str = 'utf-8') -> pd.DataFrame:\n",
    "    \"\"\"\n",
    "    Reads a CSV file and returns it as a pandas DataFrame.\n",
    "\n",
    "    :param file_path: The path to the CSV file.\n",
    "    :param delimiter: Character that separates the fields in the CSV file. Default is ','.\n",
    "    :param header: Index of the row containing the header (column names), or 'infer' to infer it as the first line, or None if no header. Default is 'infer'.\n",
    "    :param encoding: The encoding of the CSV file. Default is 'utf-8'.\n",
    "    :return: A pandas DataFrame containing the content of the CSV file.\n",
    "    \"\"\"\n",
    "    return pd.read_csv(file_path, delimiter=delimiter, header=header, encoding=encoding)\n"
   ],
   "metadata": {
    "collapsed": false
   },
   "id": "initial_id"
  }
 ],
 "metadata": {
  "kernelspec": {
   "display_name": "Python 3",
   "language": "python",
   "name": "python3"
  },
  "language_info": {
   "codemirror_mode": {
    "name": "ipython",
    "version": 2
   },
   "file_extension": ".py",
   "mimetype": "text/x-python",
   "name": "python",
   "nbconvert_exporter": "python",
   "pygments_lexer": "ipython2",
   "version": "2.7.6"
  }
 },
 "nbformat": 4,
 "nbformat_minor": 5
}
