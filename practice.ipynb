{
 "cells": [
  {
   "cell_type": "markdown",
   "source": [
    "# Practice on Keras Functional API"
   ],
   "metadata": {
    "collapsed": false
   },
   "id": "db106a0ce89886c6"
  },
  {
   "cell_type": "code",
   "execution_count": 1,
   "id": "initial_id",
   "metadata": {
    "collapsed": true,
    "ExecuteTime": {
     "end_time": "2023-08-13T23:57:41.533162400Z",
     "start_time": "2023-08-13T23:57:38.628162400Z"
    }
   },
   "outputs": [],
   "source": [
    "# imports\n",
    "import keras\n",
    "from keras import layers\n",
    "from keras import backend as K\n",
    "import numpy as np"
   ]
  },
  {
   "cell_type": "code",
   "execution_count": 2,
   "outputs": [],
   "source": [
    "# mnist dataset\n",
    "# loading training MNIST dataset\n",
    "(x_train, y_train), (x_test, y_test) = keras.datasets.mnist.load_data()\n",
    "# reshaping and normalizing the images\n",
    "x_train = x_train.reshape(60000, 784).astype('float32')/255  \n",
    "x_test = x_test.reshape(10000, 784).astype('float32')/255\n",
    "# one-hot encoding of labels\n",
    "y_train = keras.utils.to_categorical(y_train, 10)\n",
    "y_test = keras.utils.to_categorical(y_test, 10)\n"
   ],
   "metadata": {
    "collapsed": false,
    "ExecuteTime": {
     "end_time": "2023-08-13T23:57:41.852662800Z",
     "start_time": "2023-08-13T23:57:41.529663600Z"
    }
   },
   "id": "a51d67e12619bd7d"
  },
  {
   "cell_type": "code",
   "execution_count": 3,
   "outputs": [
    {
     "name": "stdout",
     "output_type": "stream",
     "text": [
      "Model: \"model_2\"\n",
      "_________________________________________________________________\n",
      " Layer (type)                Output Shape              Param #   \n",
      "=================================================================\n",
      " input (InputLayer)          [(None, 784)]             0         \n",
      "                                                                 \n",
      " hidden1 (Dense)             (None, 64)                50240     \n",
      "                                                                 \n",
      " hidden2 (Dense)             (None, 64)                4160      \n",
      "                                                                 \n",
      " output (Dense)              (None, 10)                650       \n",
      "                                                                 \n",
      "=================================================================\n",
      "Total params: 55050 (215.04 KB)\n",
      "Trainable params: 55050 (215.04 KB)\n",
      "Non-trainable params: 0 (0.00 Byte)\n",
      "_________________________________________________________________\n"
     ]
    }
   ],
   "source": [
    "# building the model\n",
    "def build_model():\n",
    "    inputs = keras.Input(shape=(784,), name='input')  # input layer\n",
    "    x = layers.Dense(64, activation='relu', name='hidden1')(inputs)  # hidden layer\n",
    "    x = layers.Dense(64, activation='relu', name='hidden2')(x)  # hidden layer\n",
    "    outputs = layers.Dense(10, activation='softmax', name='output')(x)  # output layer\n",
    "    return keras.Model(inputs=inputs, outputs=outputs)\n",
    "\n",
    "model_ce = build_model()\n",
    "model_fl = build_model()\n",
    "model_rl = build_model()\n",
    "\n",
    "model_rl.summary()"
   ],
   "metadata": {
    "collapsed": false,
    "ExecuteTime": {
     "end_time": "2023-08-13T23:57:42.021662600Z",
     "start_time": "2023-08-13T23:57:41.858164100Z"
    }
   },
   "id": "5a49bafd834711d3"
  },
  {
   "cell_type": "code",
   "execution_count": 4,
   "outputs": [],
   "source": [
    "optimizer = keras.optimizers.SGD()\n",
    "ce_loss = keras.losses.CategoricalCrossentropy()\n",
    "metrics = [keras.metrics.CategoricalAccuracy()]"
   ],
   "metadata": {
    "collapsed": false,
    "ExecuteTime": {
     "end_time": "2023-08-13T23:57:42.080661600Z",
     "start_time": "2023-08-13T23:57:42.007662700Z"
    }
   },
   "id": "74658d8b5c82aac1"
  },
  {
   "cell_type": "code",
   "execution_count": 5,
   "outputs": [],
   "source": [
    "# compiling the model\n",
    "model_ce.compile(optimizer=optimizer, loss=ce_loss, metrics=metrics)"
   ],
   "metadata": {
    "collapsed": false,
    "ExecuteTime": {
     "end_time": "2023-08-13T23:57:42.126661500Z",
     "start_time": "2023-08-13T23:57:42.024163600Z"
    }
   },
   "id": "56dd4c8e1e7c8e9a"
  },
  {
   "cell_type": "code",
   "execution_count": 6,
   "outputs": [
    {
     "name": "stdout",
     "output_type": "stream",
     "text": [
      "Epoch 1/6\n",
      "750/750 [==============================] - 2s 2ms/step - loss: 1.1273 - categorical_accuracy: 0.7125 - val_loss: 0.4749 - val_categorical_accuracy: 0.8783\n",
      "Epoch 2/6\n",
      "750/750 [==============================] - 1s 2ms/step - loss: 0.4201 - categorical_accuracy: 0.8838 - val_loss: 0.3400 - val_categorical_accuracy: 0.9058\n",
      "Epoch 3/6\n",
      "750/750 [==============================] - 1s 2ms/step - loss: 0.3410 - categorical_accuracy: 0.9023 - val_loss: 0.3004 - val_categorical_accuracy: 0.9138\n",
      "Epoch 4/6\n",
      "750/750 [==============================] - 1s 2ms/step - loss: 0.3050 - categorical_accuracy: 0.9128 - val_loss: 0.2768 - val_categorical_accuracy: 0.9206\n",
      "Epoch 5/6\n",
      "750/750 [==============================] - 1s 2ms/step - loss: 0.2811 - categorical_accuracy: 0.9198 - val_loss: 0.2604 - val_categorical_accuracy: 0.9251\n",
      "Epoch 6/6\n",
      "750/750 [==============================] - 1s 2ms/step - loss: 0.2622 - categorical_accuracy: 0.9254 - val_loss: 0.2430 - val_categorical_accuracy: 0.9299\n"
     ]
    },
    {
     "data": {
      "text/plain": "<keras.src.callbacks.History at 0x1f9addd9370>"
     },
     "execution_count": 6,
     "metadata": {},
     "output_type": "execute_result"
    }
   ],
   "source": [
    "# training the model\n",
    "model_ce.fit(x_train, y_train, batch_size=64, epochs=6, validation_split=0.2)"
   ],
   "metadata": {
    "collapsed": false,
    "ExecuteTime": {
     "end_time": "2023-08-13T23:57:50.649662700Z",
     "start_time": "2023-08-13T23:57:42.040161800Z"
    }
   },
   "id": "356f8e80582d97e2"
  },
  {
   "cell_type": "code",
   "execution_count": 7,
   "outputs": [
    {
     "name": "stdout",
     "output_type": "stream",
     "text": [
      "313/313 - 0s - loss: 0.2423 - categorical_accuracy: 0.9313 - 296ms/epoch - 944us/step\n",
      "Test loss: 0.24232876300811768\n",
      "Test accuracy: 0.9312999844551086\n"
     ]
    }
   ],
   "source": [
    "# evaluating the model\n",
    "test_scores = model_ce.evaluate(x_test, y_test, verbose=2)\n",
    "print('Test loss:', test_scores[0])\n",
    "print('Test accuracy:', test_scores[1])\n"
   ],
   "metadata": {
    "collapsed": false,
    "ExecuteTime": {
     "end_time": "2023-08-13T23:57:51.014663500Z",
     "start_time": "2023-08-13T23:57:50.641663800Z"
    }
   },
   "id": "81c3fc610857df24"
  },
  {
   "cell_type": "code",
   "execution_count": 8,
   "outputs": [],
   "source": [
    "# saving the model\n",
    "path = './weights/mnist_ce_model.keras'\n",
    "model_ce.save(path)"
   ],
   "metadata": {
    "collapsed": false,
    "ExecuteTime": {
     "end_time": "2023-08-13T23:57:51.070659600Z",
     "start_time": "2023-08-13T23:57:50.998664200Z"
    }
   },
   "id": "4dad28b241207c5b"
  },
  {
   "cell_type": "code",
   "execution_count": 9,
   "outputs": [],
   "source": [
    "focal_loss = keras.losses.CategoricalFocalCrossentropy()"
   ],
   "metadata": {
    "collapsed": false,
    "ExecuteTime": {
     "end_time": "2023-08-13T23:57:51.090661800Z",
     "start_time": "2023-08-13T23:57:51.044663900Z"
    }
   },
   "id": "ff849813ffddfd76"
  },
  {
   "cell_type": "code",
   "execution_count": 10,
   "outputs": [],
   "source": [
    "# compiling the model\n",
    "optimizer = keras.optimizers.SGD()\n",
    "model_fl.compile(optimizer=optimizer, loss=focal_loss, metrics=metrics)"
   ],
   "metadata": {
    "collapsed": false,
    "ExecuteTime": {
     "end_time": "2023-08-13T23:57:51.092162100Z",
     "start_time": "2023-08-13T23:57:51.058663200Z"
    }
   },
   "id": "62adbe88d5f49e77"
  },
  {
   "cell_type": "code",
   "execution_count": 11,
   "outputs": [
    {
     "name": "stdout",
     "output_type": "stream",
     "text": [
      "Epoch 1/6\n",
      "750/750 [==============================] - 2s 2ms/step - loss: 0.3325 - categorical_accuracy: 0.5701 - val_loss: 0.1962 - val_categorical_accuracy: 0.7266\n",
      "Epoch 2/6\n",
      "750/750 [==============================] - 1s 2ms/step - loss: 0.1416 - categorical_accuracy: 0.7690 - val_loss: 0.0970 - val_categorical_accuracy: 0.8260\n",
      "Epoch 3/6\n",
      "750/750 [==============================] - 1s 2ms/step - loss: 0.0887 - categorical_accuracy: 0.8298 - val_loss: 0.0712 - val_categorical_accuracy: 0.8603\n",
      "Epoch 4/6\n",
      "750/750 [==============================] - 2s 3ms/step - loss: 0.0709 - categorical_accuracy: 0.8576 - val_loss: 0.0603 - val_categorical_accuracy: 0.8781\n",
      "Epoch 5/6\n",
      "750/750 [==============================] - 1s 2ms/step - loss: 0.0620 - categorical_accuracy: 0.8725 - val_loss: 0.0542 - val_categorical_accuracy: 0.8863\n",
      "Epoch 6/6\n",
      "750/750 [==============================] - 1s 2ms/step - loss: 0.0565 - categorical_accuracy: 0.8808 - val_loss: 0.0502 - val_categorical_accuracy: 0.8926\n"
     ]
    },
    {
     "data": {
      "text/plain": "<keras.src.callbacks.History at 0x1f9af151730>"
     },
     "execution_count": 11,
     "metadata": {},
     "output_type": "execute_result"
    }
   ],
   "source": [
    "# training the model\n",
    "model_fl.fit(x_train, y_train, batch_size=64, epochs=6, validation_split=0.2)"
   ],
   "metadata": {
    "collapsed": false,
    "ExecuteTime": {
     "end_time": "2023-08-13T23:58:00.302663700Z",
     "start_time": "2023-08-13T23:57:51.074663200Z"
    }
   },
   "id": "f8528acdb049d4be"
  },
  {
   "cell_type": "code",
   "execution_count": 12,
   "outputs": [
    {
     "name": "stdout",
     "output_type": "stream",
     "text": [
      "313/313 - 0s - loss: 0.0503 - categorical_accuracy: 0.8933 - 254ms/epoch - 812us/step\n",
      "Test loss: 0.05033818632364273\n",
      "Test accuracy: 0.8932999968528748\n"
     ]
    }
   ],
   "source": [
    "# evaluating the model\n",
    "test_scores = model_fl.evaluate(x_test, y_test, verbose=2)\n",
    "print('Test loss:', test_scores[0])\n",
    "print('Test accuracy:', test_scores[1])"
   ],
   "metadata": {
    "collapsed": false,
    "ExecuteTime": {
     "end_time": "2023-08-13T23:58:00.607161400Z",
     "start_time": "2023-08-13T23:58:00.298164800Z"
    }
   },
   "id": "e4eff8b8f0f2b2ec"
  },
  {
   "cell_type": "code",
   "execution_count": 13,
   "outputs": [],
   "source": [
    "# saving the model\n",
    "path = './weights/mnist_focal_model.keras'\n",
    "model_fl.save(path)"
   ],
   "metadata": {
    "collapsed": false,
    "ExecuteTime": {
     "end_time": "2023-08-13T23:58:00.649660100Z",
     "start_time": "2023-08-13T23:58:00.607661900Z"
    }
   },
   "id": "50e41b65f5f0c576"
  },
  {
   "cell_type": "code",
   "execution_count": 27,
   "outputs": [],
   "source": [
    "# defining rational loss function\n",
    "# RL(p_t) = - 1/p_t * log(p_t)\n",
    "def rational_loss():\n",
    "    \"\"\"\n",
    "    Rational Loss for multi-class classification, Keras style.\n",
    "    RL(p_t) = - 1/p_t * log(p_t), where p_t is the probability associated with the true class.\n",
    "\n",
    "    :return: A callable rational_loss_fixed(y_true, y_pred) to be used as a Keras loss function.\n",
    "    \"\"\"\n",
    "    def rational_loss_fixed(y_true, y_pred):\n",
    "        \"\"\"\n",
    "        The actual loss computation.\n",
    "        :param y_true: Ground truth labels, shape of [batch_size, num_classes].\n",
    "        :param y_pred: Predicted class probabilities, shape of [batch_size, num_classes].\n",
    "        :return: A scalar representing the mean rational loss over the batch.\n",
    "        \"\"\"\n",
    "        # Clip the prediction value to prevent NaN's and Inf's\n",
    "        y_pred = K.clip(y_pred, K.epsilon(), 1. - K.epsilon())\n",
    "        # Calculate Cross Entropy\n",
    "        cross_entropy = -y_true * K.log(y_pred)\n",
    "        # Compute the Rational Loss\n",
    "        loss = (-1 / y_pred) * cross_entropy\n",
    "        # Average the loss over the batch\n",
    "        return K.mean(K.sum(loss, axis=-1))\n",
    "\n",
    "    return rational_loss_fixed\n"
   ],
   "metadata": {
    "collapsed": false,
    "ExecuteTime": {
     "end_time": "2023-08-14T00:42:34.470073600Z",
     "start_time": "2023-08-14T00:42:34.387582Z"
    }
   },
   "id": "eb292d1ae3a65bc1"
  },
  {
   "cell_type": "code",
   "execution_count": 15,
   "outputs": [],
   "source": [
    "# compiling the model\n",
    "rational_loss = rational_loss()\n",
    "optimizer = keras.optimizers.SGD()\n",
    "model_rl.compile(optimizer=optimizer, loss=rational_loss, metrics=metrics)"
   ],
   "metadata": {
    "collapsed": false,
    "ExecuteTime": {
     "end_time": "2023-08-13T23:58:00.682161600Z",
     "start_time": "2023-08-13T23:58:00.655661200Z"
    }
   },
   "id": "30905fcf44115e6a"
  },
  {
   "cell_type": "code",
   "execution_count": 16,
   "outputs": [
    {
     "name": "stdout",
     "output_type": "stream",
     "text": [
      "Epoch 1/6\n",
      "750/750 [==============================] - 2s 2ms/step - loss: -144364432.0000 - categorical_accuracy: 0.2383 - val_loss: -144498704.0000 - val_categorical_accuracy: 0.1035\n",
      "Epoch 2/6\n",
      "750/750 [==============================] - 1s 2ms/step - loss: -144764128.0000 - categorical_accuracy: 0.1019 - val_loss: -144498704.0000 - val_categorical_accuracy: 0.1035\n",
      "Epoch 3/6\n",
      "750/750 [==============================] - 1s 2ms/step - loss: -144764048.0000 - categorical_accuracy: 0.1019 - val_loss: -144498704.0000 - val_categorical_accuracy: 0.1035\n",
      "Epoch 4/6\n",
      "750/750 [==============================] - 1s 2ms/step - loss: -144764080.0000 - categorical_accuracy: 0.1019 - val_loss: -144498704.0000 - val_categorical_accuracy: 0.1035\n",
      "Epoch 5/6\n",
      "750/750 [==============================] - 1s 2ms/step - loss: -144764016.0000 - categorical_accuracy: 0.1019 - val_loss: -144498704.0000 - val_categorical_accuracy: 0.1035\n",
      "Epoch 6/6\n",
      "750/750 [==============================] - 1s 2ms/step - loss: -144764208.0000 - categorical_accuracy: 0.1019 - val_loss: -144498704.0000 - val_categorical_accuracy: 0.1035\n"
     ]
    }
   ],
   "source": [
    "# training the model\n",
    "history = model_rl.fit(x_train, y_train, batch_size=64, epochs=6, validation_split=0.2)"
   ],
   "metadata": {
    "collapsed": false,
    "ExecuteTime": {
     "end_time": "2023-08-13T23:58:08.789163900Z",
     "start_time": "2023-08-13T23:58:00.669162400Z"
    }
   },
   "id": "f42fb8be0c5d8489"
  },
  {
   "cell_type": "code",
   "execution_count": 17,
   "outputs": [
    {
     "name": "stdout",
     "output_type": "stream",
     "text": [
      "313/313 - 0s - loss: -1.4490e+08 - categorical_accuracy: 0.1010 - 316ms/epoch - 1ms/step\n",
      "Test loss: -144901712.0\n",
      "Test accuracy: 0.10100000351667404\n"
     ]
    }
   ],
   "source": [
    "# evaluating the model\n",
    "test_scores = model_rl.evaluate(x_test, y_test, verbose=2)\n",
    "print('Test loss:', test_scores[0])\n",
    "print('Test accuracy:', test_scores[1])"
   ],
   "metadata": {
    "collapsed": false,
    "ExecuteTime": {
     "end_time": "2023-08-13T23:58:09.175665100Z",
     "start_time": "2023-08-13T23:58:08.791162300Z"
    }
   },
   "id": "10e194b32015567a"
  },
  {
   "cell_type": "code",
   "execution_count": 18,
   "outputs": [],
   "source": [
    "# saving the model\n",
    "path = './weights/mnist_rational_model.keras'\n",
    "model_rl.save(path)"
   ],
   "metadata": {
    "collapsed": false,
    "ExecuteTime": {
     "end_time": "2023-08-13T23:58:09.221171900Z",
     "start_time": "2023-08-13T23:58:09.164163400Z"
    }
   },
   "id": "25ab1b90eb796366"
  },
  {
   "cell_type": "code",
   "execution_count": 19,
   "outputs": [],
   "source": [
    "# # defining focal  loss function\n",
    "# # FL(p_t) = -alpha_t * (1-p_t)^gamma * log(p_t)\n",
    "# def focal_loss(alpha=0.25, gamma=2.0):\n",
    "#     \"\"\"\n",
    "#     Focal Loss, Keras styles\n",
    "#     :param alpha: Weighting factor for the positive class, typically in the range [0, 1].\n",
    "#     :param gamma: Focusing parameter to down-weight well-classified examples, typically in the range [0, 5].\n",
    "#     :return: A callable focal_loss_fixed(y_true, y_pred) to be used as a Keras loss function.\n",
    "#     \"\"\"\n",
    "#     def focal_loss_fixed(y_true, y_pred):\n",
    "#         \"\"\"\n",
    "#         The actual loss computation.\n",
    "#         :param y_true: Ground truth labels, shape of [batch_size, num_classes].\n",
    "#         :param y_pred: Predicted class probabilities, shape of [batch_size, num_classes].\n",
    "#         :return: \n",
    "#         \"\"\"\n",
    "#         # Clip the prediction value to prevent NaN's and Inf's\n",
    "#         y_pred = K.clip(y_pred, K.epsilon(), 1. - K.epsilon())\n",
    "#         # Calculate Cross Entropy\n",
    "#         cross_entropy = -y_true * K.log(y_pred)\n",
    "#         # Calculate Focal Loss\n",
    "#         loss = alpha * K.pow(1 - y_pred, gamma) * cross_entropy\n",
    "#         # Compute mean loss in batch\n",
    "#         return K.mean(K.sum(loss, axis=-1))\n",
    "#     return focal_loss_fixed\n"
   ],
   "metadata": {
    "collapsed": false,
    "ExecuteTime": {
     "end_time": "2023-08-13T23:58:09.245173Z",
     "start_time": "2023-08-13T23:58:09.193663700Z"
    }
   },
   "id": "9a9fca6fe2cea7ec"
  },
  {
   "cell_type": "code",
   "execution_count": 28,
   "outputs": [],
   "source": [
    "# building the model\n",
    "def build_model():\n",
    "    inputs = keras.Input(shape=(784,), name='input')  # input layer\n",
    "    x = layers.Dense(64, activation='relu', name='hidden1')(inputs)  # hidden layer\n",
    "    x = layers.Dense(64, activation='relu', name='hidden2')(x)  # hidden layer\n",
    "    outputs = layers.Dense(10, activation='softmax', name='output')(x)  # output layer\n",
    "    return keras.Model(inputs=inputs, outputs=outputs)\n",
    "\n",
    "model_ce = build_model()\n",
    "model_fl = build_model()\n",
    "model_rl = build_model()\n"
   ],
   "metadata": {
    "collapsed": false,
    "ExecuteTime": {
     "end_time": "2023-08-14T00:42:56.789330300Z",
     "start_time": "2023-08-14T00:42:56.706833600Z"
    }
   },
   "id": "3b0b6284c01bdf98"
  },
  {
   "cell_type": "code",
   "execution_count": 29,
   "outputs": [],
   "source": [
    "# imbalance \n",
    "def create_imbalanced_data(x, y, imbalance_rate=0.5):\n",
    "    indices_by_class = [np.where(y[:, d] == 1)[0] for d in range(10)]\n",
    "    selected_indices = []\n",
    "    \n",
    "    for d in range(10):\n",
    "        frequency = int(len(indices_by_class[d]) * (imbalance_rate ** d))\n",
    "        selected_indices.extend(indices_by_class[d][:frequency])\n",
    "    \n",
    "    return x[selected_indices], y[selected_indices]\n",
    "\n",
    "x_train_imbalanced, y_train_imbalanced = create_imbalanced_data(x_train, y_train)\n"
   ],
   "metadata": {
    "collapsed": false,
    "ExecuteTime": {
     "end_time": "2023-08-14T00:42:58.987900600Z",
     "start_time": "2023-08-14T00:42:58.916912200Z"
    }
   },
   "id": "674c73a18c8f5973"
  },
  {
   "cell_type": "code",
   "execution_count": 30,
   "outputs": [],
   "source": [
    "model_ce.compile(optimizer=keras.optimizers.SGD(), loss=keras.losses.CategoricalCrossentropy(), metrics=[keras.metrics.CategoricalAccuracy()])\n",
    "model_fl.compile(optimizer=keras.optimizers.SGD(), loss=keras.losses.CategoricalFocalCrossentropy(), metrics=[keras.metrics.CategoricalAccuracy()])\n",
    "model_rl.compile(optimizer=keras.optimizers.SGD(), loss=rational_loss(), metrics=[keras.metrics.CategoricalAccuracy()])\n"
   ],
   "metadata": {
    "collapsed": false,
    "ExecuteTime": {
     "end_time": "2023-08-14T00:43:02.087330300Z",
     "start_time": "2023-08-14T00:43:02.032333100Z"
    }
   },
   "id": "fcfcb06bdaff596e"
  },
  {
   "cell_type": "code",
   "execution_count": 32,
   "outputs": [
    {
     "name": "stdout",
     "output_type": "stream",
     "text": [
      "Training on imbalanced data:\n",
      "Cross Entropy:\n",
      "Epoch 1/10\n",
      "383/383 [==============================] - 1s 1ms/step - loss: 0.1137 - categorical_accuracy: 0.9675\n",
      "Epoch 2/10\n",
      "383/383 [==============================] - 1s 1ms/step - loss: 0.1084 - categorical_accuracy: 0.9694\n",
      "Epoch 3/10\n",
      "383/383 [==============================] - 1s 1ms/step - loss: 0.1048 - categorical_accuracy: 0.9695\n",
      "Epoch 4/10\n",
      "383/383 [==============================] - 1s 1ms/step - loss: 0.1008 - categorical_accuracy: 0.9707\n",
      "Epoch 5/10\n",
      "383/383 [==============================] - 1s 1ms/step - loss: 0.0973 - categorical_accuracy: 0.9714\n",
      "Epoch 6/10\n",
      "383/383 [==============================] - 1s 1ms/step - loss: 0.0939 - categorical_accuracy: 0.9716\n",
      "Epoch 7/10\n",
      "383/383 [==============================] - 1s 1ms/step - loss: 0.0904 - categorical_accuracy: 0.9732\n",
      "Epoch 8/10\n",
      "383/383 [==============================] - 1s 1ms/step - loss: 0.0873 - categorical_accuracy: 0.9735\n",
      "Epoch 9/10\n",
      "383/383 [==============================] - 1s 1ms/step - loss: 0.0852 - categorical_accuracy: 0.9750\n",
      "Epoch 10/10\n",
      "383/383 [==============================] - 1s 1ms/step - loss: 0.0824 - categorical_accuracy: 0.9758\n",
      "Focal Loss:\n",
      "Epoch 1/10\n",
      "383/383 [==============================] - 1s 1ms/step - loss: 0.0320 - categorical_accuracy: 0.9399\n",
      "Epoch 2/10\n",
      "383/383 [==============================] - 1s 1ms/step - loss: 0.0305 - categorical_accuracy: 0.9415\n",
      "Epoch 3/10\n",
      "383/383 [==============================] - 1s 1ms/step - loss: 0.0291 - categorical_accuracy: 0.9437\n",
      "Epoch 4/10\n",
      "383/383 [==============================] - 1s 1ms/step - loss: 0.0279 - categorical_accuracy: 0.9463\n",
      "Epoch 5/10\n",
      "383/383 [==============================] - 1s 1ms/step - loss: 0.0268 - categorical_accuracy: 0.9477\n",
      "Epoch 6/10\n",
      "383/383 [==============================] - 1s 1ms/step - loss: 0.0258 - categorical_accuracy: 0.9493\n",
      "Epoch 7/10\n",
      "383/383 [==============================] - 1s 2ms/step - loss: 0.0249 - categorical_accuracy: 0.9506\n",
      "Epoch 8/10\n",
      "383/383 [==============================] - 1s 2ms/step - loss: 0.0241 - categorical_accuracy: 0.9521\n",
      "Epoch 9/10\n",
      "383/383 [==============================] - 1s 1ms/step - loss: 0.0234 - categorical_accuracy: 0.9534\n",
      "Epoch 10/10\n",
      "383/383 [==============================] - 0s 1ms/step - loss: 0.0228 - categorical_accuracy: 0.9552\n",
      "Rational Loss:\n",
      "Epoch 1/10\n",
      "383/383 [==============================] - 0s 1ms/step - loss: -151107104.0000 - categorical_accuracy: 0.0625\n",
      "Epoch 2/10\n",
      "383/383 [==============================] - 0s 1ms/step - loss: -151107056.0000 - categorical_accuracy: 0.0625\n",
      "Epoch 3/10\n",
      "383/383 [==============================] - 0s 1ms/step - loss: -151107104.0000 - categorical_accuracy: 0.0625\n",
      "Epoch 4/10\n",
      "383/383 [==============================] - 0s 1ms/step - loss: -151106992.0000 - categorical_accuracy: 0.0625\n",
      "Epoch 5/10\n",
      "383/383 [==============================] - 0s 1ms/step - loss: -151107008.0000 - categorical_accuracy: 0.0625\n",
      "Epoch 6/10\n",
      "383/383 [==============================] - 0s 1ms/step - loss: -151107040.0000 - categorical_accuracy: 0.0625\n",
      "Epoch 7/10\n",
      "383/383 [==============================] - 0s 1ms/step - loss: -151107104.0000 - categorical_accuracy: 0.0625\n",
      "Epoch 8/10\n",
      "383/383 [==============================] - 0s 1ms/step - loss: -151107008.0000 - categorical_accuracy: 0.0625\n",
      "Epoch 9/10\n",
      "383/383 [==============================] - 0s 1ms/step - loss: -151107008.0000 - categorical_accuracy: 0.0625\n",
      "Epoch 10/10\n",
      "383/383 [==============================] - 0s 1ms/step - loss: -151107072.0000 - categorical_accuracy: 0.0625\n"
     ]
    },
    {
     "data": {
      "text/plain": "<keras.src.callbacks.History at 0x1f9b40b59d0>"
     },
     "execution_count": 32,
     "metadata": {},
     "output_type": "execute_result"
    }
   ],
   "source": [
    "print(\"Training on imbalanced data:\")\n",
    "print(\"Cross Entropy:\")\n",
    "model_ce.fit(x_train_imbalanced, y_train_imbalanced, epochs=10, batch_size=32)\n",
    "print(\"Focal Loss:\")\n",
    "model_fl.fit(x_train_imbalanced, y_train_imbalanced, epochs=10, batch_size=32)\n",
    "print(\"Rational Loss:\")\n",
    "model_rl.fit(x_train_imbalanced, y_train_imbalanced, epochs=10, batch_size=32)"
   ],
   "metadata": {
    "collapsed": false,
    "ExecuteTime": {
     "end_time": "2023-08-14T00:45:20.019079400Z",
     "start_time": "2023-08-14T00:45:04.171557700Z"
    }
   },
   "id": "bdefdf376d35ec93"
  },
  {
   "cell_type": "code",
   "execution_count": 33,
   "outputs": [
    {
     "name": "stdout",
     "output_type": "stream",
     "text": [
      "313/313 [==============================] - 0s 1ms/step - loss: 1.3555 - categorical_accuracy: 0.6879\n",
      "[1.35547935962677, 0.6879000067710876]\n",
      "313/313 [==============================] - 0s 1ms/step - loss: 0.3461 - categorical_accuracy: 0.5707\n",
      "[0.346059113740921, 0.5706999897956848]\n",
      "313/313 [==============================] - 0s 1ms/step - loss: -144901712.0000 - categorical_accuracy: 0.1010\n",
      "[-144901712.0, 0.10100000351667404]\n",
      "64/64 [==============================] - 0s 1ms/step - loss: 0.1091 - categorical_accuracy: 0.9707\n",
      "[0.10905645787715912, 0.9706601500511169]\n",
      "64/64 [==============================] - 0s 1ms/step - loss: 0.0227 - categorical_accuracy: 0.9550\n",
      "[0.022728214040398598, 0.9550122022628784]\n",
      "64/64 [==============================] - 0s 1ms/step - loss: -151250064.0000 - categorical_accuracy: 0.0616\n",
      "[-151250064.0, 0.06161369010806084]\n"
     ]
    }
   ],
   "source": [
    "# Balanced data\n",
    "print(model_ce.evaluate(x_test, y_test))\n",
    "print(model_fl.evaluate(x_test, y_test))\n",
    "print(model_rl.evaluate(x_test, y_test))\n",
    "\n",
    "# Imbalanced data\n",
    "x_test_imbalanced, y_test_imbalanced = create_imbalanced_data(x_test, y_test)\n",
    "print(model_ce.evaluate(x_test_imbalanced, y_test_imbalanced))\n",
    "print(model_fl.evaluate(x_test_imbalanced, y_test_imbalanced))\n",
    "print(model_rl.evaluate(x_test_imbalanced, y_test_imbalanced))"
   ],
   "metadata": {
    "collapsed": false,
    "ExecuteTime": {
     "end_time": "2023-08-14T00:45:28.301909500Z",
     "start_time": "2023-08-14T00:45:26.349423600Z"
    }
   },
   "id": "c7d9401ce9ef65d9"
  },
  {
   "cell_type": "code",
   "execution_count": 34,
   "outputs": [
    {
     "name": "stdout",
     "output_type": "stream",
     "text": [
      "Accuracy by bins for balanced data:\n",
      "Cross Entropy:\n",
      "313/313 [==============================] - 0s 960us/step\n",
      "Accuracy for bin 0-1: 0.9947990543735225\n",
      "Accuracy for bin 2-7: 0.8053202304303626\n",
      "Accuracy for bin 8-9: 0.011094301563287948\n",
      "Focal Loss:\n",
      "313/313 [==============================] - 0s 1ms/step\n",
      "Accuracy for bin 0-1: 0.9947990543735225\n",
      "Accuracy for bin 2-7: 0.6104710267705863\n",
      "Accuracy for bin 8-9: 0.0\n",
      "Rational Loss:\n",
      "313/313 [==============================] - 0s 1ms/step\n",
      "Accuracy for bin 0-1: 0.0\n",
      "Accuracy for bin 2-7: 0.17112843104032532\n",
      "Accuracy for bin 8-9: 0.0\n"
     ]
    }
   ],
   "source": [
    "def accuracy_by_bins(model, x, y):\n",
    "    predictions = model.predict(x).argmax(axis=-1)\n",
    "    true_labels = y.argmax(axis=-1)\n",
    "    bins = [(0, 1), (2, 7), (8, 9)]\n",
    "    for bin_start, bin_end in bins:\n",
    "        mask = (true_labels >= bin_start) & (true_labels <= bin_end)\n",
    "        bin_accuracy = np.mean(predictions[mask] == true_labels[mask])\n",
    "        print(f\"Accuracy for bin {bin_start}-{bin_end}: {bin_accuracy}\")\n",
    "\n",
    "print(\"Accuracy by bins for balanced data:\")\n",
    "print(\"Cross Entropy:\")\n",
    "accuracy_by_bins(model_ce, x_test, y_test)\n",
    "print(\"Focal Loss:\")\n",
    "accuracy_by_bins(model_fl, x_test, y_test)\n",
    "print(\"Rational Loss:\")\n",
    "accuracy_by_bins(model_rl, x_test, y_test)"
   ],
   "metadata": {
    "collapsed": false,
    "ExecuteTime": {
     "end_time": "2023-08-14T00:45:35.587387100Z",
     "start_time": "2023-08-14T00:45:34.067391500Z"
    }
   },
   "id": "143062bb0fb2c0d0"
  }
 ],
 "metadata": {
  "kernelspec": {
   "display_name": "Python 3",
   "language": "python",
   "name": "python3"
  },
  "language_info": {
   "codemirror_mode": {
    "name": "ipython",
    "version": 2
   },
   "file_extension": ".py",
   "mimetype": "text/x-python",
   "name": "python",
   "nbconvert_exporter": "python",
   "pygments_lexer": "ipython2",
   "version": "2.7.6"
  }
 },
 "nbformat": 4,
 "nbformat_minor": 5
}
