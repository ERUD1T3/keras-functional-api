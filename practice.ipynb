{
 "cells": [
  {
   "cell_type": "markdown",
   "id": "db106a0ce89886c6",
   "metadata": {},
   "source": [
    "# Practice on Keras Functional API"
   ]
  },
  {
   "cell_type": "code",
   "execution_count": 1,
   "id": "eb2390991af87b21",
   "metadata": {
    "ExecuteTime": {
     "end_time": "2023-08-16T03:40:33.381856900Z",
     "start_time": "2023-08-16T03:40:30.501862500Z"
    }
   },
   "outputs": [],
   "source": [
    "# imports\n",
    "import tensorflow as tf\n",
    "import numpy as np\n",
    "import matplotlib.pyplot as plt\n",
    "from tensorflow.keras import backend as K\n",
    "from tensorflow.keras.callbacks import EarlyStopping\n",
    "# for types hints\n",
    "from typing import Tuple, Callable, List\n",
    "from tensorflow import Tensor"
   ]
  },
  {
   "cell_type": "code",
   "execution_count": 2,
   "id": "0566659f",
   "metadata": {
    "ExecuteTime": {
     "end_time": "2023-08-16T03:41:36.430355600Z",
     "start_time": "2023-08-16T03:41:36.406355100Z"
    }
   },
   "outputs": [
    {
     "name": "stdout",
     "output_type": "stream",
     "text": [
      "Num GPUs Available:  1\n"
     ]
    },
    {
     "data": {
      "text/plain": [
       "[PhysicalDevice(name='/physical_device:GPU:0', device_type='GPU')]"
      ]
     },
     "execution_count": 2,
     "metadata": {},
     "output_type": "execute_result"
    }
   ],
   "source": [
    "# check for gpus\n",
    "print(\"Num GPUs Available: \", len(tf.config.experimental.list_physical_devices('GPU')))\n",
    "# list their names\n",
    "tf.config.experimental.list_physical_devices('GPU')"
   ]
  },
  {
   "cell_type": "code",
   "execution_count": 3,
   "id": "235572d8aa183bc7",
   "metadata": {
    "ExecuteTime": {
     "end_time": "2023-08-16T03:41:44.589854500Z",
     "start_time": "2023-08-16T03:41:44.537355200Z"
    }
   },
   "outputs": [],
   "source": [
    "# mnist dataset\n",
    "def load_and_preprocess_mnist() -> Tuple[Tuple[Tensor, Tensor], Tuple[Tensor, Tensor]]:\n",
    "    \"\"\"\n",
    "    Load the MNIST dataset, preprocess images, and perform one-hot encoding of labels.\n",
    "\n",
    "    :return: Tuple of training data (x_train, y_train) and testing data (x_test, y_test).\n",
    "    \"\"\"\n",
    "    # Load MNIST dataset\n",
    "    (x_train, y_train), (x_test, y_test) =  tf.keras.datasets.mnist.load_data()\n",
    "\n",
    "    # Reshape and normalize images\n",
    "    x_train = x_train.reshape(60000, 784).astype('float32') / 255\n",
    "    x_test = x_test.reshape(10000, 784).astype('float32') / 255\n",
    "\n",
    "    # One-hot encoding of labels\n",
    "    y_train = tf.keras.utils.to_categorical(y_train, 10)\n",
    "    y_test = tf.keras.utils.to_categorical(y_test, 10)\n",
    "\n",
    "    return (x_train, y_train), (x_test, y_test)"
   ]
  },
  {
   "cell_type": "code",
   "execution_count": 4,
   "id": "42ff4c5d4d8c22ec",
   "metadata": {
    "ExecuteTime": {
     "end_time": "2023-08-16T03:41:50.512353900Z",
     "start_time": "2023-08-16T03:41:49.124856Z"
    }
   },
   "outputs": [],
   "source": [
    "\n",
    "(x_train, y_train), (x_test, y_test) = load_and_preprocess_mnist()\n"
   ]
  },
  {
   "cell_type": "code",
   "execution_count": 5,
   "id": "5a49bafd834711d3",
   "metadata": {
    "ExecuteTime": {
     "end_time": "2023-08-16T03:42:14.413355600Z",
     "start_time": "2023-08-16T03:41:56.234862200Z"
    }
   },
   "outputs": [],
   "source": [
    "# building the model\n",
    "def build_model() -> tf.keras.Model:\n",
    "    \"\"\"\n",
    "    Build a simple MLP model for MNIST classification.\n",
    "    :return: A tf.keras Model with inputs and outputs defined.\n",
    "    \"\"\"\n",
    "    inputs = tf.keras.Input(shape=(784,), name='input')  # input layer\n",
    "    x = tf.keras.layers.Dense(64, activation='relu', name='hidden1')(inputs)  # hidden layer\n",
    "    x = tf.keras.layers.Dense(64, activation='relu', name='hidden2')(x)  # hidden layer\n",
    "    outputs = tf.keras.layers.Dense(10, activation='softmax', name='output')(x)  # output layer\n",
    "    \n",
    "    return tf.keras.Model(inputs=inputs, outputs=outputs)\n",
    "\n",
    "model_ce = build_model()\n",
    "model_fl = build_model()\n",
    "model_rl = build_model()"
   ]
  },
  {
   "cell_type": "code",
   "execution_count": 6,
   "id": "74658d8b5c82aac1",
   "metadata": {
    "ExecuteTime": {
     "start_time": "2023-08-16T03:43:17.351247100Z"
    },
    "is_executing": true
   },
   "outputs": [
    {
     "name": "stdout",
     "output_type": "stream",
     "text": [
      "Epoch 1/100\n",
      "750/750 [==============================] - 5s 3ms/step - loss: 1.1267 - categorical_accuracy: 0.6987 - val_loss: 0.4977 - val_categorical_accuracy: 0.8702\n",
      "Epoch 2/100\n",
      "750/750 [==============================] - 2s 3ms/step - loss: 0.4377 - categorical_accuracy: 0.8795 - val_loss: 0.3562 - val_categorical_accuracy: 0.8991\n",
      "Epoch 3/100\n",
      "750/750 [==============================] - 2s 3ms/step - loss: 0.3540 - categorical_accuracy: 0.8991 - val_loss: 0.3109 - val_categorical_accuracy: 0.9087\n",
      "Epoch 4/100\n",
      "750/750 [==============================] - 3s 4ms/step - loss: 0.3158 - categorical_accuracy: 0.9093 - val_loss: 0.2839 - val_categorical_accuracy: 0.9191\n",
      "Epoch 5/100\n",
      "750/750 [==============================] - 2s 3ms/step - loss: 0.2900 - categorical_accuracy: 0.9173 - val_loss: 0.2643 - val_categorical_accuracy: 0.9228\n",
      "Epoch 6/100\n",
      "750/750 [==============================] - 3s 3ms/step - loss: 0.2689 - categorical_accuracy: 0.9227 - val_loss: 0.2468 - val_categorical_accuracy: 0.9312\n",
      "Epoch 7/100\n",
      "750/750 [==============================] - 2s 3ms/step - loss: 0.2518 - categorical_accuracy: 0.9286 - val_loss: 0.2352 - val_categorical_accuracy: 0.9333\n",
      "Epoch 8/100\n",
      "750/750 [==============================] - 3s 3ms/step - loss: 0.2371 - categorical_accuracy: 0.9333 - val_loss: 0.2234 - val_categorical_accuracy: 0.9363\n",
      "Epoch 9/100\n",
      "750/750 [==============================] - 2s 3ms/step - loss: 0.2243 - categorical_accuracy: 0.9365 - val_loss: 0.2115 - val_categorical_accuracy: 0.9422\n",
      "Epoch 10/100\n",
      "750/750 [==============================] - 3s 4ms/step - loss: 0.2128 - categorical_accuracy: 0.9392 - val_loss: 0.2020 - val_categorical_accuracy: 0.9436\n",
      "Epoch 11/100\n",
      "750/750 [==============================] - 3s 4ms/step - loss: 0.2019 - categorical_accuracy: 0.9428 - val_loss: 0.1945 - val_categorical_accuracy: 0.9463\n",
      "Epoch 12/100\n",
      "750/750 [==============================] - 3s 3ms/step - loss: 0.1929 - categorical_accuracy: 0.9451 - val_loss: 0.1884 - val_categorical_accuracy: 0.9471\n",
      "Epoch 13/100\n",
      "750/750 [==============================] - 3s 3ms/step - loss: 0.1841 - categorical_accuracy: 0.9475 - val_loss: 0.1811 - val_categorical_accuracy: 0.9506\n",
      "Epoch 14/100\n",
      "750/750 [==============================] - 2s 3ms/step - loss: 0.1763 - categorical_accuracy: 0.9497 - val_loss: 0.1749 - val_categorical_accuracy: 0.9515\n",
      "Epoch 15/100\n",
      "750/750 [==============================] - 3s 3ms/step - loss: 0.1688 - categorical_accuracy: 0.9516 - val_loss: 0.1686 - val_categorical_accuracy: 0.9527\n",
      "Epoch 16/100\n",
      "750/750 [==============================] - 2s 3ms/step - loss: 0.1620 - categorical_accuracy: 0.9543 - val_loss: 0.1664 - val_categorical_accuracy: 0.9537\n",
      "Epoch 17/100\n",
      "750/750 [==============================] - 3s 3ms/step - loss: 0.1563 - categorical_accuracy: 0.9553 - val_loss: 0.1619 - val_categorical_accuracy: 0.9549\n",
      "Epoch 18/100\n",
      "750/750 [==============================] - 3s 3ms/step - loss: 0.1502 - categorical_accuracy: 0.9574 - val_loss: 0.1557 - val_categorical_accuracy: 0.9553\n",
      "Epoch 19/100\n",
      "750/750 [==============================] - 2s 3ms/step - loss: 0.1449 - categorical_accuracy: 0.9587 - val_loss: 0.1508 - val_categorical_accuracy: 0.9570\n",
      "Epoch 20/100\n",
      "750/750 [==============================] - 3s 3ms/step - loss: 0.1396 - categorical_accuracy: 0.9600 - val_loss: 0.1490 - val_categorical_accuracy: 0.9578\n",
      "Epoch 21/100\n",
      "750/750 [==============================] - 3s 4ms/step - loss: 0.1350 - categorical_accuracy: 0.9619 - val_loss: 0.1461 - val_categorical_accuracy: 0.9589\n",
      "Epoch 22/100\n",
      "750/750 [==============================] - 3s 4ms/step - loss: 0.1307 - categorical_accuracy: 0.9627 - val_loss: 0.1423 - val_categorical_accuracy: 0.9594\n",
      "Epoch 23/100\n",
      "750/750 [==============================] - 3s 4ms/step - loss: 0.1262 - categorical_accuracy: 0.9643 - val_loss: 0.1411 - val_categorical_accuracy: 0.9604\n",
      "Epoch 24/100\n",
      "750/750 [==============================] - 3s 3ms/step - loss: 0.1223 - categorical_accuracy: 0.9655 - val_loss: 0.1379 - val_categorical_accuracy: 0.9603\n",
      "Epoch 25/100\n",
      "750/750 [==============================] - 3s 4ms/step - loss: 0.1187 - categorical_accuracy: 0.9665 - val_loss: 0.1364 - val_categorical_accuracy: 0.9611\n",
      "Epoch 26/100\n",
      "750/750 [==============================] - 2s 3ms/step - loss: 0.1153 - categorical_accuracy: 0.9670 - val_loss: 0.1327 - val_categorical_accuracy: 0.9624\n",
      "Epoch 27/100\n",
      "750/750 [==============================] - 3s 3ms/step - loss: 0.1119 - categorical_accuracy: 0.9683 - val_loss: 0.1306 - val_categorical_accuracy: 0.9632\n",
      "Epoch 28/100\n",
      "750/750 [==============================] - 2s 3ms/step - loss: 0.1088 - categorical_accuracy: 0.9685 - val_loss: 0.1299 - val_categorical_accuracy: 0.9638\n",
      "Epoch 29/100\n",
      "750/750 [==============================] - 2s 3ms/step - loss: 0.1058 - categorical_accuracy: 0.9698 - val_loss: 0.1278 - val_categorical_accuracy: 0.9636\n",
      "Epoch 30/100\n",
      "750/750 [==============================] - 3s 4ms/step - loss: 0.1028 - categorical_accuracy: 0.9707 - val_loss: 0.1259 - val_categorical_accuracy: 0.9648\n",
      "Epoch 31/100\n",
      "750/750 [==============================] - 2s 3ms/step - loss: 0.1003 - categorical_accuracy: 0.9711 - val_loss: 0.1251 - val_categorical_accuracy: 0.9647\n",
      "Epoch 32/100\n",
      "750/750 [==============================] - 3s 3ms/step - loss: 0.0976 - categorical_accuracy: 0.9726 - val_loss: 0.1223 - val_categorical_accuracy: 0.9651\n",
      "Epoch 33/100\n",
      "750/750 [==============================] - 2s 3ms/step - loss: 0.0951 - categorical_accuracy: 0.9730 - val_loss: 0.1233 - val_categorical_accuracy: 0.9653\n",
      "Epoch 34/100\n",
      "750/750 [==============================] - 2s 3ms/step - loss: 0.0928 - categorical_accuracy: 0.9737 - val_loss: 0.1231 - val_categorical_accuracy: 0.9654\n",
      "Epoch 35/100\n",
      "750/750 [==============================] - 3s 3ms/step - loss: 0.0906 - categorical_accuracy: 0.9742 - val_loss: 0.1192 - val_categorical_accuracy: 0.9661\n",
      "Epoch 36/100\n",
      "750/750 [==============================] - 2s 3ms/step - loss: 0.0880 - categorical_accuracy: 0.9751 - val_loss: 0.1179 - val_categorical_accuracy: 0.9657\n",
      "Epoch 37/100\n",
      "750/750 [==============================] - 3s 3ms/step - loss: 0.0860 - categorical_accuracy: 0.9759 - val_loss: 0.1176 - val_categorical_accuracy: 0.9661\n",
      "Epoch 38/100\n",
      "750/750 [==============================] - 2s 3ms/step - loss: 0.0840 - categorical_accuracy: 0.9766 - val_loss: 0.1163 - val_categorical_accuracy: 0.9670\n",
      "Epoch 39/100\n",
      "750/750 [==============================] - 3s 3ms/step - loss: 0.0820 - categorical_accuracy: 0.9773 - val_loss: 0.1145 - val_categorical_accuracy: 0.9666\n",
      "Epoch 40/100\n",
      "750/750 [==============================] - 2s 3ms/step - loss: 0.0802 - categorical_accuracy: 0.9775 - val_loss: 0.1151 - val_categorical_accuracy: 0.9674\n",
      "Epoch 41/100\n",
      "750/750 [==============================] - 2s 3ms/step - loss: 0.0783 - categorical_accuracy: 0.9781 - val_loss: 0.1130 - val_categorical_accuracy: 0.9682\n",
      "Epoch 42/100\n",
      "750/750 [==============================] - 3s 3ms/step - loss: 0.0766 - categorical_accuracy: 0.9787 - val_loss: 0.1123 - val_categorical_accuracy: 0.9678\n",
      "Epoch 43/100\n",
      "750/750 [==============================] - 2s 3ms/step - loss: 0.0751 - categorical_accuracy: 0.9788 - val_loss: 0.1125 - val_categorical_accuracy: 0.9687\n",
      "Epoch 44/100\n",
      "750/750 [==============================] - 3s 3ms/step - loss: 0.0734 - categorical_accuracy: 0.9796 - val_loss: 0.1113 - val_categorical_accuracy: 0.9684\n",
      "Epoch 45/100\n",
      "750/750 [==============================] - 2s 3ms/step - loss: 0.0719 - categorical_accuracy: 0.9805 - val_loss: 0.1104 - val_categorical_accuracy: 0.9688\n",
      "Epoch 46/100\n",
      "750/750 [==============================] - 2s 3ms/step - loss: 0.0705 - categorical_accuracy: 0.9804 - val_loss: 0.1103 - val_categorical_accuracy: 0.9696\n",
      "Epoch 47/100\n",
      "750/750 [==============================] - 3s 3ms/step - loss: 0.0689 - categorical_accuracy: 0.9810 - val_loss: 0.1092 - val_categorical_accuracy: 0.9696\n",
      "Epoch 48/100\n",
      "750/750 [==============================] - 2s 3ms/step - loss: 0.0673 - categorical_accuracy: 0.9813 - val_loss: 0.1113 - val_categorical_accuracy: 0.9688\n",
      "Epoch 49/100\n",
      "750/750 [==============================] - 3s 3ms/step - loss: 0.0660 - categorical_accuracy: 0.9820 - val_loss: 0.1088 - val_categorical_accuracy: 0.9689\n",
      "Epoch 50/100\n",
      "750/750 [==============================] - 3s 3ms/step - loss: 0.0648 - categorical_accuracy: 0.9822 - val_loss: 0.1088 - val_categorical_accuracy: 0.9686\n",
      "Epoch 51/100\n",
      "750/750 [==============================] - 3s 4ms/step - loss: 0.0633 - categorical_accuracy: 0.9830 - val_loss: 0.1094 - val_categorical_accuracy: 0.9683\n",
      "Epoch 52/100\n",
      "750/750 [==============================] - 3s 3ms/step - loss: 0.0622 - categorical_accuracy: 0.9831 - val_loss: 0.1065 - val_categorical_accuracy: 0.9697\n",
      "Epoch 53/100\n",
      "750/750 [==============================] - 3s 3ms/step - loss: 0.0608 - categorical_accuracy: 0.9835 - val_loss: 0.1074 - val_categorical_accuracy: 0.9701\n",
      "Epoch 54/100\n",
      "750/750 [==============================] - 3s 4ms/step - loss: 0.0595 - categorical_accuracy: 0.9836 - val_loss: 0.1067 - val_categorical_accuracy: 0.9696\n",
      "Epoch 55/100\n",
      "750/750 [==============================] - 2s 3ms/step - loss: 0.0584 - categorical_accuracy: 0.9840 - val_loss: 0.1077 - val_categorical_accuracy: 0.9693\n",
      "313/313 - 1s - loss: 0.0972 - categorical_accuracy: 0.9691 - 713ms/epoch - 2ms/step\n",
      "Test loss: 0.09716621786355972\n",
      "Test accuracy: 0.9690999984741211\n"
     ]
    },
    {
     "ename": "ImportError",
     "evalue": "`save_model()` using h5 format requires h5py. Could not import h5py.",
     "output_type": "error",
     "traceback": [
      "\u001b[1;31m---------------------------------------------------------------------------\u001b[0m",
      "\u001b[1;31mImportError\u001b[0m                               Traceback (most recent call last)",
      "\u001b[1;32mc:\\Users\\the_3\\OneDrive\\Desktop\\school\\Fall 2023\\keras-functional-api\\practice.ipynb Cell 7\u001b[0m in \u001b[0;36m<cell line: 16>\u001b[1;34m()\u001b[0m\n\u001b[0;32m     <a href='vscode-notebook-cell:/c%3A/Users/the_3/OneDrive/Desktop/school/Fall%202023/keras-functional-api/practice.ipynb#Y222sZmlsZQ%3D%3D?line=13'>14</a>\u001b[0m \u001b[39m# saving the model\u001b[39;00m\n\u001b[0;32m     <a href='vscode-notebook-cell:/c%3A/Users/the_3/OneDrive/Desktop/school/Fall%202023/keras-functional-api/practice.ipynb#Y222sZmlsZQ%3D%3D?line=14'>15</a>\u001b[0m path \u001b[39m=\u001b[39m \u001b[39m'\u001b[39m\u001b[39m./weights/mnist_ce_model.keras\u001b[39m\u001b[39m'\u001b[39m\n\u001b[1;32m---> <a href='vscode-notebook-cell:/c%3A/Users/the_3/OneDrive/Desktop/school/Fall%202023/keras-functional-api/practice.ipynb#Y222sZmlsZQ%3D%3D?line=15'>16</a>\u001b[0m model_ce\u001b[39m.\u001b[39;49msave(path)\n",
      "File \u001b[1;32mc:\\Users\\the_3\\anaconda3\\envs\\tf-gpu\\lib\\site-packages\\keras\\utils\\traceback_utils.py:70\u001b[0m, in \u001b[0;36mfilter_traceback.<locals>.error_handler\u001b[1;34m(*args, **kwargs)\u001b[0m\n\u001b[0;32m     67\u001b[0m     filtered_tb \u001b[39m=\u001b[39m _process_traceback_frames(e\u001b[39m.\u001b[39m__traceback__)\n\u001b[0;32m     68\u001b[0m     \u001b[39m# To get the full stack trace, call:\u001b[39;00m\n\u001b[0;32m     69\u001b[0m     \u001b[39m# `tf.debugging.disable_traceback_filtering()`\u001b[39;00m\n\u001b[1;32m---> 70\u001b[0m     \u001b[39mraise\u001b[39;00m e\u001b[39m.\u001b[39mwith_traceback(filtered_tb) \u001b[39mfrom\u001b[39;00m \u001b[39mNone\u001b[39m\n\u001b[0;32m     71\u001b[0m \u001b[39mfinally\u001b[39;00m:\n\u001b[0;32m     72\u001b[0m     \u001b[39mdel\u001b[39;00m filtered_tb\n",
      "File \u001b[1;32mc:\\Users\\the_3\\anaconda3\\envs\\tf-gpu\\lib\\site-packages\\keras\\saving\\hdf5_format.py:80\u001b[0m, in \u001b[0;36msave_model_to_hdf5\u001b[1;34m(model, filepath, overwrite, include_optimizer)\u001b[0m\n\u001b[0;32m     54\u001b[0m \u001b[39m\"\"\"Saves a model to a HDF5 file.\u001b[39;00m\n\u001b[0;32m     55\u001b[0m \n\u001b[0;32m     56\u001b[0m \u001b[39mThe saved model contains:\u001b[39;00m\n\u001b[1;32m   (...)\u001b[0m\n\u001b[0;32m     76\u001b[0m \u001b[39m    ImportError: if h5py is not available.\u001b[39;00m\n\u001b[0;32m     77\u001b[0m \u001b[39m\"\"\"\u001b[39;00m\n\u001b[0;32m     79\u001b[0m \u001b[39mif\u001b[39;00m h5py \u001b[39mis\u001b[39;00m \u001b[39mNone\u001b[39;00m:\n\u001b[1;32m---> 80\u001b[0m     \u001b[39mraise\u001b[39;00m \u001b[39mImportError\u001b[39;00m(\n\u001b[0;32m     81\u001b[0m         \u001b[39m\"\u001b[39m\u001b[39m`save_model()` using h5 format requires h5py. Could not \u001b[39m\u001b[39m\"\u001b[39m\n\u001b[0;32m     82\u001b[0m         \u001b[39m\"\u001b[39m\u001b[39mimport h5py.\u001b[39m\u001b[39m\"\u001b[39m\n\u001b[0;32m     83\u001b[0m     )\n\u001b[0;32m     85\u001b[0m \u001b[39m# TODO(psv) Add warning when we save models that contain non-serializable\u001b[39;00m\n\u001b[0;32m     86\u001b[0m \u001b[39m# entities like metrics added using `add_metric` and losses added using\u001b[39;00m\n\u001b[0;32m     87\u001b[0m \u001b[39m# `add_loss.`\u001b[39;00m\n\u001b[0;32m     88\u001b[0m \u001b[39mif\u001b[39;00m \u001b[39mlen\u001b[39m(model\u001b[39m.\u001b[39mweights) \u001b[39m!=\u001b[39m \u001b[39mlen\u001b[39m(model\u001b[39m.\u001b[39m_undeduplicated_weights):\n",
      "\u001b[1;31mImportError\u001b[0m: `save_model()` using h5 format requires h5py. Could not import h5py."
     ]
    }
   ],
   "source": [
    "optimizer = tf.keras.optimizers.SGD()\n",
    "ce_loss = tf.keras.losses.CategoricalCrossentropy()\n",
    "metrics = [tf.keras.metrics.CategoricalAccuracy()]\n",
    "# compiling the model\n",
    "model_ce.compile(optimizer=optimizer, loss=ce_loss, metrics=metrics)\n",
    "# training the model\n",
    "early_stopping_callback = EarlyStopping(monitor='val_loss', patience=3, restore_best_weights=True)\n",
    "model_ce.fit(x_train, y_train, batch_size=64, epochs=100, validation_split=0.2, callbacks=[early_stopping_callback])\n",
    "# evaluating the model\n",
    "test_scores = model_ce.evaluate(x_test, y_test, verbose=2)\n",
    "print('Test loss:', test_scores[0])\n",
    "print('Test accuracy:', test_scores[1])\n",
    "\n",
    "# saving the model\n",
    "path = './weights/mnist_ce_model.keras'\n",
    "model_ce.save(path)"
   ]
  },
  {
   "cell_type": "code",
   "execution_count": 7,
   "id": "ff849813ffddfd76",
   "metadata": {
    "ExecuteTime": {
     "start_time": "2023-08-15T22:40:38.030253700Z"
    }
   },
   "outputs": [
    {
     "ename": "AttributeError",
     "evalue": "module 'keras.api._v2.keras.losses' has no attribute 'CategoricalFocalCrossentropy'",
     "output_type": "error",
     "traceback": [
      "\u001b[1;31m---------------------------------------------------------------------------\u001b[0m",
      "\u001b[1;31mAttributeError\u001b[0m                            Traceback (most recent call last)",
      "\u001b[1;32mc:\\Users\\the_3\\OneDrive\\Desktop\\school\\Fall 2023\\keras-functional-api\\practice.ipynb Cell 8\u001b[0m in \u001b[0;36m<cell line: 1>\u001b[1;34m()\u001b[0m\n\u001b[1;32m----> <a href='vscode-notebook-cell:/c%3A/Users/the_3/OneDrive/Desktop/school/Fall%202023/keras-functional-api/practice.ipynb#Y223sZmlsZQ%3D%3D?line=0'>1</a>\u001b[0m focal_loss \u001b[39m=\u001b[39m tf\u001b[39m.\u001b[39;49mkeras\u001b[39m.\u001b[39;49mlosses\u001b[39m.\u001b[39;49mCategoricalFocalCrossentropy()\n\u001b[0;32m      <a href='vscode-notebook-cell:/c%3A/Users/the_3/OneDrive/Desktop/school/Fall%202023/keras-functional-api/practice.ipynb#Y223sZmlsZQ%3D%3D?line=1'>2</a>\u001b[0m \u001b[39m# compiling the model\u001b[39;00m\n\u001b[0;32m      <a href='vscode-notebook-cell:/c%3A/Users/the_3/OneDrive/Desktop/school/Fall%202023/keras-functional-api/practice.ipynb#Y223sZmlsZQ%3D%3D?line=2'>3</a>\u001b[0m optimizer \u001b[39m=\u001b[39m tf\u001b[39m.\u001b[39mkeras\u001b[39m.\u001b[39moptimizers\u001b[39m.\u001b[39mSGD()\n",
      "\u001b[1;31mAttributeError\u001b[0m: module 'keras.api._v2.keras.losses' has no attribute 'CategoricalFocalCrossentropy'"
     ]
    }
   ],
   "source": [
    "focal_loss = tf.keras.losses.CategoricalFocalCrossentropy()\n",
    "# compiling the model\n",
    "optimizer = tf.keras.optimizers.SGD()\n",
    "model_fl.compile(optimizer=optimizer, loss=focal_loss, metrics=metrics)\n",
    "# training the model\n",
    "model_fl.fit(x_train, y_train, batch_size=64, epochs=100, validation_split=0.2, callbacks=[early_stopping_callback])\n",
    "# evaluating the model\n",
    "test_scores = model_fl.evaluate(x_test, y_test, verbose=2)\n",
    "print('Test loss:', test_scores[0])\n",
    "print('Test accuracy:', test_scores[1])\n",
    "# saving the model\n",
    "# path = './weights/mnist_focal_model.keras'\n",
    "# model_fl.save(path)"
   ]
  },
  {
   "cell_type": "code",
   "execution_count": 8,
   "id": "eb292d1ae3a65bc1",
   "metadata": {
    "ExecuteTime": {
     "end_time": "2023-08-15T22:45:53.690747900Z",
     "start_time": "2023-08-15T22:45:53.666249200Z"
    }
   },
   "outputs": [],
   "source": [
    "# defining rational loss function\n",
    "# RL(p_t) = 1/p_t * -p * log(p_t)\n",
    "    # TODO: plot the function\n",
    "def rational_loss(y_true, y_pred):\n",
    "    \"\"\"\n",
    "    Rational Loss for multi-class classification, tf.keras style.\n",
    "    RL(p_t) = - 1/p_t * log(p_t), where p_t is the probability associated with the true class.\n",
    "\n",
    "    :param y_true: Ground truth labels, shape of [batch_size, num_classes].\n",
    "    :param y_pred: Predicted class probabilities, shape of [batch_size, num_classes].\n",
    "    :return: A scalar representing the mean rational loss over the batch.\n",
    "    NOTE: written assuming GPU support to make use of fast Tensor operations.\n",
    "    \"\"\"\n",
    "    # Create a Categorical Cross-Entropy loss instance\n",
    "    cce = tf.keras.losses.CategoricalCrossentropy(\n",
    "        reduction=tf.keras.losses.Reduction.NONE # Keep unreduced loss tensor\n",
    "    )\n",
    "    # Clip the prediction value to prevent NaN's and Inf's\n",
    "    _y_pred = K.clip(y_pred, K.epsilon(), 1. - K.epsilon())\n",
    "    cross_entropy = cce(y_true, _y_pred) # batch_sizex1\n",
    "    # get y_pred for the true class\n",
    "    _y_pred = K.sum(y_true * _y_pred, axis=1) # batch_sizex1\n",
    "    _y_pred = K.clip(_y_pred, K.epsilon(), None) # Avoid division by zero\n",
    "    _rational_loss = cross_entropy / _y_pred # Rational loss  \n",
    "    \n",
    "    return _rational_loss\n"
   ]
  },
  {
   "cell_type": "code",
   "execution_count": 9,
   "id": "d2bb936ed83a8b25",
   "metadata": {
    "ExecuteTime": {
     "end_time": "2023-08-15T22:45:56.281011700Z",
     "start_time": "2023-08-15T22:45:56.225014100Z"
    }
   },
   "outputs": [
    {
     "name": "stdout",
     "output_type": "stream",
     "text": [
      "tf.Tensor([ 0.05399305 23.02585093], shape=(2,), dtype=float64)\n"
     ]
    }
   ],
   "source": [
    "# test rational loss\n",
    "y_true = np.array([[0, 1, 0], [0, 0, 1]])\n",
    "y_pred = np.array([[0.05, 0.95, 0], [0.1, 0.8, 0.1]])\n",
    "print(rational_loss(y_true, y_pred))\n",
    "\n"
   ]
  },
  {
   "cell_type": "code",
   "execution_count": null,
   "id": "331edee2580725fd",
   "metadata": {
    "ExecuteTime": {
     "start_time": "2023-08-15T22:40:38.040754300Z"
    }
   },
   "outputs": [],
   "source": [
    "# def generate_data() -> Tuple[np.ndarray, np.ndarray]:\n",
    "#     \"\"\"\n",
    "#     Generates synthetic y_true and y_pred data.\n",
    "#     :return: y_true and y_pred arrays.\n",
    "#     \"\"\"\n",
    "#     num_samples = 100\n",
    "#     num_classes = 3\n",
    "#     y_true = np.eye(num_classes)[np.random.choice(num_classes, num_samples)]\n",
    "#     y_pred = np.random.rand(num_samples, num_classes)\n",
    "#     y_pred /= y_pred.sum(axis=1, keepdims=True)\n",
    "#     return y_true, y_pred\n",
    "# \n",
    "# def plot_rational_loss() -> None:\n",
    "#     \"\"\"\n",
    "#     Plots the rational loss for the generated data.\n",
    "#     \"\"\"\n",
    "#     y_true, y_pred = generate_data()\n",
    "#     rational_loss_fixed = rational_loss()\n",
    "#     losses: List[float] = [rational_loss_fixed(y_t.reshape(1, -1), y_p.reshape(1, -1)).numpy() for y_t, y_p in zip(y_true, y_pred)]\n",
    "#     plt.plot(losses)\n",
    "#     plt.title(\"Rational Loss for Multi-Class Classification\")\n",
    "#     plt.xlabel(\"Sample\")\n",
    "#     plt.ylabel(\"Loss\")\n",
    "#     plt.show()\n",
    "# \n",
    "# plot_rational_loss()"
   ]
  },
  {
   "cell_type": "code",
   "execution_count": 10,
   "id": "25ab1b90eb796366",
   "metadata": {
    "ExecuteTime": {
     "start_time": "2023-08-15T22:47:55.585313300Z"
    }
   },
   "outputs": [
    {
     "name": "stdout",
     "output_type": "stream",
     "text": [
      "Epoch 1/100\n",
      "750/750 [==============================] - 4s 4ms/step - loss: 141224880.0000 - categorical_accuracy: 0.2577 - val_loss: 145116208.0000 - val_categorical_accuracy: 0.0997\n",
      "Epoch 2/100\n",
      "750/750 [==============================] - 3s 4ms/step - loss: 145190544.0000 - categorical_accuracy: 0.0992 - val_loss: 145116208.0000 - val_categorical_accuracy: 0.0997\n",
      "Epoch 3/100\n",
      "750/750 [==============================] - 3s 4ms/step - loss: 145190592.0000 - categorical_accuracy: 0.0992 - val_loss: 145116208.0000 - val_categorical_accuracy: 0.0997\n",
      "Epoch 4/100\n",
      "750/750 [==============================] - 3s 4ms/step - loss: 145190512.0000 - categorical_accuracy: 0.0992 - val_loss: 145116208.0000 - val_categorical_accuracy: 0.0997\n",
      "Epoch 5/100\n",
      "750/750 [==============================] - 3s 4ms/step - loss: 145190496.0000 - categorical_accuracy: 0.0992 - val_loss: 145116208.0000 - val_categorical_accuracy: 0.0997\n",
      "Epoch 6/100\n",
      "750/750 [==============================] - 3s 4ms/step - loss: 145190592.0000 - categorical_accuracy: 0.0992 - val_loss: 145116208.0000 - val_categorical_accuracy: 0.0997\n",
      "Epoch 7/100\n",
      "750/750 [==============================] - 3s 4ms/step - loss: 145190512.0000 - categorical_accuracy: 0.0992 - val_loss: 145116208.0000 - val_categorical_accuracy: 0.0997\n",
      "Epoch 8/100\n",
      "750/750 [==============================] - 3s 4ms/step - loss: 145190544.0000 - categorical_accuracy: 0.0992 - val_loss: 145116208.0000 - val_categorical_accuracy: 0.0997\n",
      "Epoch 9/100\n",
      "750/750 [==============================] - 3s 5ms/step - loss: 145190592.0000 - categorical_accuracy: 0.0992 - val_loss: 145116208.0000 - val_categorical_accuracy: 0.0997\n",
      "Epoch 10/100\n",
      "750/750 [==============================] - 3s 4ms/step - loss: 145190624.0000 - categorical_accuracy: 0.0992 - val_loss: 145116208.0000 - val_categorical_accuracy: 0.0997\n",
      "Epoch 11/100\n",
      "750/750 [==============================] - 3s 4ms/step - loss: 145190496.0000 - categorical_accuracy: 0.0992 - val_loss: 145116208.0000 - val_categorical_accuracy: 0.0997\n",
      "Epoch 12/100\n",
      "750/750 [==============================] - 3s 4ms/step - loss: 145190528.0000 - categorical_accuracy: 0.0992 - val_loss: 145116208.0000 - val_categorical_accuracy: 0.0997\n",
      "Epoch 13/100\n",
      "750/750 [==============================] - 3s 4ms/step - loss: 145190512.0000 - categorical_accuracy: 0.0992 - val_loss: 145116208.0000 - val_categorical_accuracy: 0.0997\n",
      "Epoch 14/100\n",
      "750/750 [==============================] - 3s 4ms/step - loss: 145190560.0000 - categorical_accuracy: 0.0992 - val_loss: 145116208.0000 - val_categorical_accuracy: 0.0997\n",
      "Epoch 15/100\n",
      "750/750 [==============================] - 4s 5ms/step - loss: 145190592.0000 - categorical_accuracy: 0.0992 - val_loss: 145116208.0000 - val_categorical_accuracy: 0.0997\n",
      "Epoch 16/100\n",
      "750/750 [==============================] - 4s 6ms/step - loss: 145190656.0000 - categorical_accuracy: 0.0992 - val_loss: 145116208.0000 - val_categorical_accuracy: 0.0997\n",
      "Epoch 17/100\n",
      "750/750 [==============================] - 3s 4ms/step - loss: 145190528.0000 - categorical_accuracy: 0.0992 - val_loss: 145116208.0000 - val_categorical_accuracy: 0.0997\n",
      "Epoch 18/100\n",
      "750/750 [==============================] - 3s 4ms/step - loss: 145190624.0000 - categorical_accuracy: 0.0992 - val_loss: 145116208.0000 - val_categorical_accuracy: 0.0997\n",
      "Epoch 19/100\n",
      "750/750 [==============================] - 3s 4ms/step - loss: 145190544.0000 - categorical_accuracy: 0.0992 - val_loss: 145116208.0000 - val_categorical_accuracy: 0.0997\n",
      "Epoch 20/100\n",
      "750/750 [==============================] - 3s 4ms/step - loss: 145190480.0000 - categorical_accuracy: 0.0992 - val_loss: 145116208.0000 - val_categorical_accuracy: 0.0997\n",
      "Epoch 21/100\n",
      "750/750 [==============================] - 3s 4ms/step - loss: 145190592.0000 - categorical_accuracy: 0.0992 - val_loss: 145116208.0000 - val_categorical_accuracy: 0.0997\n",
      "Epoch 22/100\n",
      "750/750 [==============================] - 3s 4ms/step - loss: 145190752.0000 - categorical_accuracy: 0.0992 - val_loss: 145116208.0000 - val_categorical_accuracy: 0.0997\n",
      "Epoch 23/100\n",
      "750/750 [==============================] - 3s 4ms/step - loss: 145190592.0000 - categorical_accuracy: 0.0992 - val_loss: 145116208.0000 - val_categorical_accuracy: 0.0997\n",
      "Epoch 24/100\n",
      "750/750 [==============================] - 3s 4ms/step - loss: 145190672.0000 - categorical_accuracy: 0.0992 - val_loss: 145116208.0000 - val_categorical_accuracy: 0.0997\n",
      "Epoch 25/100\n",
      "750/750 [==============================] - 3s 4ms/step - loss: 145190592.0000 - categorical_accuracy: 0.0992 - val_loss: 145116208.0000 - val_categorical_accuracy: 0.0997\n",
      "Epoch 26/100\n",
      "750/750 [==============================] - 3s 4ms/step - loss: 145190496.0000 - categorical_accuracy: 0.0992 - val_loss: 145116208.0000 - val_categorical_accuracy: 0.0997\n",
      "Epoch 27/100\n",
      "750/750 [==============================] - 3s 4ms/step - loss: 145190608.0000 - categorical_accuracy: 0.0992 - val_loss: 145116208.0000 - val_categorical_accuracy: 0.0997\n",
      "Epoch 28/100\n",
      "750/750 [==============================] - 3s 4ms/step - loss: 145190592.0000 - categorical_accuracy: 0.0992 - val_loss: 145116208.0000 - val_categorical_accuracy: 0.0997\n",
      "Epoch 29/100\n",
      "750/750 [==============================] - 3s 4ms/step - loss: 145190560.0000 - categorical_accuracy: 0.0992 - val_loss: 145116208.0000 - val_categorical_accuracy: 0.0997\n",
      "Epoch 30/100\n",
      "750/750 [==============================] - 3s 4ms/step - loss: 145190544.0000 - categorical_accuracy: 0.0992 - val_loss: 145116208.0000 - val_categorical_accuracy: 0.0997\n",
      "Epoch 31/100\n",
      "750/750 [==============================] - 3s 4ms/step - loss: 145190496.0000 - categorical_accuracy: 0.0992 - val_loss: 145116208.0000 - val_categorical_accuracy: 0.0997\n",
      "Epoch 32/100\n",
      "750/750 [==============================] - 3s 4ms/step - loss: 145190544.0000 - categorical_accuracy: 0.0992 - val_loss: 145116208.0000 - val_categorical_accuracy: 0.0997\n",
      "Epoch 33/100\n",
      "750/750 [==============================] - 3s 4ms/step - loss: 145190592.0000 - categorical_accuracy: 0.0992 - val_loss: 145116208.0000 - val_categorical_accuracy: 0.0997\n",
      "Epoch 34/100\n",
      "750/750 [==============================] - 3s 4ms/step - loss: 145190480.0000 - categorical_accuracy: 0.0992 - val_loss: 145116208.0000 - val_categorical_accuracy: 0.0997\n",
      "Epoch 35/100\n",
      "750/750 [==============================] - 3s 4ms/step - loss: 145190592.0000 - categorical_accuracy: 0.0992 - val_loss: 145116208.0000 - val_categorical_accuracy: 0.0997\n",
      "Epoch 36/100\n",
      "750/750 [==============================] - 3s 4ms/step - loss: 145190512.0000 - categorical_accuracy: 0.0992 - val_loss: 145116208.0000 - val_categorical_accuracy: 0.0997\n",
      "Epoch 37/100\n",
      "750/750 [==============================] - 3s 4ms/step - loss: 145190592.0000 - categorical_accuracy: 0.0992 - val_loss: 145116208.0000 - val_categorical_accuracy: 0.0997\n",
      "Epoch 38/100\n",
      "750/750 [==============================] - 3s 4ms/step - loss: 145190576.0000 - categorical_accuracy: 0.0992 - val_loss: 145116208.0000 - val_categorical_accuracy: 0.0997\n",
      "Epoch 39/100\n",
      "750/750 [==============================] - 3s 4ms/step - loss: 145190512.0000 - categorical_accuracy: 0.0992 - val_loss: 145116208.0000 - val_categorical_accuracy: 0.0997\n",
      "Epoch 40/100\n",
      "750/750 [==============================] - 3s 5ms/step - loss: 145190496.0000 - categorical_accuracy: 0.0992 - val_loss: 145116208.0000 - val_categorical_accuracy: 0.0997\n",
      "Epoch 41/100\n",
      "750/750 [==============================] - 3s 4ms/step - loss: 145190544.0000 - categorical_accuracy: 0.0992 - val_loss: 145116208.0000 - val_categorical_accuracy: 0.0997\n",
      "Epoch 42/100\n",
      "750/750 [==============================] - 4s 5ms/step - loss: 145190560.0000 - categorical_accuracy: 0.0992 - val_loss: 145116208.0000 - val_categorical_accuracy: 0.0997\n",
      "Epoch 43/100\n",
      "750/750 [==============================] - 4s 5ms/step - loss: 145190528.0000 - categorical_accuracy: 0.0992 - val_loss: 145116208.0000 - val_categorical_accuracy: 0.0997\n",
      "Epoch 44/100\n",
      "750/750 [==============================] - 4s 5ms/step - loss: 145190512.0000 - categorical_accuracy: 0.0992 - val_loss: 145116208.0000 - val_categorical_accuracy: 0.0997\n",
      "Epoch 45/100\n",
      "723/750 [===========================>..] - ETA: 0s - loss: 145115904.0000 - categorical_accuracy: 0.0997"
     ]
    },
    {
     "ename": "KeyboardInterrupt",
     "evalue": "",
     "output_type": "error",
     "traceback": [
      "\u001b[1;31m---------------------------------------------------------------------------\u001b[0m",
      "\u001b[1;31mKeyboardInterrupt\u001b[0m                         Traceback (most recent call last)",
      "\u001b[1;32mc:\\Users\\the_3\\OneDrive\\Desktop\\school\\Fall 2023\\keras-functional-api\\practice.ipynb Cell 12\u001b[0m in \u001b[0;36m<cell line: 4>\u001b[1;34m()\u001b[0m\n\u001b[0;32m      <a href='vscode-notebook-cell:/c%3A/Users/the_3/OneDrive/Desktop/school/Fall%202023/keras-functional-api/practice.ipynb#Y230sZmlsZQ%3D%3D?line=1'>2</a>\u001b[0m model_rl\u001b[39m.\u001b[39mcompile(optimizer\u001b[39m=\u001b[39m tf\u001b[39m.\u001b[39mkeras\u001b[39m.\u001b[39moptimizers\u001b[39m.\u001b[39mSGD(), loss\u001b[39m=\u001b[39mrational_loss, metrics\u001b[39m=\u001b[39mmetrics)\n\u001b[0;32m      <a href='vscode-notebook-cell:/c%3A/Users/the_3/OneDrive/Desktop/school/Fall%202023/keras-functional-api/practice.ipynb#Y230sZmlsZQ%3D%3D?line=2'>3</a>\u001b[0m \u001b[39m# training the model\u001b[39;00m\n\u001b[1;32m----> <a href='vscode-notebook-cell:/c%3A/Users/the_3/OneDrive/Desktop/school/Fall%202023/keras-functional-api/practice.ipynb#Y230sZmlsZQ%3D%3D?line=3'>4</a>\u001b[0m history \u001b[39m=\u001b[39m model_rl\u001b[39m.\u001b[39;49mfit(x_train, y_train, batch_size\u001b[39m=\u001b[39;49m\u001b[39m64\u001b[39;49m, epochs\u001b[39m=\u001b[39;49m\u001b[39m100\u001b[39;49m, validation_split\u001b[39m=\u001b[39;49m\u001b[39m0.2\u001b[39;49m)\n\u001b[0;32m      <a href='vscode-notebook-cell:/c%3A/Users/the_3/OneDrive/Desktop/school/Fall%202023/keras-functional-api/practice.ipynb#Y230sZmlsZQ%3D%3D?line=4'>5</a>\u001b[0m \u001b[39m# evaluating the model\u001b[39;00m\n\u001b[0;32m      <a href='vscode-notebook-cell:/c%3A/Users/the_3/OneDrive/Desktop/school/Fall%202023/keras-functional-api/practice.ipynb#Y230sZmlsZQ%3D%3D?line=5'>6</a>\u001b[0m test_scores \u001b[39m=\u001b[39m model_rl\u001b[39m.\u001b[39mevaluate(x_test, y_test, verbose\u001b[39m=\u001b[39m\u001b[39m2\u001b[39m)\n",
      "File \u001b[1;32mc:\\Users\\the_3\\anaconda3\\envs\\tf-gpu\\lib\\site-packages\\keras\\utils\\traceback_utils.py:65\u001b[0m, in \u001b[0;36mfilter_traceback.<locals>.error_handler\u001b[1;34m(*args, **kwargs)\u001b[0m\n\u001b[0;32m     63\u001b[0m filtered_tb \u001b[39m=\u001b[39m \u001b[39mNone\u001b[39;00m\n\u001b[0;32m     64\u001b[0m \u001b[39mtry\u001b[39;00m:\n\u001b[1;32m---> 65\u001b[0m     \u001b[39mreturn\u001b[39;00m fn(\u001b[39m*\u001b[39margs, \u001b[39m*\u001b[39m\u001b[39m*\u001b[39mkwargs)\n\u001b[0;32m     66\u001b[0m \u001b[39mexcept\u001b[39;00m \u001b[39mException\u001b[39;00m \u001b[39mas\u001b[39;00m e:\n\u001b[0;32m     67\u001b[0m     filtered_tb \u001b[39m=\u001b[39m _process_traceback_frames(e\u001b[39m.\u001b[39m__traceback__)\n",
      "File \u001b[1;32mc:\\Users\\the_3\\anaconda3\\envs\\tf-gpu\\lib\\site-packages\\keras\\engine\\training.py:1555\u001b[0m, in \u001b[0;36mModel.fit\u001b[1;34m(self, x, y, batch_size, epochs, verbose, callbacks, validation_split, validation_data, shuffle, class_weight, sample_weight, initial_epoch, steps_per_epoch, validation_steps, validation_batch_size, validation_freq, max_queue_size, workers, use_multiprocessing)\u001b[0m\n\u001b[0;32m   1551\u001b[0m \u001b[39mwith\u001b[39;00m data_handler\u001b[39m.\u001b[39mcatch_stop_iteration():\n\u001b[0;32m   1552\u001b[0m     data_handler\u001b[39m.\u001b[39m_initial_step \u001b[39m=\u001b[39m data_handler\u001b[39m.\u001b[39m_initial_step \u001b[39mor\u001b[39;00m (\n\u001b[0;32m   1553\u001b[0m         \u001b[39mself\u001b[39m\u001b[39m.\u001b[39m_maybe_load_initial_step_from_ckpt()\n\u001b[0;32m   1554\u001b[0m     )\n\u001b[1;32m-> 1555\u001b[0m     \u001b[39mfor\u001b[39;00m step \u001b[39min\u001b[39;00m data_handler\u001b[39m.\u001b[39msteps():\n\u001b[0;32m   1556\u001b[0m         \u001b[39mwith\u001b[39;00m tf\u001b[39m.\u001b[39mprofiler\u001b[39m.\u001b[39mexperimental\u001b[39m.\u001b[39mTrace(\n\u001b[0;32m   1557\u001b[0m             \u001b[39m\"\u001b[39m\u001b[39mtrain\u001b[39m\u001b[39m\"\u001b[39m,\n\u001b[0;32m   1558\u001b[0m             epoch_num\u001b[39m=\u001b[39mepoch,\n\u001b[1;32m   (...)\u001b[0m\n\u001b[0;32m   1561\u001b[0m             _r\u001b[39m=\u001b[39m\u001b[39m1\u001b[39m,\n\u001b[0;32m   1562\u001b[0m         ):\n\u001b[0;32m   1563\u001b[0m             callbacks\u001b[39m.\u001b[39mon_train_batch_begin(step)\n",
      "File \u001b[1;32mc:\\Users\\the_3\\anaconda3\\envs\\tf-gpu\\lib\\site-packages\\keras\\engine\\data_adapter.py:1374\u001b[0m, in \u001b[0;36mDataHandler.steps\u001b[1;34m(self)\u001b[0m\n\u001b[0;32m   1372\u001b[0m \u001b[39mif\u001b[39;00m \u001b[39mself\u001b[39m\u001b[39m.\u001b[39m_insufficient_data:  \u001b[39m# Set by `catch_stop_iteration`.\u001b[39;00m\n\u001b[0;32m   1373\u001b[0m     \u001b[39mbreak\u001b[39;00m\n\u001b[1;32m-> 1374\u001b[0m original_spe \u001b[39m=\u001b[39m \u001b[39mself\u001b[39;49m\u001b[39m.\u001b[39;49m_steps_per_execution\u001b[39m.\u001b[39;49mnumpy()\u001b[39m.\u001b[39mitem()\n\u001b[0;32m   1375\u001b[0m can_run_full_execution \u001b[39m=\u001b[39m (\n\u001b[0;32m   1376\u001b[0m     original_spe \u001b[39m==\u001b[39m \u001b[39m1\u001b[39m\n\u001b[0;32m   1377\u001b[0m     \u001b[39mor\u001b[39;00m \u001b[39mself\u001b[39m\u001b[39m.\u001b[39m_inferred_steps \u001b[39mis\u001b[39;00m \u001b[39mNone\u001b[39;00m\n\u001b[0;32m   1378\u001b[0m     \u001b[39mor\u001b[39;00m \u001b[39mself\u001b[39m\u001b[39m.\u001b[39m_inferred_steps \u001b[39m-\u001b[39m \u001b[39mself\u001b[39m\u001b[39m.\u001b[39m_current_step \u001b[39m>\u001b[39m\u001b[39m=\u001b[39m original_spe\n\u001b[0;32m   1379\u001b[0m )\n\u001b[0;32m   1381\u001b[0m \u001b[39mif\u001b[39;00m can_run_full_execution:\n",
      "File \u001b[1;32mc:\\Users\\the_3\\anaconda3\\envs\\tf-gpu\\lib\\site-packages\\tensorflow\\python\\ops\\resource_variable_ops.py:637\u001b[0m, in \u001b[0;36mBaseResourceVariable.numpy\u001b[1;34m(self)\u001b[0m\n\u001b[0;32m    635\u001b[0m \u001b[39mdef\u001b[39;00m \u001b[39mnumpy\u001b[39m(\u001b[39mself\u001b[39m):\n\u001b[0;32m    636\u001b[0m   \u001b[39mif\u001b[39;00m context\u001b[39m.\u001b[39mexecuting_eagerly():\n\u001b[1;32m--> 637\u001b[0m     \u001b[39mreturn\u001b[39;00m \u001b[39mself\u001b[39;49m\u001b[39m.\u001b[39;49mread_value()\u001b[39m.\u001b[39mnumpy()\n\u001b[0;32m    638\u001b[0m   \u001b[39mraise\u001b[39;00m \u001b[39mNotImplementedError\u001b[39;00m(\n\u001b[0;32m    639\u001b[0m       \u001b[39m\"\u001b[39m\u001b[39mnumpy() is only available when eager execution is enabled.\u001b[39m\u001b[39m\"\u001b[39m)\n",
      "File \u001b[1;32mc:\\Users\\the_3\\anaconda3\\envs\\tf-gpu\\lib\\site-packages\\tensorflow\\python\\ops\\resource_variable_ops.py:725\u001b[0m, in \u001b[0;36mBaseResourceVariable.read_value\u001b[1;34m(self)\u001b[0m\n\u001b[0;32m    716\u001b[0m \u001b[39m\"\"\"Constructs an op which reads the value of this variable.\u001b[39;00m\n\u001b[0;32m    717\u001b[0m \n\u001b[0;32m    718\u001b[0m \u001b[39mShould be used when there are multiple reads, or when it is desirable to\u001b[39;00m\n\u001b[1;32m   (...)\u001b[0m\n\u001b[0;32m    722\u001b[0m \u001b[39m  The value of the variable.\u001b[39;00m\n\u001b[0;32m    723\u001b[0m \u001b[39m\"\"\"\u001b[39;00m\n\u001b[0;32m    724\u001b[0m \u001b[39mwith\u001b[39;00m ops\u001b[39m.\u001b[39mname_scope(\u001b[39m\"\u001b[39m\u001b[39mRead\u001b[39m\u001b[39m\"\u001b[39m):\n\u001b[1;32m--> 725\u001b[0m   value \u001b[39m=\u001b[39m \u001b[39mself\u001b[39;49m\u001b[39m.\u001b[39;49m_read_variable_op()\n\u001b[0;32m    726\u001b[0m \u001b[39m# Return an identity so it can get placed on whatever device the context\u001b[39;00m\n\u001b[0;32m    727\u001b[0m \u001b[39m# specifies instead of the device where the variable is.\u001b[39;00m\n\u001b[0;32m    728\u001b[0m \u001b[39mreturn\u001b[39;00m array_ops\u001b[39m.\u001b[39midentity(value)\n",
      "File \u001b[1;32mc:\\Users\\the_3\\anaconda3\\envs\\tf-gpu\\lib\\site-packages\\tensorflow\\python\\ops\\resource_variable_ops.py:704\u001b[0m, in \u001b[0;36mBaseResourceVariable._read_variable_op\u001b[1;34m(self, no_copy)\u001b[0m\n\u001b[0;32m    702\u001b[0m       result \u001b[39m=\u001b[39m read_and_set_handle(no_copy)\n\u001b[0;32m    703\u001b[0m \u001b[39melse\u001b[39;00m:\n\u001b[1;32m--> 704\u001b[0m   result \u001b[39m=\u001b[39m read_and_set_handle(no_copy)\n\u001b[0;32m    706\u001b[0m \u001b[39mif\u001b[39;00m \u001b[39mnot\u001b[39;00m context\u001b[39m.\u001b[39mexecuting_eagerly():\n\u001b[0;32m    707\u001b[0m   \u001b[39m# Note that if a control flow context is active the input of the read op\u001b[39;00m\n\u001b[0;32m    708\u001b[0m   \u001b[39m# might not actually be the handle. This line bypasses it.\u001b[39;00m\n\u001b[0;32m    709\u001b[0m   tape\u001b[39m.\u001b[39mrecord_operation(\n\u001b[0;32m    710\u001b[0m       \u001b[39m\"\u001b[39m\u001b[39mReadVariableOp\u001b[39m\u001b[39m\"\u001b[39m, [result], [\u001b[39mself\u001b[39m\u001b[39m.\u001b[39mhandle],\n\u001b[0;32m    711\u001b[0m       backward_function\u001b[39m=\u001b[39m\u001b[39mlambda\u001b[39;00m x: [x],\n\u001b[0;32m    712\u001b[0m       forward_function\u001b[39m=\u001b[39m\u001b[39mlambda\u001b[39;00m x: [x])\n",
      "File \u001b[1;32mc:\\Users\\the_3\\anaconda3\\envs\\tf-gpu\\lib\\site-packages\\tensorflow\\python\\ops\\resource_variable_ops.py:694\u001b[0m, in \u001b[0;36mBaseResourceVariable._read_variable_op.<locals>.read_and_set_handle\u001b[1;34m(no_copy)\u001b[0m\n\u001b[0;32m    692\u001b[0m \u001b[39mif\u001b[39;00m no_copy \u001b[39mand\u001b[39;00m forward_compat\u001b[39m.\u001b[39mforward_compatible(\u001b[39m2022\u001b[39m, \u001b[39m5\u001b[39m, \u001b[39m3\u001b[39m):\n\u001b[0;32m    693\u001b[0m   gen_resource_variable_ops\u001b[39m.\u001b[39mdisable_copy_on_read(\u001b[39mself\u001b[39m\u001b[39m.\u001b[39mhandle)\n\u001b[1;32m--> 694\u001b[0m result \u001b[39m=\u001b[39m gen_resource_variable_ops\u001b[39m.\u001b[39;49mread_variable_op(\n\u001b[0;32m    695\u001b[0m     \u001b[39mself\u001b[39;49m\u001b[39m.\u001b[39;49mhandle, \u001b[39mself\u001b[39;49m\u001b[39m.\u001b[39;49m_dtype)\n\u001b[0;32m    696\u001b[0m _maybe_set_handle_data(\u001b[39mself\u001b[39m\u001b[39m.\u001b[39m_dtype, \u001b[39mself\u001b[39m\u001b[39m.\u001b[39mhandle, result)\n\u001b[0;32m    697\u001b[0m \u001b[39mreturn\u001b[39;00m result\n",
      "File \u001b[1;32mc:\\Users\\the_3\\anaconda3\\envs\\tf-gpu\\lib\\site-packages\\tensorflow\\python\\ops\\gen_resource_variable_ops.py:524\u001b[0m, in \u001b[0;36mread_variable_op\u001b[1;34m(resource, dtype, name)\u001b[0m\n\u001b[0;32m    522\u001b[0m \u001b[39mif\u001b[39;00m tld\u001b[39m.\u001b[39mis_eager:\n\u001b[0;32m    523\u001b[0m   \u001b[39mtry\u001b[39;00m:\n\u001b[1;32m--> 524\u001b[0m     _result \u001b[39m=\u001b[39m pywrap_tfe\u001b[39m.\u001b[39;49mTFE_Py_FastPathExecute(\n\u001b[0;32m    525\u001b[0m       _ctx, \u001b[39m\"\u001b[39;49m\u001b[39mReadVariableOp\u001b[39;49m\u001b[39m\"\u001b[39;49m, name, resource, \u001b[39m\"\u001b[39;49m\u001b[39mdtype\u001b[39;49m\u001b[39m\"\u001b[39;49m, dtype)\n\u001b[0;32m    526\u001b[0m     \u001b[39mreturn\u001b[39;00m _result\n\u001b[0;32m    527\u001b[0m   \u001b[39mexcept\u001b[39;00m _core\u001b[39m.\u001b[39m_NotOkStatusException \u001b[39mas\u001b[39;00m e:\n",
      "\u001b[1;31mKeyboardInterrupt\u001b[0m: "
     ]
    }
   ],
   "source": [
    "# compiling the model\n",
    "model_rl.compile(optimizer= tf.keras.optimizers.SGD(), loss=rational_loss, metrics=metrics)\n",
    "# training the model\n",
    "history = model_rl.fit(x_train, y_train, batch_size=64, epochs=100, validation_split=0.2)\n",
    "# evaluating the model\n",
    "test_scores = model_rl.evaluate(x_test, y_test, verbose=2)\n",
    "print('Test loss:', test_scores[0])\n",
    "print('Test accuracy:', test_scores[1])\n",
    "# saving the model\n",
    "path = './weights/mnist_rational_model.keras'\n",
    "model_rl.save(path)"
   ]
  },
  {
   "cell_type": "code",
   "execution_count": null,
   "id": "3b0b6284c01bdf98",
   "metadata": {
    "ExecuteTime": {
     "start_time": "2023-08-15T22:40:38.044751300Z"
    }
   },
   "outputs": [],
   "source": [
    "# rebuilding the models\n",
    "model_ce = build_model()\n",
    "model_fl = build_model()\n",
    "model_rl = build_model()\n"
   ]
  },
  {
   "cell_type": "code",
   "execution_count": null,
   "id": "674c73a18c8f5973",
   "metadata": {
    "ExecuteTime": {
     "end_time": "2023-08-15T22:40:38.086251Z",
     "start_time": "2023-08-15T22:40:38.046750600Z"
    }
   },
   "outputs": [],
   "source": [
    "# imbalance \n",
    "def create_imbalanced_data(x, y, imbalance_rate=0.5):\n",
    "    \"\"\"\n",
    "    Create an imbalanced dataset based on a given probability distribution.\n",
    "    The probability for class d is given by: P(d) = 0.5^d / 2*(1 - 0.5^10)\n",
    "\n",
    "    :param x: Features, shape of [total_samples, feature_dim].\n",
    "    :param y: One-hot encoded labels, shape of [total_samples, num_classes].\n",
    "    :param imbalance_rate: Base rate for the exponential decay of class frequency (default 0.5).\n",
    "    :return: Tuple of imbalanced features and labels, shapes of [selected_samples, feature_dim] and [selected_samples, num_classes].\n",
    "    \"\"\"\n",
    "    total_samples = len(y)\n",
    "    a = imbalance_rate\n",
    "    normalization_factor = 2 * (1 - a**10)\n",
    "\n",
    "    indices_by_class = [np.where(y[:, d] == 1)[0] for d in range(10)]\n",
    "    selected_indices = []\n",
    "\n",
    "    for d in range(10):\n",
    "        probability_d = (a**d) / normalization_factor\n",
    "        frequency = int(total_samples * probability_d)\n",
    "        np.random.shuffle(indices_by_class[d]) # Shuffle to ensure random selection\n",
    "        selected_indices.extend(indices_by_class[d][:frequency])\n",
    "\n",
    "    return x[selected_indices], y[selected_indices]\n",
    "\n",
    "\n",
    "x_train_imbalanced, y_train_imbalanced = create_imbalanced_data(x_train, y_train)\n"
   ]
  },
  {
   "cell_type": "code",
   "execution_count": null,
   "id": "16d76b12905e4aa4",
   "metadata": {
    "ExecuteTime": {
     "start_time": "2023-08-15T22:40:38.048751600Z"
    }
   },
   "outputs": [],
   "source": [
    "# compiling the model\n",
    "model_ce.compile(optimizer=keras.optimizers.SGD(), loss=keras.losses.CategoricalCrossentropy(), metrics=metrics)\n",
    "model_fl.compile(optimizer=keras.optimizers.SGD(), loss=keras.losses.CategoricalFocalCrossentropy(), metrics=metrics)\n",
    "model_rl.compile(optimizer=keras.optimizers.SGD(), loss=rational_loss, metrics=metrics)"
   ]
  },
  {
   "cell_type": "code",
   "execution_count": null,
   "id": "bdefdf376d35ec93",
   "metadata": {
    "ExecuteTime": {
     "start_time": "2023-08-15T22:40:38.051250400Z"
    }
   },
   "outputs": [],
   "source": [
    "print(\"Training on imbalanced data:\")\n",
    "print(\"Cross Entropy:\")\n",
    "model_ce.fit(x_train_imbalanced, y_train_imbalanced, epochs=100, batch_size=32, validation_split=0.2, callbacks=[early_stopping_callback])\n",
    "print(\"Focal Loss:\")\n",
    "model_fl.fit(x_train_imbalanced, y_train_imbalanced, epochs=100, batch_size=32, validation_split=0.2, callbacks=[early_stopping_callback])\n",
    "print(\"Rational Loss:\")\n",
    "model_rl.fit(x_train_imbalanced, y_train_imbalanced, epochs=100, batch_size=32, validation_split=0.2, callbacks=[early_stopping_callback])"
   ]
  },
  {
   "cell_type": "code",
   "execution_count": null,
   "id": "c7d9401ce9ef65d9",
   "metadata": {
    "ExecuteTime": {
     "start_time": "2023-08-15T22:40:38.052752500Z"
    }
   },
   "outputs": [],
   "source": [
    "# Balanced data\n",
    "print(model_ce.evaluate(x_test, y_test))\n",
    "print(model_fl.evaluate(x_test, y_test))\n",
    "print(model_rl.evaluate(x_test, y_test))\n",
    "\n",
    "# Imbalanced data\n",
    "x_test_imbalanced, y_test_imbalanced = create_imbalanced_data(x_test, y_test)\n",
    "print(model_ce.evaluate(x_test_imbalanced, y_test_imbalanced))\n",
    "print(model_fl.evaluate(x_test_imbalanced, y_test_imbalanced))\n",
    "print(model_rl.evaluate(x_test_imbalanced, y_test_imbalanced))"
   ]
  },
  {
   "cell_type": "code",
   "execution_count": null,
   "id": "143062bb0fb2c0d0",
   "metadata": {
    "ExecuteTime": {
     "start_time": "2023-08-15T22:40:38.055252300Z"
    }
   },
   "outputs": [],
   "source": [
    "def accuracy_by_bins(model, x, y):\n",
    "    \"\"\"\n",
    "    Calculate and print the accuracy of the given model for specific bins of classes.\n",
    "    The bins are defined as: 0-1, 2-7, 8-9.\n",
    "\n",
    "    :param model: Trained tf.keras model to evaluate.\n",
    "    :param x: Input features, shape of [num_samples, feature_dim].\n",
    "    :param y: One-hot encoded labels, shape of [num_samples, num_classes].\n",
    "    \"\"\"\n",
    "    predictions = model.predict(x).argmax(axis=-1)\n",
    "    true_labels = y.argmax(axis=-1)\n",
    "    bins = [(0, 1), (2, 7), (8, 9)]\n",
    "    for bin_start, bin_end in bins:\n",
    "        mask = (true_labels >= bin_start) & (true_labels <= bin_end) \n",
    "        bin_accuracy = np.mean(predictions[mask] == true_labels[mask])\n",
    "        print(f\"Accuracy for bin {bin_start}-{bin_end}: {bin_accuracy}\")\n",
    "\n",
    "print(\"Accuracy by bins for balanced data:\")\n",
    "print(\"Cross Entropy:\")\n",
    "accuracy_by_bins(model_ce, x_test, y_test)\n",
    "print(\"Focal Loss:\")\n",
    "accuracy_by_bins(model_fl, x_test, y_test)\n",
    "print(\"Rational Loss:\")\n",
    "accuracy_by_bins(model_rl, x_test, y_test)"
   ]
  }
 ],
 "metadata": {
  "kernelspec": {
   "display_name": "Python 3 (ipykernel)",
   "language": "python",
   "name": "python3"
  },
  "language_info": {
   "codemirror_mode": {
    "name": "ipython",
    "version": 3
   },
   "file_extension": ".py",
   "mimetype": "text/x-python",
   "name": "python",
   "nbconvert_exporter": "python",
   "pygments_lexer": "ipython3",
   "version": "3.9.12"
  }
 },
 "nbformat": 4,
 "nbformat_minor": 5
}
