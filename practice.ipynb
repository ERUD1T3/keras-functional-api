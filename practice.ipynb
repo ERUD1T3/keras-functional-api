{
 "cells": [
  {
   "cell_type": "markdown",
   "id": "db106a0ce89886c6",
   "metadata": {},
   "source": [
    "# Practice on Keras Functional API"
   ]
  },
  {
   "cell_type": "code",
   "execution_count": 5,
   "id": "eb2390991af87b21",
   "metadata": {
    "ExecuteTime": {
     "end_time": "2023-08-18T13:13:17.040990100Z",
     "start_time": "2023-08-18T13:13:16.821494800Z"
    }
   },
   "outputs": [],
   "source": [
    "# imports\n",
    "import tensorflow as tf\n",
    "import numpy as np\n",
    "import matplotlib.pyplot as plt\n",
    "from tensorflow.keras import backend as K\n",
    "from tensorflow.keras.callbacks import EarlyStopping\n",
    "# for types hints\n",
    "from typing import Tuple, Callable, List\n",
    "from tensorflow import Tensor"
   ]
  },
  {
   "cell_type": "code",
   "execution_count": 6,
   "id": "0566659f",
   "metadata": {
    "ExecuteTime": {
     "end_time": "2023-08-18T13:13:17.185489200Z",
     "start_time": "2023-08-18T13:13:16.849988300Z"
    }
   },
   "outputs": [
    {
     "name": "stdout",
     "output_type": "stream",
     "text": [
      "Num GPUs Available:  1\n"
     ]
    },
    {
     "data": {
      "text/plain": "[PhysicalDevice(name='/physical_device:GPU:0', device_type='GPU')]"
     },
     "execution_count": 6,
     "metadata": {},
     "output_type": "execute_result"
    }
   ],
   "source": [
    "# check for gpus\n",
    "print(\"Num GPUs Available: \", len(tf.config.experimental.list_physical_devices('GPU')))\n",
    "# list their names\n",
    "tf.config.experimental.list_physical_devices('GPU')"
   ]
  },
  {
   "cell_type": "code",
   "execution_count": 7,
   "id": "235572d8aa183bc7",
   "metadata": {
    "ExecuteTime": {
     "end_time": "2023-08-18T13:13:17.243494600Z",
     "start_time": "2023-08-18T13:13:16.860494Z"
    }
   },
   "outputs": [],
   "source": [
    "# mnist dataset\n",
    "def load_and_preprocess_mnist() -> Tuple[Tuple[Tensor, Tensor], Tuple[Tensor, Tensor]]:\n",
    "    \"\"\"\n",
    "    Load the MNIST dataset, preprocess images, and perform one-hot encoding of labels.\n",
    "\n",
    "    :return: Tuple of training data (x_train, y_train) and testing data (x_test, y_test).\n",
    "    \"\"\"\n",
    "    # Load MNIST dataset\n",
    "    (x_train, y_train), (x_test, y_test) =  tf.keras.datasets.mnist.load_data()\n",
    "\n",
    "    # Reshape and normalize images\n",
    "    x_train = x_train.reshape(60000, 784).astype('float32') / 255\n",
    "    x_test = x_test.reshape(10000, 784).astype('float32') / 255\n",
    "\n",
    "    # One-hot encoding of labels\n",
    "    y_train = tf.keras.utils.to_categorical(y_train, 10)\n",
    "    y_test = tf.keras.utils.to_categorical(y_test, 10)\n",
    "\n",
    "    return (x_train, y_train), (x_test, y_test)"
   ]
  },
  {
   "cell_type": "code",
   "execution_count": 8,
   "id": "42ff4c5d4d8c22ec",
   "metadata": {
    "ExecuteTime": {
     "end_time": "2023-08-18T13:13:17.412488Z",
     "start_time": "2023-08-18T13:13:16.887494400Z"
    }
   },
   "outputs": [],
   "source": [
    "\n",
    "(x_train, y_train), (x_test, y_test) = load_and_preprocess_mnist()\n"
   ]
  },
  {
   "cell_type": "code",
   "execution_count": 74,
   "id": "5a49bafd834711d3",
   "metadata": {
    "ExecuteTime": {
     "end_time": "2023-08-18T14:31:06.549655Z",
     "start_time": "2023-08-18T14:31:06.420148900Z"
    }
   },
   "outputs": [],
   "source": [
    "# building the model\n",
    "def build_model() -> tf.keras.Model:\n",
    "    \"\"\"\n",
    "    Build a simple MLP model for MNIST classification.\n",
    "    :return: A tf.keras Model with inputs and outputs defined.\n",
    "    \"\"\"\n",
    "    inputs = tf.keras.Input(shape=(784,), name='input')  # input layer\n",
    "    x = tf.keras.layers.Dense(64, activation='relu', name='hidden1')(inputs)  # hidden layer\n",
    "    x = tf.keras.layers.Dense(64, activation='relu', name='hidden2')(x)  # hidden layer\n",
    "    outputs = tf.keras.layers.Dense(10, activation='softmax', name='output')(x)  # output layer\n",
    "    \n",
    "    return tf.keras.Model(inputs=inputs, outputs=outputs)\n",
    "\n",
    "model_ce = build_model()\n",
    "model_fl = build_model()\n",
    "model_rl = build_model()"
   ]
  },
  {
   "cell_type": "code",
   "execution_count": 10,
   "id": "74658d8b5c82aac1",
   "metadata": {
    "ExecuteTime": {
     "end_time": "2023-08-18T13:21:02.913502300Z",
     "start_time": "2023-08-18T13:13:19.514989Z"
    }
   },
   "outputs": [
    {
     "name": "stdout",
     "output_type": "stream",
     "text": [
      "Epoch 1/100\n"
     ]
    },
    {
     "name": "stderr",
     "output_type": "stream",
     "text": [
      "2023-08-18 09:13:22.022654: I tensorflow/compiler/xla/stream_executor/cuda/cuda_blas.cc:606] TensorFloat-32 will be used for the matrix multiplication. This will only be logged once.\n",
      "2023-08-18 09:13:22.026325: I tensorflow/compiler/xla/service/service.cc:168] XLA service 0x7f3775d875a0 initialized for platform CUDA (this does not guarantee that XLA will be used). Devices:\n",
      "2023-08-18 09:13:22.026361: I tensorflow/compiler/xla/service/service.cc:176]   StreamExecutor device (0): NVIDIA GeForce RTX 3060, Compute Capability 8.6\n",
      "2023-08-18 09:13:22.246566: I tensorflow/compiler/xla/stream_executor/cuda/cuda_dnn.cc:432] Loaded cuDNN version 8600\n",
      "2023-08-18 09:13:22.257857: W tensorflow/compiler/xla/service/gpu/llvm_gpu_backend/gpu_backend_lib.cc:543] Can't find libdevice directory ${CUDA_DIR}/nvvm/libdevice. This may result in compilation or runtime failures, if the program we try to run uses routines from libdevice.\n",
      "Searched for CUDA in the following directories:\n",
      "  ./cuda_sdk_lib\n",
      "  /usr/local/cuda-11.8\n",
      "  /usr/local/cuda\n",
      "  .\n",
      "You can choose the search directory by setting xla_gpu_cuda_data_dir in HloModule's DebugOptions.  For most apps, setting the environment variable XLA_FLAGS=--xla_gpu_cuda_data_dir=/path/to/cuda will work.\n",
      "2023-08-18 09:13:22.341211: I ./tensorflow/compiler/jit/device_compiler.h:186] Compiled cluster using XLA!  This line is logged at most once for the lifetime of the process.\n"
     ]
    },
    {
     "name": "stdout",
     "output_type": "stream",
     "text": [
      "750/750 [==============================] - 8s 8ms/step - loss: 1.1604 - categorical_accuracy: 0.6918 - val_loss: 0.4948 - val_categorical_accuracy: 0.8758\n",
      "Epoch 2/100\n",
      "750/750 [==============================] - 6s 8ms/step - loss: 0.4346 - categorical_accuracy: 0.8825 - val_loss: 0.3555 - val_categorical_accuracy: 0.9009\n",
      "Epoch 3/100\n",
      "750/750 [==============================] - 6s 8ms/step - loss: 0.3533 - categorical_accuracy: 0.9003 - val_loss: 0.3089 - val_categorical_accuracy: 0.9120\n",
      "Epoch 4/100\n",
      "750/750 [==============================] - 6s 8ms/step - loss: 0.3163 - categorical_accuracy: 0.9099 - val_loss: 0.2836 - val_categorical_accuracy: 0.9208\n",
      "Epoch 5/100\n",
      "750/750 [==============================] - 5s 7ms/step - loss: 0.2911 - categorical_accuracy: 0.9175 - val_loss: 0.2653 - val_categorical_accuracy: 0.9245\n",
      "Epoch 6/100\n",
      "750/750 [==============================] - 6s 8ms/step - loss: 0.2716 - categorical_accuracy: 0.9232 - val_loss: 0.2494 - val_categorical_accuracy: 0.9306\n",
      "Epoch 7/100\n",
      "750/750 [==============================] - 6s 8ms/step - loss: 0.2542 - categorical_accuracy: 0.9280 - val_loss: 0.2369 - val_categorical_accuracy: 0.9346\n",
      "Epoch 8/100\n",
      "750/750 [==============================] - 6s 8ms/step - loss: 0.2391 - categorical_accuracy: 0.9326 - val_loss: 0.2267 - val_categorical_accuracy: 0.9367\n",
      "Epoch 9/100\n",
      "750/750 [==============================] - 8s 11ms/step - loss: 0.2258 - categorical_accuracy: 0.9360 - val_loss: 0.2171 - val_categorical_accuracy: 0.9379\n",
      "Epoch 10/100\n",
      "750/750 [==============================] - 8s 11ms/step - loss: 0.2135 - categorical_accuracy: 0.9392 - val_loss: 0.2064 - val_categorical_accuracy: 0.9430\n",
      "Epoch 11/100\n",
      "750/750 [==============================] - 8s 11ms/step - loss: 0.2024 - categorical_accuracy: 0.9425 - val_loss: 0.1960 - val_categorical_accuracy: 0.9460\n",
      "Epoch 12/100\n",
      "750/750 [==============================] - 8s 11ms/step - loss: 0.1923 - categorical_accuracy: 0.9454 - val_loss: 0.1888 - val_categorical_accuracy: 0.9479\n",
      "Epoch 13/100\n",
      "750/750 [==============================] - 8s 11ms/step - loss: 0.1838 - categorical_accuracy: 0.9478 - val_loss: 0.1838 - val_categorical_accuracy: 0.9501\n",
      "Epoch 14/100\n",
      "750/750 [==============================] - 6s 8ms/step - loss: 0.1756 - categorical_accuracy: 0.9502 - val_loss: 0.1763 - val_categorical_accuracy: 0.9513\n",
      "Epoch 15/100\n",
      "750/750 [==============================] - 8s 11ms/step - loss: 0.1682 - categorical_accuracy: 0.9520 - val_loss: 0.1711 - val_categorical_accuracy: 0.9537\n",
      "Epoch 16/100\n",
      "750/750 [==============================] - 8s 11ms/step - loss: 0.1611 - categorical_accuracy: 0.9547 - val_loss: 0.1650 - val_categorical_accuracy: 0.9548\n",
      "Epoch 17/100\n",
      "750/750 [==============================] - 8s 11ms/step - loss: 0.1548 - categorical_accuracy: 0.9565 - val_loss: 0.1616 - val_categorical_accuracy: 0.9550\n",
      "Epoch 18/100\n",
      "750/750 [==============================] - 8s 11ms/step - loss: 0.1490 - categorical_accuracy: 0.9581 - val_loss: 0.1576 - val_categorical_accuracy: 0.9561\n",
      "Epoch 19/100\n",
      "750/750 [==============================] - 7s 10ms/step - loss: 0.1433 - categorical_accuracy: 0.9598 - val_loss: 0.1541 - val_categorical_accuracy: 0.9572\n",
      "Epoch 20/100\n",
      "750/750 [==============================] - 7s 9ms/step - loss: 0.1382 - categorical_accuracy: 0.9613 - val_loss: 0.1487 - val_categorical_accuracy: 0.9592\n",
      "Epoch 21/100\n",
      "750/750 [==============================] - 6s 8ms/step - loss: 0.1336 - categorical_accuracy: 0.9626 - val_loss: 0.1476 - val_categorical_accuracy: 0.9583\n",
      "Epoch 22/100\n",
      "750/750 [==============================] - 7s 9ms/step - loss: 0.1292 - categorical_accuracy: 0.9639 - val_loss: 0.1423 - val_categorical_accuracy: 0.9602\n",
      "Epoch 23/100\n",
      "750/750 [==============================] - 7s 9ms/step - loss: 0.1251 - categorical_accuracy: 0.9650 - val_loss: 0.1418 - val_categorical_accuracy: 0.9604\n",
      "Epoch 24/100\n",
      "750/750 [==============================] - 7s 9ms/step - loss: 0.1213 - categorical_accuracy: 0.9657 - val_loss: 0.1386 - val_categorical_accuracy: 0.9607\n",
      "Epoch 25/100\n",
      "750/750 [==============================] - 7s 9ms/step - loss: 0.1173 - categorical_accuracy: 0.9678 - val_loss: 0.1373 - val_categorical_accuracy: 0.9614\n",
      "Epoch 26/100\n",
      "750/750 [==============================] - 6s 9ms/step - loss: 0.1140 - categorical_accuracy: 0.9680 - val_loss: 0.1333 - val_categorical_accuracy: 0.9627\n",
      "Epoch 27/100\n",
      "750/750 [==============================] - 7s 9ms/step - loss: 0.1107 - categorical_accuracy: 0.9693 - val_loss: 0.1309 - val_categorical_accuracy: 0.9629\n",
      "Epoch 28/100\n",
      "750/750 [==============================] - 6s 9ms/step - loss: 0.1079 - categorical_accuracy: 0.9700 - val_loss: 0.1294 - val_categorical_accuracy: 0.9632\n",
      "Epoch 29/100\n",
      "750/750 [==============================] - 7s 9ms/step - loss: 0.1046 - categorical_accuracy: 0.9709 - val_loss: 0.1284 - val_categorical_accuracy: 0.9636\n",
      "Epoch 30/100\n",
      "750/750 [==============================] - 7s 9ms/step - loss: 0.1021 - categorical_accuracy: 0.9718 - val_loss: 0.1266 - val_categorical_accuracy: 0.9643\n",
      "Epoch 31/100\n",
      "750/750 [==============================] - 6s 8ms/step - loss: 0.0992 - categorical_accuracy: 0.9725 - val_loss: 0.1241 - val_categorical_accuracy: 0.9645\n",
      "Epoch 32/100\n",
      "750/750 [==============================] - 7s 9ms/step - loss: 0.0968 - categorical_accuracy: 0.9732 - val_loss: 0.1219 - val_categorical_accuracy: 0.9653\n",
      "Epoch 33/100\n",
      "750/750 [==============================] - 6s 8ms/step - loss: 0.0941 - categorical_accuracy: 0.9744 - val_loss: 0.1219 - val_categorical_accuracy: 0.9647\n",
      "Epoch 34/100\n",
      "750/750 [==============================] - 6s 8ms/step - loss: 0.0919 - categorical_accuracy: 0.9747 - val_loss: 0.1213 - val_categorical_accuracy: 0.9652\n",
      "Epoch 35/100\n",
      "750/750 [==============================] - 6s 8ms/step - loss: 0.0894 - categorical_accuracy: 0.9753 - val_loss: 0.1182 - val_categorical_accuracy: 0.9668\n",
      "Epoch 36/100\n",
      "750/750 [==============================] - 6s 8ms/step - loss: 0.0875 - categorical_accuracy: 0.9757 - val_loss: 0.1169 - val_categorical_accuracy: 0.9664\n",
      "Epoch 37/100\n",
      "750/750 [==============================] - 6s 9ms/step - loss: 0.0852 - categorical_accuracy: 0.9770 - val_loss: 0.1152 - val_categorical_accuracy: 0.9679\n",
      "Epoch 38/100\n",
      "750/750 [==============================] - 6s 9ms/step - loss: 0.0833 - categorical_accuracy: 0.9776 - val_loss: 0.1154 - val_categorical_accuracy: 0.9676\n",
      "Epoch 39/100\n",
      "750/750 [==============================] - 7s 9ms/step - loss: 0.0815 - categorical_accuracy: 0.9781 - val_loss: 0.1147 - val_categorical_accuracy: 0.9673\n",
      "Epoch 40/100\n",
      "750/750 [==============================] - 7s 9ms/step - loss: 0.0795 - categorical_accuracy: 0.9782 - val_loss: 0.1136 - val_categorical_accuracy: 0.9678\n",
      "Epoch 41/100\n",
      "750/750 [==============================] - 6s 9ms/step - loss: 0.0779 - categorical_accuracy: 0.9788 - val_loss: 0.1141 - val_categorical_accuracy: 0.9668\n",
      "Epoch 42/100\n",
      "750/750 [==============================] - 6s 8ms/step - loss: 0.0763 - categorical_accuracy: 0.9794 - val_loss: 0.1106 - val_categorical_accuracy: 0.9690\n",
      "Epoch 43/100\n",
      "750/750 [==============================] - 6s 9ms/step - loss: 0.0744 - categorical_accuracy: 0.9799 - val_loss: 0.1113 - val_categorical_accuracy: 0.9681\n",
      "Epoch 44/100\n",
      "750/750 [==============================] - 6s 8ms/step - loss: 0.0729 - categorical_accuracy: 0.9806 - val_loss: 0.1101 - val_categorical_accuracy: 0.9680\n",
      "Epoch 45/100\n",
      "750/750 [==============================] - 6s 9ms/step - loss: 0.0714 - categorical_accuracy: 0.9809 - val_loss: 0.1088 - val_categorical_accuracy: 0.9686\n",
      "Epoch 46/100\n",
      "750/750 [==============================] - 7s 9ms/step - loss: 0.0696 - categorical_accuracy: 0.9813 - val_loss: 0.1087 - val_categorical_accuracy: 0.9689\n",
      "Epoch 47/100\n",
      "750/750 [==============================] - 6s 8ms/step - loss: 0.0685 - categorical_accuracy: 0.9817 - val_loss: 0.1072 - val_categorical_accuracy: 0.9692\n",
      "Epoch 48/100\n",
      "750/750 [==============================] - 6s 9ms/step - loss: 0.0671 - categorical_accuracy: 0.9821 - val_loss: 0.1075 - val_categorical_accuracy: 0.9695\n",
      "Epoch 49/100\n",
      "750/750 [==============================] - 7s 9ms/step - loss: 0.0657 - categorical_accuracy: 0.9824 - val_loss: 0.1051 - val_categorical_accuracy: 0.9694\n",
      "Epoch 50/100\n",
      "750/750 [==============================] - 6s 8ms/step - loss: 0.0645 - categorical_accuracy: 0.9828 - val_loss: 0.1063 - val_categorical_accuracy: 0.9703\n",
      "Epoch 51/100\n",
      "750/750 [==============================] - 6s 8ms/step - loss: 0.0631 - categorical_accuracy: 0.9830 - val_loss: 0.1050 - val_categorical_accuracy: 0.9697\n",
      "Epoch 52/100\n",
      "750/750 [==============================] - 7s 9ms/step - loss: 0.0617 - categorical_accuracy: 0.9838 - val_loss: 0.1059 - val_categorical_accuracy: 0.9698\n",
      "Epoch 53/100\n",
      "750/750 [==============================] - 6s 9ms/step - loss: 0.0607 - categorical_accuracy: 0.9840 - val_loss: 0.1042 - val_categorical_accuracy: 0.9697\n",
      "Epoch 54/100\n",
      "750/750 [==============================] - 7s 9ms/step - loss: 0.0595 - categorical_accuracy: 0.9843 - val_loss: 0.1039 - val_categorical_accuracy: 0.9698\n",
      "Epoch 55/100\n",
      "750/750 [==============================] - 6s 8ms/step - loss: 0.0584 - categorical_accuracy: 0.9844 - val_loss: 0.1057 - val_categorical_accuracy: 0.9698\n",
      "Epoch 56/100\n",
      "750/750 [==============================] - 7s 9ms/step - loss: 0.0572 - categorical_accuracy: 0.9853 - val_loss: 0.1047 - val_categorical_accuracy: 0.9698\n",
      "Epoch 57/100\n",
      "750/750 [==============================] - 6s 9ms/step - loss: 0.0560 - categorical_accuracy: 0.9851 - val_loss: 0.1030 - val_categorical_accuracy: 0.9702\n",
      "Epoch 58/100\n",
      "750/750 [==============================] - 7s 9ms/step - loss: 0.0549 - categorical_accuracy: 0.9854 - val_loss: 0.1029 - val_categorical_accuracy: 0.9706\n",
      "Epoch 59/100\n",
      "750/750 [==============================] - 6s 8ms/step - loss: 0.0540 - categorical_accuracy: 0.9860 - val_loss: 0.1032 - val_categorical_accuracy: 0.9703\n",
      "Epoch 60/100\n",
      "750/750 [==============================] - 6s 8ms/step - loss: 0.0530 - categorical_accuracy: 0.9858 - val_loss: 0.1034 - val_categorical_accuracy: 0.9707\n",
      "Epoch 61/100\n",
      "750/750 [==============================] - 6s 8ms/step - loss: 0.0520 - categorical_accuracy: 0.9865 - val_loss: 0.1021 - val_categorical_accuracy: 0.9705\n",
      "Epoch 62/100\n",
      "750/750 [==============================] - 6s 8ms/step - loss: 0.0509 - categorical_accuracy: 0.9865 - val_loss: 0.1021 - val_categorical_accuracy: 0.9709\n",
      "Epoch 63/100\n",
      "750/750 [==============================] - 7s 9ms/step - loss: 0.0502 - categorical_accuracy: 0.9875 - val_loss: 0.1005 - val_categorical_accuracy: 0.9712\n",
      "Epoch 64/100\n",
      "750/750 [==============================] - 7s 9ms/step - loss: 0.0490 - categorical_accuracy: 0.9875 - val_loss: 0.1027 - val_categorical_accuracy: 0.9707\n",
      "Epoch 65/100\n",
      "750/750 [==============================] - 6s 8ms/step - loss: 0.0482 - categorical_accuracy: 0.9879 - val_loss: 0.1044 - val_categorical_accuracy: 0.9697\n",
      "Epoch 66/100\n",
      "750/750 [==============================] - 6s 8ms/step - loss: 0.0473 - categorical_accuracy: 0.9877 - val_loss: 0.1028 - val_categorical_accuracy: 0.9706\n",
      "Epoch 67/100\n",
      "750/750 [==============================] - 6s 9ms/step - loss: 0.0464 - categorical_accuracy: 0.9882 - val_loss: 0.1023 - val_categorical_accuracy: 0.9708\n",
      "Epoch 68/100\n",
      "750/750 [==============================] - 6s 9ms/step - loss: 0.0458 - categorical_accuracy: 0.9880 - val_loss: 0.1011 - val_categorical_accuracy: 0.9714\n",
      "Epoch 69/100\n",
      "750/750 [==============================] - 7s 9ms/step - loss: 0.0448 - categorical_accuracy: 0.9888 - val_loss: 0.1031 - val_categorical_accuracy: 0.9697\n",
      "313/313 - 2s - loss: 0.0936 - categorical_accuracy: 0.9722 - 2s/epoch - 6ms/step\n",
      "Test loss: 0.0935850664973259\n",
      "Test accuracy: 97.21999764442444\n"
     ]
    }
   ],
   "source": [
    "optimizer = tf.keras.optimizers.SGD()\n",
    "ce_loss = tf.keras.losses.CategoricalCrossentropy()\n",
    "metrics = [tf.keras.metrics.CategoricalAccuracy()]\n",
    "# compiling the model\n",
    "model_ce.compile(optimizer=optimizer, loss=ce_loss, metrics=metrics)\n",
    "# training the model\n",
    "early_stopping_callback = EarlyStopping(monitor='val_loss', patience=6, restore_best_weights=True)\n",
    "model_ce.fit(x_train, y_train, batch_size=64, epochs=100, validation_split=0.2, callbacks=[early_stopping_callback])\n",
    "# evaluating the model\n",
    "test_scores = model_ce.evaluate(x_test, y_test, verbose=2)\n",
    "print('Test loss:', test_scores[0])\n",
    "print('Test accuracy:', test_scores[1]*100)\n",
    "\n",
    "# saving the model\n",
    "path = './weights/mnist_ce_model.keras'\n",
    "model_ce.save(path)"
   ]
  },
  {
   "cell_type": "code",
   "execution_count": 11,
   "id": "ff849813ffddfd76",
   "metadata": {
    "ExecuteTime": {
     "end_time": "2023-08-18T13:31:50.224996800Z",
     "start_time": "2023-08-18T13:21:02.891497100Z"
    }
   },
   "outputs": [
    {
     "name": "stdout",
     "output_type": "stream",
     "text": [
      "Epoch 1/100\n",
      "750/750 [==============================] - 8s 9ms/step - loss: 0.3605 - categorical_accuracy: 0.5545 - val_loss: 0.2290 - val_categorical_accuracy: 0.7343\n",
      "Epoch 2/100\n",
      "750/750 [==============================] - 7s 10ms/step - loss: 0.1592 - categorical_accuracy: 0.7690 - val_loss: 0.1063 - val_categorical_accuracy: 0.8219\n",
      "Epoch 3/100\n",
      "750/750 [==============================] - 7s 9ms/step - loss: 0.0954 - categorical_accuracy: 0.8232 - val_loss: 0.0762 - val_categorical_accuracy: 0.8548\n",
      "Epoch 4/100\n",
      "750/750 [==============================] - 7s 9ms/step - loss: 0.0749 - categorical_accuracy: 0.8511 - val_loss: 0.0636 - val_categorical_accuracy: 0.8723\n",
      "Epoch 5/100\n",
      "750/750 [==============================] - 7s 9ms/step - loss: 0.0648 - categorical_accuracy: 0.8667 - val_loss: 0.0568 - val_categorical_accuracy: 0.8812\n",
      "Epoch 6/100\n",
      "750/750 [==============================] - 7s 10ms/step - loss: 0.0586 - categorical_accuracy: 0.8780 - val_loss: 0.0525 - val_categorical_accuracy: 0.8870\n",
      "Epoch 7/100\n",
      "750/750 [==============================] - 7s 9ms/step - loss: 0.0544 - categorical_accuracy: 0.8861 - val_loss: 0.0494 - val_categorical_accuracy: 0.8933\n",
      "Epoch 8/100\n",
      "750/750 [==============================] - 7s 9ms/step - loss: 0.0513 - categorical_accuracy: 0.8911 - val_loss: 0.0471 - val_categorical_accuracy: 0.8981\n",
      "Epoch 9/100\n",
      "750/750 [==============================] - 7s 9ms/step - loss: 0.0489 - categorical_accuracy: 0.8955 - val_loss: 0.0451 - val_categorical_accuracy: 0.9002\n",
      "Epoch 10/100\n",
      "750/750 [==============================] - 7s 9ms/step - loss: 0.0469 - categorical_accuracy: 0.8991 - val_loss: 0.0436 - val_categorical_accuracy: 0.9038\n",
      "Epoch 11/100\n",
      "750/750 [==============================] - 7s 9ms/step - loss: 0.0453 - categorical_accuracy: 0.9018 - val_loss: 0.0423 - val_categorical_accuracy: 0.9067\n",
      "Epoch 12/100\n",
      "750/750 [==============================] - 6s 9ms/step - loss: 0.0439 - categorical_accuracy: 0.9047 - val_loss: 0.0412 - val_categorical_accuracy: 0.9081\n",
      "Epoch 13/100\n",
      "750/750 [==============================] - 7s 9ms/step - loss: 0.0426 - categorical_accuracy: 0.9068 - val_loss: 0.0401 - val_categorical_accuracy: 0.9107\n",
      "Epoch 14/100\n",
      "750/750 [==============================] - 7s 9ms/step - loss: 0.0415 - categorical_accuracy: 0.9085 - val_loss: 0.0393 - val_categorical_accuracy: 0.9110\n",
      "Epoch 15/100\n",
      "750/750 [==============================] - 7s 10ms/step - loss: 0.0405 - categorical_accuracy: 0.9105 - val_loss: 0.0384 - val_categorical_accuracy: 0.9140\n",
      "Epoch 16/100\n",
      "750/750 [==============================] - 7s 9ms/step - loss: 0.0396 - categorical_accuracy: 0.9122 - val_loss: 0.0379 - val_categorical_accuracy: 0.9156\n",
      "Epoch 17/100\n",
      "750/750 [==============================] - 7s 9ms/step - loss: 0.0387 - categorical_accuracy: 0.9144 - val_loss: 0.0370 - val_categorical_accuracy: 0.9173\n",
      "Epoch 18/100\n",
      "750/750 [==============================] - 6s 9ms/step - loss: 0.0379 - categorical_accuracy: 0.9153 - val_loss: 0.0364 - val_categorical_accuracy: 0.9178\n",
      "Epoch 19/100\n",
      "750/750 [==============================] - 6s 8ms/step - loss: 0.0372 - categorical_accuracy: 0.9167 - val_loss: 0.0358 - val_categorical_accuracy: 0.9200\n",
      "Epoch 20/100\n",
      "750/750 [==============================] - 6s 9ms/step - loss: 0.0365 - categorical_accuracy: 0.9180 - val_loss: 0.0352 - val_categorical_accuracy: 0.9218\n",
      "Epoch 21/100\n",
      "750/750 [==============================] - 7s 9ms/step - loss: 0.0358 - categorical_accuracy: 0.9198 - val_loss: 0.0348 - val_categorical_accuracy: 0.9203\n",
      "Epoch 22/100\n",
      "750/750 [==============================] - 6s 8ms/step - loss: 0.0353 - categorical_accuracy: 0.9206 - val_loss: 0.0342 - val_categorical_accuracy: 0.9226\n",
      "Epoch 23/100\n",
      "750/750 [==============================] - 7s 9ms/step - loss: 0.0347 - categorical_accuracy: 0.9216 - val_loss: 0.0338 - val_categorical_accuracy: 0.9237\n",
      "Epoch 24/100\n",
      "750/750 [==============================] - 7s 9ms/step - loss: 0.0341 - categorical_accuracy: 0.9226 - val_loss: 0.0333 - val_categorical_accuracy: 0.9254\n",
      "Epoch 25/100\n",
      "750/750 [==============================] - 7s 10ms/step - loss: 0.0336 - categorical_accuracy: 0.9243 - val_loss: 0.0329 - val_categorical_accuracy: 0.9251\n",
      "Epoch 26/100\n",
      "750/750 [==============================] - 7s 9ms/step - loss: 0.0331 - categorical_accuracy: 0.9245 - val_loss: 0.0325 - val_categorical_accuracy: 0.9263\n",
      "Epoch 27/100\n",
      "750/750 [==============================] - 7s 9ms/step - loss: 0.0326 - categorical_accuracy: 0.9264 - val_loss: 0.0321 - val_categorical_accuracy: 0.9269\n",
      "Epoch 28/100\n",
      "750/750 [==============================] - 7s 9ms/step - loss: 0.0321 - categorical_accuracy: 0.9270 - val_loss: 0.0318 - val_categorical_accuracy: 0.9285\n",
      "Epoch 29/100\n",
      "750/750 [==============================] - 7s 9ms/step - loss: 0.0316 - categorical_accuracy: 0.9277 - val_loss: 0.0314 - val_categorical_accuracy: 0.9292\n",
      "Epoch 30/100\n",
      "750/750 [==============================] - 7s 9ms/step - loss: 0.0312 - categorical_accuracy: 0.9286 - val_loss: 0.0311 - val_categorical_accuracy: 0.9288\n",
      "Epoch 31/100\n",
      "750/750 [==============================] - 6s 8ms/step - loss: 0.0308 - categorical_accuracy: 0.9297 - val_loss: 0.0308 - val_categorical_accuracy: 0.9302\n",
      "Epoch 32/100\n",
      "750/750 [==============================] - 6s 8ms/step - loss: 0.0304 - categorical_accuracy: 0.9302 - val_loss: 0.0304 - val_categorical_accuracy: 0.9308\n",
      "Epoch 33/100\n",
      "750/750 [==============================] - 6s 8ms/step - loss: 0.0299 - categorical_accuracy: 0.9306 - val_loss: 0.0301 - val_categorical_accuracy: 0.9312\n",
      "Epoch 34/100\n",
      "750/750 [==============================] - 6s 9ms/step - loss: 0.0295 - categorical_accuracy: 0.9319 - val_loss: 0.0298 - val_categorical_accuracy: 0.9321\n",
      "Epoch 35/100\n",
      "750/750 [==============================] - 6s 9ms/step - loss: 0.0292 - categorical_accuracy: 0.9324 - val_loss: 0.0295 - val_categorical_accuracy: 0.9328\n",
      "Epoch 36/100\n",
      "750/750 [==============================] - 6s 8ms/step - loss: 0.0288 - categorical_accuracy: 0.9335 - val_loss: 0.0292 - val_categorical_accuracy: 0.9327\n",
      "Epoch 37/100\n",
      "750/750 [==============================] - 6s 9ms/step - loss: 0.0284 - categorical_accuracy: 0.9341 - val_loss: 0.0289 - val_categorical_accuracy: 0.9331\n",
      "Epoch 38/100\n",
      "750/750 [==============================] - 6s 8ms/step - loss: 0.0281 - categorical_accuracy: 0.9349 - val_loss: 0.0287 - val_categorical_accuracy: 0.9342\n",
      "Epoch 39/100\n",
      "750/750 [==============================] - 6s 8ms/step - loss: 0.0278 - categorical_accuracy: 0.9351 - val_loss: 0.0284 - val_categorical_accuracy: 0.9347\n",
      "Epoch 40/100\n",
      "750/750 [==============================] - 6s 8ms/step - loss: 0.0274 - categorical_accuracy: 0.9365 - val_loss: 0.0281 - val_categorical_accuracy: 0.9348\n",
      "Epoch 41/100\n",
      "750/750 [==============================] - 6s 8ms/step - loss: 0.0271 - categorical_accuracy: 0.9364 - val_loss: 0.0278 - val_categorical_accuracy: 0.9368\n",
      "Epoch 42/100\n",
      "750/750 [==============================] - 6s 8ms/step - loss: 0.0268 - categorical_accuracy: 0.9373 - val_loss: 0.0276 - val_categorical_accuracy: 0.9376\n",
      "Epoch 43/100\n",
      "750/750 [==============================] - 6s 9ms/step - loss: 0.0265 - categorical_accuracy: 0.9376 - val_loss: 0.0274 - val_categorical_accuracy: 0.9372\n",
      "Epoch 44/100\n",
      "750/750 [==============================] - 7s 9ms/step - loss: 0.0261 - categorical_accuracy: 0.9383 - val_loss: 0.0271 - val_categorical_accuracy: 0.9384\n",
      "Epoch 45/100\n",
      "750/750 [==============================] - 7s 9ms/step - loss: 0.0258 - categorical_accuracy: 0.9388 - val_loss: 0.0268 - val_categorical_accuracy: 0.9389\n",
      "Epoch 46/100\n",
      "750/750 [==============================] - 7s 9ms/step - loss: 0.0255 - categorical_accuracy: 0.9395 - val_loss: 0.0267 - val_categorical_accuracy: 0.9390\n",
      "Epoch 47/100\n",
      "750/750 [==============================] - 6s 8ms/step - loss: 0.0253 - categorical_accuracy: 0.9399 - val_loss: 0.0264 - val_categorical_accuracy: 0.9414\n",
      "Epoch 48/100\n",
      "750/750 [==============================] - 7s 9ms/step - loss: 0.0250 - categorical_accuracy: 0.9405 - val_loss: 0.0261 - val_categorical_accuracy: 0.9408\n",
      "Epoch 49/100\n",
      "750/750 [==============================] - 6s 8ms/step - loss: 0.0247 - categorical_accuracy: 0.9413 - val_loss: 0.0259 - val_categorical_accuracy: 0.9413\n",
      "Epoch 50/100\n",
      "750/750 [==============================] - 6s 8ms/step - loss: 0.0244 - categorical_accuracy: 0.9418 - val_loss: 0.0258 - val_categorical_accuracy: 0.9406\n",
      "Epoch 51/100\n",
      "750/750 [==============================] - 6s 9ms/step - loss: 0.0242 - categorical_accuracy: 0.9422 - val_loss: 0.0255 - val_categorical_accuracy: 0.9419\n",
      "Epoch 52/100\n",
      "750/750 [==============================] - 6s 9ms/step - loss: 0.0239 - categorical_accuracy: 0.9428 - val_loss: 0.0254 - val_categorical_accuracy: 0.9423\n",
      "Epoch 53/100\n",
      "750/750 [==============================] - 6s 8ms/step - loss: 0.0236 - categorical_accuracy: 0.9435 - val_loss: 0.0252 - val_categorical_accuracy: 0.9422\n",
      "Epoch 54/100\n",
      "750/750 [==============================] - 6s 8ms/step - loss: 0.0234 - categorical_accuracy: 0.9439 - val_loss: 0.0250 - val_categorical_accuracy: 0.9415\n",
      "Epoch 55/100\n",
      "750/750 [==============================] - 6s 8ms/step - loss: 0.0232 - categorical_accuracy: 0.9439 - val_loss: 0.0247 - val_categorical_accuracy: 0.9432\n",
      "Epoch 56/100\n",
      "750/750 [==============================] - 6s 8ms/step - loss: 0.0229 - categorical_accuracy: 0.9449 - val_loss: 0.0245 - val_categorical_accuracy: 0.9435\n",
      "Epoch 57/100\n",
      "750/750 [==============================] - 6s 8ms/step - loss: 0.0227 - categorical_accuracy: 0.9450 - val_loss: 0.0243 - val_categorical_accuracy: 0.9442\n",
      "Epoch 58/100\n",
      "750/750 [==============================] - 6s 8ms/step - loss: 0.0224 - categorical_accuracy: 0.9457 - val_loss: 0.0241 - val_categorical_accuracy: 0.9443\n",
      "Epoch 59/100\n",
      "750/750 [==============================] - 6s 8ms/step - loss: 0.0222 - categorical_accuracy: 0.9463 - val_loss: 0.0240 - val_categorical_accuracy: 0.9440\n",
      "Epoch 60/100\n",
      "750/750 [==============================] - 6s 8ms/step - loss: 0.0220 - categorical_accuracy: 0.9470 - val_loss: 0.0238 - val_categorical_accuracy: 0.9448\n",
      "Epoch 61/100\n",
      "750/750 [==============================] - 6s 8ms/step - loss: 0.0217 - categorical_accuracy: 0.9472 - val_loss: 0.0236 - val_categorical_accuracy: 0.9451\n",
      "Epoch 62/100\n",
      "750/750 [==============================] - 6s 8ms/step - loss: 0.0215 - categorical_accuracy: 0.9478 - val_loss: 0.0234 - val_categorical_accuracy: 0.9460\n",
      "Epoch 63/100\n",
      "750/750 [==============================] - 6s 8ms/step - loss: 0.0213 - categorical_accuracy: 0.9480 - val_loss: 0.0233 - val_categorical_accuracy: 0.9455\n",
      "Epoch 64/100\n",
      "750/750 [==============================] - 6s 9ms/step - loss: 0.0211 - categorical_accuracy: 0.9485 - val_loss: 0.0232 - val_categorical_accuracy: 0.9457\n",
      "Epoch 65/100\n",
      "750/750 [==============================] - 6s 8ms/step - loss: 0.0209 - categorical_accuracy: 0.9488 - val_loss: 0.0230 - val_categorical_accuracy: 0.9454\n",
      "Epoch 66/100\n",
      "750/750 [==============================] - 6s 9ms/step - loss: 0.0207 - categorical_accuracy: 0.9495 - val_loss: 0.0228 - val_categorical_accuracy: 0.9474\n",
      "Epoch 67/100\n",
      "750/750 [==============================] - 6s 8ms/step - loss: 0.0205 - categorical_accuracy: 0.9499 - val_loss: 0.0227 - val_categorical_accuracy: 0.9466\n",
      "Epoch 68/100\n",
      "750/750 [==============================] - 6s 8ms/step - loss: 0.0203 - categorical_accuracy: 0.9502 - val_loss: 0.0225 - val_categorical_accuracy: 0.9477\n",
      "Epoch 69/100\n",
      "750/750 [==============================] - 6s 8ms/step - loss: 0.0201 - categorical_accuracy: 0.9507 - val_loss: 0.0224 - val_categorical_accuracy: 0.9475\n",
      "Epoch 70/100\n",
      "750/750 [==============================] - 6s 8ms/step - loss: 0.0199 - categorical_accuracy: 0.9510 - val_loss: 0.0222 - val_categorical_accuracy: 0.9478\n",
      "Epoch 71/100\n",
      "750/750 [==============================] - 6s 8ms/step - loss: 0.0197 - categorical_accuracy: 0.9517 - val_loss: 0.0222 - val_categorical_accuracy: 0.9483\n",
      "Epoch 72/100\n",
      "750/750 [==============================] - 6s 8ms/step - loss: 0.0196 - categorical_accuracy: 0.9518 - val_loss: 0.0219 - val_categorical_accuracy: 0.9488\n",
      "Epoch 73/100\n",
      "750/750 [==============================] - 6s 8ms/step - loss: 0.0194 - categorical_accuracy: 0.9521 - val_loss: 0.0218 - val_categorical_accuracy: 0.9489\n",
      "Epoch 74/100\n",
      "750/750 [==============================] - 6s 8ms/step - loss: 0.0192 - categorical_accuracy: 0.9525 - val_loss: 0.0217 - val_categorical_accuracy: 0.9494\n",
      "Epoch 75/100\n",
      "750/750 [==============================] - 6s 8ms/step - loss: 0.0190 - categorical_accuracy: 0.9532 - val_loss: 0.0215 - val_categorical_accuracy: 0.9490\n",
      "Epoch 76/100\n",
      "750/750 [==============================] - 6s 8ms/step - loss: 0.0189 - categorical_accuracy: 0.9539 - val_loss: 0.0214 - val_categorical_accuracy: 0.9490\n",
      "Epoch 77/100\n",
      "750/750 [==============================] - 6s 8ms/step - loss: 0.0187 - categorical_accuracy: 0.9539 - val_loss: 0.0213 - val_categorical_accuracy: 0.9499\n",
      "Epoch 78/100\n",
      "750/750 [==============================] - 6s 8ms/step - loss: 0.0185 - categorical_accuracy: 0.9543 - val_loss: 0.0211 - val_categorical_accuracy: 0.9499\n",
      "Epoch 79/100\n",
      "750/750 [==============================] - 6s 8ms/step - loss: 0.0184 - categorical_accuracy: 0.9546 - val_loss: 0.0210 - val_categorical_accuracy: 0.9501\n",
      "Epoch 80/100\n",
      "750/750 [==============================] - 6s 8ms/step - loss: 0.0182 - categorical_accuracy: 0.9551 - val_loss: 0.0209 - val_categorical_accuracy: 0.9500\n",
      "Epoch 81/100\n",
      "750/750 [==============================] - 6s 8ms/step - loss: 0.0181 - categorical_accuracy: 0.9554 - val_loss: 0.0208 - val_categorical_accuracy: 0.9506\n",
      "Epoch 82/100\n",
      "750/750 [==============================] - 6s 8ms/step - loss: 0.0179 - categorical_accuracy: 0.9561 - val_loss: 0.0207 - val_categorical_accuracy: 0.9517\n",
      "Epoch 83/100\n",
      "750/750 [==============================] - 6s 8ms/step - loss: 0.0178 - categorical_accuracy: 0.9559 - val_loss: 0.0205 - val_categorical_accuracy: 0.9513\n",
      "Epoch 84/100\n",
      "750/750 [==============================] - 6s 8ms/step - loss: 0.0176 - categorical_accuracy: 0.9562 - val_loss: 0.0205 - val_categorical_accuracy: 0.9508\n",
      "Epoch 85/100\n",
      "750/750 [==============================] - 6s 8ms/step - loss: 0.0175 - categorical_accuracy: 0.9570 - val_loss: 0.0204 - val_categorical_accuracy: 0.9503\n",
      "Epoch 86/100\n",
      "750/750 [==============================] - 6s 8ms/step - loss: 0.0173 - categorical_accuracy: 0.9572 - val_loss: 0.0203 - val_categorical_accuracy: 0.9516\n",
      "Epoch 87/100\n",
      "750/750 [==============================] - 6s 8ms/step - loss: 0.0172 - categorical_accuracy: 0.9577 - val_loss: 0.0201 - val_categorical_accuracy: 0.9523\n",
      "Epoch 88/100\n",
      "750/750 [==============================] - 6s 9ms/step - loss: 0.0170 - categorical_accuracy: 0.9576 - val_loss: 0.0201 - val_categorical_accuracy: 0.9517\n",
      "Epoch 89/100\n",
      "750/750 [==============================] - 6s 8ms/step - loss: 0.0169 - categorical_accuracy: 0.9578 - val_loss: 0.0199 - val_categorical_accuracy: 0.9527\n",
      "Epoch 90/100\n",
      "750/750 [==============================] - 6s 9ms/step - loss: 0.0168 - categorical_accuracy: 0.9583 - val_loss: 0.0198 - val_categorical_accuracy: 0.9527\n",
      "Epoch 91/100\n",
      "750/750 [==============================] - 6s 9ms/step - loss: 0.0166 - categorical_accuracy: 0.9589 - val_loss: 0.0199 - val_categorical_accuracy: 0.9522\n",
      "Epoch 92/100\n",
      "750/750 [==============================] - 6s 8ms/step - loss: 0.0165 - categorical_accuracy: 0.9588 - val_loss: 0.0196 - val_categorical_accuracy: 0.9528\n",
      "Epoch 93/100\n",
      "750/750 [==============================] - 6s 8ms/step - loss: 0.0164 - categorical_accuracy: 0.9589 - val_loss: 0.0196 - val_categorical_accuracy: 0.9530\n",
      "Epoch 94/100\n",
      "750/750 [==============================] - 6s 8ms/step - loss: 0.0163 - categorical_accuracy: 0.9596 - val_loss: 0.0195 - val_categorical_accuracy: 0.9533\n",
      "Epoch 95/100\n",
      "750/750 [==============================] - 6s 8ms/step - loss: 0.0161 - categorical_accuracy: 0.9600 - val_loss: 0.0193 - val_categorical_accuracy: 0.9551\n",
      "Epoch 96/100\n",
      "750/750 [==============================] - 6s 8ms/step - loss: 0.0160 - categorical_accuracy: 0.9602 - val_loss: 0.0193 - val_categorical_accuracy: 0.9544\n",
      "Epoch 97/100\n",
      "750/750 [==============================] - 6s 9ms/step - loss: 0.0159 - categorical_accuracy: 0.9604 - val_loss: 0.0192 - val_categorical_accuracy: 0.9554\n",
      "Epoch 98/100\n",
      "750/750 [==============================] - 6s 8ms/step - loss: 0.0158 - categorical_accuracy: 0.9604 - val_loss: 0.0190 - val_categorical_accuracy: 0.9552\n",
      "Epoch 99/100\n",
      "750/750 [==============================] - 6s 8ms/step - loss: 0.0156 - categorical_accuracy: 0.9609 - val_loss: 0.0190 - val_categorical_accuracy: 0.9554\n",
      "Epoch 100/100\n",
      "750/750 [==============================] - 6s 8ms/step - loss: 0.0155 - categorical_accuracy: 0.9610 - val_loss: 0.0189 - val_categorical_accuracy: 0.9547\n",
      "313/313 - 1s - loss: 0.0186 - categorical_accuracy: 0.9535 - 1s/epoch - 4ms/step\n",
      "Test loss: 0.01862691342830658\n",
      "Test accuracy: 95.3499972820282\n"
     ]
    }
   ],
   "source": [
    "focal_loss = tf.keras.losses.CategoricalFocalCrossentropy()\n",
    "# compiling the model\n",
    "optimizer = tf.keras.optimizers.SGD()\n",
    "model_fl.compile(optimizer=optimizer, loss=focal_loss, metrics=metrics)\n",
    "# training the model\n",
    "model_fl.fit(x_train, y_train, batch_size=64, epochs=100, validation_split=0.2, callbacks=[early_stopping_callback])\n",
    "# evaluating the model\n",
    "test_scores = model_fl.evaluate(x_test, y_test, verbose=2)\n",
    "print('Test loss:', test_scores[0])\n",
    "print('Test accuracy:', test_scores[1]*100)\n",
    "# saving the model\n",
    "path = './weights/mnist_focal_model.keras'\n",
    "model_fl.save(path)"
   ]
  },
  {
   "cell_type": "code",
   "execution_count": 92,
   "id": "eb292d1ae3a65bc1",
   "metadata": {
    "ExecuteTime": {
     "end_time": "2023-08-18T14:40:17.861684700Z",
     "start_time": "2023-08-18T14:40:17.762718600Z"
    }
   },
   "outputs": [],
   "source": [
    "# defining rational loss function\n",
    "# RL(p_t) = 1/p_t * -p * log(p_t)\n",
    "    # TODO: plot the function\n",
    "def rational_loss(y_true, y_pred, reduction=tf.keras.losses.Reduction.AUTO):\n",
    "    \"\"\"\n",
    "    Rational Loss for multi-class classification, tf.keras style.\n",
    "    RL(p_t) = - 1/p_t * log(p_t), where p_t is the probability associated with the true class.\n",
    "\n",
    "    :param y_true: Ground truth labels, shape of [batch_size, num_classes].\n",
    "    :param y_pred: Predicted class probabilities, shape of [batch_size, num_classes].\n",
    "    :param reduction: Reduction method to apply to the loss (default tf.keras.losses.Reduction.NONE).\n",
    "    :return: A scalar representing the mean rational loss over the batch.\n",
    "    NOTE: written assuming GPU support to make use of fast Tensor operations.\n",
    "    \"\"\"\n",
    "    # Create a Categorical Cross-Entropy loss instance\n",
    "    cce = tf.keras.losses.CategoricalCrossentropy(\n",
    "        reduction=tf.keras.losses.Reduction.NONE # Keep unreduced loss tensor\n",
    "    )\n",
    "    \n",
    "    # clip the predicted probabilities to avoid log(0)\n",
    "    _y_pred = K.clip(y_pred, 1e-2, 1.0)  # batch_sizexnum_classes\n",
    "    cross_entropy = cce(y_true, _y_pred) # batch_sizex1\n",
    "    # find the probability associated with the true class\n",
    "    _y_true = K.argmax(y_true, axis=1)\n",
    "    # get the predicted probability of the true class\n",
    "    _y_pred = K.sum(_y_pred * y_true, axis=1)\n",
    "    # print(f'y_true: {_y_true}')\n",
    "    # print(f'y_pred: {_y_pred}')\n",
    "    # print(f'cross entropy: {cross_entropy}')\n",
    "    # rational loss by dividing the cross entropy by the predicted probability of the true class\n",
    "    _rational_loss = cross_entropy / _y_pred # Rational loss\n",
    "    \n",
    "    if reduction == tf.keras.losses.Reduction.AUTO:\n",
    "        return K.mean(_rational_loss)\n",
    "    elif reduction == tf.keras.losses.Reduction.SUM:\n",
    "        return K.sum(_rational_loss)\n",
    "    else: # No reduction\n",
    "        return _rational_loss\n",
    "\n"
   ]
  },
  {
   "cell_type": "code",
   "execution_count": 93,
   "id": "d2bb936ed83a8b25",
   "metadata": {
    "ExecuteTime": {
     "end_time": "2023-08-18T14:40:20.416849300Z",
     "start_time": "2023-08-18T14:40:20.318219800Z"
    }
   },
   "outputs": [
    {
     "name": "stdout",
     "output_type": "stream",
     "text": [
      "cross entropy: [0.05129329 2.30258509]\n",
      "rational loss: [ 0.06446697 23.02585093]\n",
      "cross entropy: 1.176939193690798\n",
      "rational loss: 11.545158951939026\n"
     ]
    }
   ],
   "source": [
    "# test rational loss\n",
    "y_true = np.array([[0, 1, 0], [0, 0, 1]])\n",
    "y_pred = np.array([[0.05, 0.95, 0], [0.1, 0.8, 0.1]])\n",
    "# cross entropy value \n",
    "cce = tf.keras.losses.CategoricalCrossentropy(reduction=tf.keras.losses.Reduction.NONE)\n",
    "print(f'cross entropy: {cce(y_true, y_pred)}')\n",
    "print(f'rational loss: {rational_loss(y_true, y_pred, reduction=tf.keras.losses.Reduction.NONE)}')\n",
    "\n",
    "# with auto\n",
    "cce = tf.keras.losses.CategoricalCrossentropy()\n",
    "print(f'cross entropy: {cce(y_true, y_pred)}')\n",
    "print(f'rational loss: {rational_loss(y_true, y_pred)}')\n",
    "\n"
   ]
  },
  {
   "cell_type": "code",
   "execution_count": 14,
   "id": "331edee2580725fd",
   "metadata": {
    "ExecuteTime": {
     "end_time": "2023-08-18T13:31:51.873002100Z",
     "start_time": "2023-08-18T13:31:51.825500200Z"
    }
   },
   "outputs": [],
   "source": [
    "# def generate_data() -> Tuple[np.ndarray, np.ndarray]:\n",
    "#     \"\"\"\n",
    "#     Generates synthetic y_true and y_pred data.\n",
    "#     :return: y_true and y_pred arrays.\n",
    "#     \"\"\"\n",
    "#     num_samples = 100\n",
    "#     num_classes = 3\n",
    "#     y_true = np.eye(num_classes)[np.random.choice(num_classes, num_samples)]\n",
    "#     y_pred = np.random.rand(num_samples, num_classes)\n",
    "#     y_pred /= y_pred.sum(axis=1, keepdims=True)\n",
    "#     return y_true, y_pred\n",
    "# \n",
    "# def plot_rational_loss() -> None:\n",
    "#     \"\"\"\n",
    "#     Plots the rational loss for the generated data.\n",
    "#     \"\"\"\n",
    "#     y_true, y_pred = generate_data()\n",
    "#     rational_loss_fixed = rational_loss()\n",
    "#     losses: List[float] = [rational_loss_fixed(y_t.reshape(1, -1), y_p.reshape(1, -1)).numpy() for y_t, y_p in zip(y_true, y_pred)]\n",
    "#     plt.plot(losses)\n",
    "#     plt.title(\"Rational Loss for Multi-Class Classification\")\n",
    "#     plt.xlabel(\"Sample\")\n",
    "#     plt.ylabel(\"Loss\")\n",
    "#     plt.show()\n",
    "# \n",
    "# plot_rational_loss()"
   ]
  },
  {
   "cell_type": "code",
   "execution_count": 99,
   "id": "25ab1b90eb796366",
   "metadata": {
    "ExecuteTime": {
     "end_time": "2023-08-18T14:46:46.951674900Z",
     "start_time": "2023-08-18T14:44:45.634369700Z"
    }
   },
   "outputs": [
    {
     "name": "stdout",
     "output_type": "stream",
     "text": [
      "Epoch 1/100\n",
      "750/750 [==============================] - 5s 6ms/step - loss: 11.0329 - categorical_accuracy: 0.7006 - val_loss: 4.4918 - val_categorical_accuracy: 0.8025\n",
      "Epoch 2/100\n",
      "750/750 [==============================] - 5s 6ms/step - loss: 6.0201 - categorical_accuracy: 0.7681 - val_loss: 3.0958 - val_categorical_accuracy: 0.8654\n",
      "Epoch 3/100\n",
      "750/750 [==============================] - 5s 6ms/step - loss: 3.2584 - categorical_accuracy: 0.8621 - val_loss: 2.9498 - val_categorical_accuracy: 0.8735\n",
      "Epoch 4/100\n",
      "750/750 [==============================] - 5s 7ms/step - loss: 2.3749 - categorical_accuracy: 0.8908 - val_loss: 2.2055 - val_categorical_accuracy: 0.9108\n",
      "Epoch 5/100\n",
      "750/750 [==============================] - 5s 6ms/step - loss: 2.3169 - categorical_accuracy: 0.8987 - val_loss: 2.2919 - val_categorical_accuracy: 0.8898\n",
      "Epoch 6/100\n",
      "750/750 [==============================] - 5s 6ms/step - loss: 2.1993 - categorical_accuracy: 0.9028 - val_loss: 2.5650 - val_categorical_accuracy: 0.8891\n",
      "Epoch 7/100\n",
      "750/750 [==============================] - 5s 6ms/step - loss: 3.1753 - categorical_accuracy: 0.8779 - val_loss: 2.7020 - val_categorical_accuracy: 0.8978\n",
      "Epoch 8/100\n",
      "750/750 [==============================] - 5s 6ms/step - loss: 3.4142 - categorical_accuracy: 0.8678 - val_loss: 2.7337 - val_categorical_accuracy: 0.8992\n",
      "Epoch 9/100\n",
      "750/750 [==============================] - 5s 6ms/step - loss: 2.2091 - categorical_accuracy: 0.9016 - val_loss: 2.1369 - val_categorical_accuracy: 0.9220\n",
      "Epoch 10/100\n",
      "750/750 [==============================] - 5s 7ms/step - loss: 2.3446 - categorical_accuracy: 0.9019 - val_loss: 2.4785 - val_categorical_accuracy: 0.9086\n",
      "Epoch 11/100\n",
      "750/750 [==============================] - 4s 6ms/step - loss: 1.8570 - categorical_accuracy: 0.9163 - val_loss: 2.1784 - val_categorical_accuracy: 0.9278\n",
      "Epoch 12/100\n",
      "750/750 [==============================] - 4s 6ms/step - loss: 1.8190 - categorical_accuracy: 0.9166 - val_loss: 2.2190 - val_categorical_accuracy: 0.9199\n",
      "Epoch 13/100\n",
      "750/750 [==============================] - 5s 7ms/step - loss: 2.6052 - categorical_accuracy: 0.8917 - val_loss: 2.5393 - val_categorical_accuracy: 0.9050\n",
      "Epoch 14/100\n",
      "750/750 [==============================] - 5s 6ms/step - loss: 3.0866 - categorical_accuracy: 0.8912 - val_loss: 2.3482 - val_categorical_accuracy: 0.9110\n",
      "Epoch 15/100\n",
      "750/750 [==============================] - 5s 6ms/step - loss: 2.0897 - categorical_accuracy: 0.9121 - val_loss: 2.1178 - val_categorical_accuracy: 0.9267\n",
      "Epoch 16/100\n",
      "750/750 [==============================] - 5s 6ms/step - loss: 1.8096 - categorical_accuracy: 0.9225 - val_loss: 3.5347 - val_categorical_accuracy: 0.8785\n",
      "Epoch 17/100\n",
      "750/750 [==============================] - 4s 6ms/step - loss: 2.9742 - categorical_accuracy: 0.8837 - val_loss: 3.2370 - val_categorical_accuracy: 0.8723\n",
      "Epoch 18/100\n",
      "750/750 [==============================] - 4s 6ms/step - loss: 1.9974 - categorical_accuracy: 0.9104 - val_loss: 3.3540 - val_categorical_accuracy: 0.8573\n",
      "Epoch 19/100\n",
      "750/750 [==============================] - 4s 6ms/step - loss: 1.8557 - categorical_accuracy: 0.9187 - val_loss: 1.9923 - val_categorical_accuracy: 0.9345\n",
      "Epoch 20/100\n",
      "750/750 [==============================] - 4s 6ms/step - loss: 1.9308 - categorical_accuracy: 0.9162 - val_loss: 1.8765 - val_categorical_accuracy: 0.9278\n",
      "Epoch 21/100\n",
      "750/750 [==============================] - 5s 6ms/step - loss: 1.5208 - categorical_accuracy: 0.9264 - val_loss: 1.9305 - val_categorical_accuracy: 0.9333\n",
      "Epoch 22/100\n",
      "750/750 [==============================] - 4s 6ms/step - loss: 1.2466 - categorical_accuracy: 0.9338 - val_loss: 2.0147 - val_categorical_accuracy: 0.9365\n",
      "Epoch 23/100\n",
      "750/750 [==============================] - 4s 6ms/step - loss: 1.1702 - categorical_accuracy: 0.9358 - val_loss: 2.0141 - val_categorical_accuracy: 0.9371\n",
      "Epoch 24/100\n",
      "750/750 [==============================] - 4s 6ms/step - loss: 1.9001 - categorical_accuracy: 0.9192 - val_loss: 2.2176 - val_categorical_accuracy: 0.9291\n",
      "Epoch 25/100\n",
      "750/750 [==============================] - 4s 6ms/step - loss: 1.5181 - categorical_accuracy: 0.9267 - val_loss: 1.9649 - val_categorical_accuracy: 0.9333\n",
      "Epoch 26/100\n",
      "750/750 [==============================] - 4s 6ms/step - loss: 2.2942 - categorical_accuracy: 0.9059 - val_loss: 2.3241 - val_categorical_accuracy: 0.9229\n",
      "313/313 - 1s - loss: 2.0123 - categorical_accuracy: 0.9259 - 769ms/epoch - 2ms/step\n",
      "Test loss: 2.0122828483581543\n",
      "Test accuracy: 92.58999824523926\n"
     ]
    }
   ],
   "source": [
    "# build th emodel\n",
    "model_rl = build_model()\n",
    "# compiling the model\n",
    "model_rl.compile(optimizer= tf.keras.optimizers.SGD(), loss=rational_loss, metrics=metrics)\n",
    "# training the model\n",
    "history = model_rl.fit(x_train, y_train, batch_size=64, epochs=100, validation_split=0.2, callbacks=[early_stopping_callback])\n",
    "# evaluating the model\n",
    "test_scores = model_rl.evaluate(x_test, y_test, verbose=2)\n",
    "print('Test loss:', test_scores[0])\n",
    "print('Test accuracy:', test_scores[1]*100)\n",
    "# saving the model\n",
    "path = './weights/mnist_rational_model.keras'\n",
    "model_rl.save(path)"
   ]
  },
  {
   "cell_type": "code",
   "execution_count": 57,
   "id": "3b0b6284c01bdf98",
   "metadata": {
    "ExecuteTime": {
     "end_time": "2023-08-18T14:21:30.340827400Z",
     "start_time": "2023-08-18T14:21:30.242411200Z"
    }
   },
   "outputs": [],
   "source": [
    "# rebuilding the models\n",
    "model_ce = build_model()\n",
    "model_fl = build_model()\n",
    "model_rl = build_model()\n"
   ]
  },
  {
   "cell_type": "code",
   "execution_count": 17,
   "id": "674c73a18c8f5973",
   "metadata": {
    "ExecuteTime": {
     "end_time": "2023-08-18T13:34:17.237964100Z",
     "start_time": "2023-08-18T13:34:17.171458300Z"
    }
   },
   "outputs": [],
   "source": [
    "# imbalance \n",
    "def create_imbalanced_data(x, y, imbalance_rate=0.5):\n",
    "    \"\"\"\n",
    "    Create an imbalanced dataset based on a given probability distribution.\n",
    "    The probability for class d is given by: P(d) = 0.5^d / 2*(1 - 0.5^10)\n",
    "\n",
    "    :param x: Features, shape of [total_samples, feature_dim].\n",
    "    :param y: One-hot encoded labels, shape of [total_samples, num_classes].\n",
    "    :param imbalance_rate: Base rate for the exponential decay of class frequency (default 0.5).\n",
    "    :return: Tuple of imbalanced features and labels, shapes of [selected_samples, feature_dim] and [selected_samples, num_classes].\n",
    "    \"\"\"\n",
    "    total_samples = len(y)\n",
    "    a = imbalance_rate\n",
    "    normalization_factor = 2 * (1 - a**10)\n",
    "\n",
    "    indices_by_class = [np.where(y[:, d] == 1)[0] for d in range(10)]\n",
    "    selected_indices = []\n",
    "\n",
    "    for d in range(10):\n",
    "        probability_d = (a**d) / normalization_factor\n",
    "        frequency = int(total_samples * probability_d)\n",
    "        np.random.shuffle(indices_by_class[d]) # Shuffle to ensure random selection\n",
    "        selected_indices.extend(indices_by_class[d][:frequency])\n",
    "\n",
    "    return x[selected_indices], y[selected_indices]\n",
    "\n",
    "\n",
    "x_train_imbalanced, y_train_imbalanced = create_imbalanced_data(x_train, y_train)\n"
   ]
  },
  {
   "cell_type": "code",
   "execution_count": 95,
   "id": "16d76b12905e4aa4",
   "metadata": {
    "ExecuteTime": {
     "end_time": "2023-08-18T14:41:37.516006500Z",
     "start_time": "2023-08-18T14:41:37.472009900Z"
    }
   },
   "outputs": [],
   "source": [
    "# compiling the model\n",
    "model_ce.compile(optimizer=tf.keras.optimizers.SGD(), loss=tf.keras.losses.CategoricalCrossentropy(), metrics=metrics)\n",
    "model_fl.compile(optimizer=tf.keras.optimizers.SGD(), loss=tf.keras.losses.CategoricalFocalCrossentropy(), metrics=metrics)\n",
    "model_rl.compile(optimizer=tf.keras.optimizers.SGD(), loss=rational_loss, metrics=metrics)"
   ]
  },
  {
   "cell_type": "code",
   "execution_count": 96,
   "id": "bdefdf376d35ec93",
   "metadata": {
    "ExecuteTime": {
     "end_time": "2023-08-18T14:42:35.039018700Z",
     "start_time": "2023-08-18T14:41:37.501005200Z"
    }
   },
   "outputs": [
    {
     "name": "stdout",
     "output_type": "stream",
     "text": [
      "Training on imbalanced data:\n",
      "Cross Entropy:\n",
      "Epoch 1/100\n",
      "326/326 [==============================] - 3s 8ms/step - loss: 0.5654 - categorical_accuracy: 0.8745 - val_loss: 4.6957 - val_categorical_accuracy: 0.2501\n",
      "Epoch 2/100\n",
      "326/326 [==============================] - 3s 9ms/step - loss: 0.1445 - categorical_accuracy: 0.9619 - val_loss: 5.4116 - val_categorical_accuracy: 0.2649\n",
      "Epoch 3/100\n",
      "326/326 [==============================] - 3s 9ms/step - loss: 0.1118 - categorical_accuracy: 0.9673 - val_loss: 5.8288 - val_categorical_accuracy: 0.2622\n",
      "Epoch 4/100\n",
      "326/326 [==============================] - 3s 9ms/step - loss: 0.0976 - categorical_accuracy: 0.9721 - val_loss: 6.1346 - val_categorical_accuracy: 0.2660\n",
      "Epoch 5/100\n",
      "326/326 [==============================] - 3s 9ms/step - loss: 0.0894 - categorical_accuracy: 0.9737 - val_loss: 6.3106 - val_categorical_accuracy: 0.2670\n",
      "Epoch 6/100\n",
      "326/326 [==============================] - 3s 9ms/step - loss: 0.0834 - categorical_accuracy: 0.9753 - val_loss: 6.5147 - val_categorical_accuracy: 0.2677\n",
      "Epoch 7/100\n",
      "326/326 [==============================] - 3s 9ms/step - loss: 0.0790 - categorical_accuracy: 0.9766 - val_loss: 6.6274 - val_categorical_accuracy: 0.2691\n",
      "Focal Loss:\n",
      "Epoch 1/100\n",
      "326/326 [==============================] - 3s 7ms/step - loss: 0.2210 - categorical_accuracy: 0.6298 - val_loss: 0.7562 - val_categorical_accuracy: 0.0000e+00\n",
      "Epoch 2/100\n",
      "326/326 [==============================] - 2s 8ms/step - loss: 0.0558 - categorical_accuracy: 0.8866 - val_loss: 0.8672 - val_categorical_accuracy: 0.1674\n",
      "Epoch 3/100\n",
      "326/326 [==============================] - 2s 7ms/step - loss: 0.0323 - categorical_accuracy: 0.9314 - val_loss: 0.9528 - val_categorical_accuracy: 0.2244\n",
      "Epoch 4/100\n",
      "326/326 [==============================] - 2s 7ms/step - loss: 0.0244 - categorical_accuracy: 0.9420 - val_loss: 1.0129 - val_categorical_accuracy: 0.2334\n",
      "Epoch 5/100\n",
      "326/326 [==============================] - 2s 7ms/step - loss: 0.0204 - categorical_accuracy: 0.9487 - val_loss: 1.0564 - val_categorical_accuracy: 0.2459\n",
      "Epoch 6/100\n",
      "326/326 [==============================] - 2s 7ms/step - loss: 0.0179 - categorical_accuracy: 0.9534 - val_loss: 1.0933 - val_categorical_accuracy: 0.2466\n",
      "Epoch 7/100\n",
      "326/326 [==============================] - 2s 8ms/step - loss: 0.0162 - categorical_accuracy: 0.9569 - val_loss: 1.1224 - val_categorical_accuracy: 0.2518\n",
      "Rational Loss:\n",
      "Epoch 1/100\n",
      "326/326 [==============================] - 3s 8ms/step - loss: 0.6364 - categorical_accuracy: 0.8296 - val_loss: 31.0156 - val_categorical_accuracy: 0.4691\n",
      "Epoch 2/100\n",
      "326/326 [==============================] - 3s 8ms/step - loss: 0.3777 - categorical_accuracy: 0.9799 - val_loss: 75.5528 - val_categorical_accuracy: 0.3468\n",
      "Epoch 3/100\n",
      "326/326 [==============================] - 3s 9ms/step - loss: 0.3250 - categorical_accuracy: 0.9818 - val_loss: 99.2002 - val_categorical_accuracy: 0.3165\n",
      "Epoch 4/100\n",
      "326/326 [==============================] - 3s 9ms/step - loss: 0.2880 - categorical_accuracy: 0.9836 - val_loss: 115.2635 - val_categorical_accuracy: 0.2998\n",
      "Epoch 5/100\n",
      "326/326 [==============================] - 3s 8ms/step - loss: 0.2756 - categorical_accuracy: 0.9841 - val_loss: 144.0200 - val_categorical_accuracy: 0.2919\n",
      "Epoch 6/100\n",
      "326/326 [==============================] - 3s 8ms/step - loss: 0.2492 - categorical_accuracy: 0.9852 - val_loss: 156.8328 - val_categorical_accuracy: 0.2890\n",
      "Epoch 7/100\n",
      "326/326 [==============================] - 3s 8ms/step - loss: 0.2348 - categorical_accuracy: 0.9865 - val_loss: 175.1089 - val_categorical_accuracy: 0.2867\n"
     ]
    },
    {
     "data": {
      "text/plain": "<keras.src.callbacks.History at 0x7f378cbbfb20>"
     },
     "execution_count": 96,
     "metadata": {},
     "output_type": "execute_result"
    }
   ],
   "source": [
    "print(\"Training on imbalanced data:\")\n",
    "early_stopping_callback = EarlyStopping(monitor='val_loss', patience=6, restore_best_weights=True)\n",
    "print(\"Cross Entropy:\")\n",
    "model_ce.fit(x_train_imbalanced, y_train_imbalanced, epochs=100, batch_size=64, validation_split=0.2, callbacks=[early_stopping_callback])\n",
    "print(\"Focal Loss:\")\n",
    "model_fl.fit(x_train_imbalanced, y_train_imbalanced, epochs=100, batch_size=64, validation_split=0.2, callbacks=[early_stopping_callback])\n",
    "print(\"Rational Loss:\")\n",
    "model_rl.fit(x_train_imbalanced, y_train_imbalanced, epochs=100, batch_size=64, validation_split=0.2, callbacks=[early_stopping_callback])"
   ]
  },
  {
   "cell_type": "code",
   "execution_count": 97,
   "id": "c7d9401ce9ef65d9",
   "metadata": {
    "ExecuteTime": {
     "end_time": "2023-08-18T14:42:40.956020700Z",
     "start_time": "2023-08-18T14:42:35.038525200Z"
    }
   },
   "outputs": [
    {
     "name": "stdout",
     "output_type": "stream",
     "text": [
      "test on balanced set:\n",
      "313/313 [==============================] - 1s 4ms/step - loss: 4.0385 - categorical_accuracy: 0.3959\n",
      "313/313 [==============================] - 1s 4ms/step - loss: 0.5938 - categorical_accuracy: 0.3000\n",
      "313/313 [==============================] - 1s 4ms/step - loss: 34.6184 - categorical_accuracy: 0.4998\n",
      "ce: test loss 4.038527488708496, test accuracy 39.59000110626221\n",
      "fl: test loss 0.5938497185707092, test accuracy 30.000001192092896\n",
      "rl: test loss 34.618350982666016, test accuracy 49.97999966144562\n",
      "test on imbalanced data:\n",
      "138/138 [==============================] - 1s 5ms/step - loss: 1.0794 - categorical_accuracy: 0.8235\n",
      "138/138 [==============================] - 1s 4ms/step - loss: 0.2181 - categorical_accuracy: 0.6842\n",
      "138/138 [==============================] - 0s 3ms/step - loss: 7.2159 - categorical_accuracy: 0.8791\n",
      "ce: test loss 1.079444408416748, test accuracy 82.34891891479492\n",
      "fl: test loss 0.21811704337596893, test accuracy 68.41505169868469\n",
      "rl: test loss 7.215880393981934, test accuracy 87.9133403301239\n"
     ]
    }
   ],
   "source": [
    "# Balanced data\n",
    "print(\"test on balanced set:\")\n",
    "ce_res = model_ce.evaluate(x_test, y_test)\n",
    "fl_res = model_fl.evaluate(x_test, y_test)\n",
    "rl_res = model_rl.evaluate(x_test, y_test)\n",
    "print(f'ce: test loss {ce_res[0]}, test accuracy {ce_res[1]*100}')\n",
    "print(f'fl: test loss {fl_res[0]}, test accuracy {fl_res[1]*100}')\n",
    "print(f'rl: test loss {rl_res[0]}, test accuracy {rl_res[1]*100}')\n",
    "# Imbalanced data\n",
    "print(\"test on imbalanced data:\")\n",
    "x_test_imbalanced, y_test_imbalanced = create_imbalanced_data(x_test, y_test)\n",
    "ce_ires = model_ce.evaluate(x_test_imbalanced, y_test_imbalanced)\n",
    "fl_ires = model_fl.evaluate(x_test_imbalanced, y_test_imbalanced)\n",
    "rl_ires = model_rl.evaluate(x_test_imbalanced, y_test_imbalanced)\n",
    "print(f'ce: test loss {ce_ires[0]}, test accuracy {ce_ires[1]*100}')\n",
    "print(f'fl: test loss {fl_ires[0]}, test accuracy {fl_ires[1]*100}')\n",
    "print(f'rl: test loss {rl_ires[0]}, test accuracy {rl_ires[1]*100}')"
   ]
  },
  {
   "cell_type": "code",
   "execution_count": null,
   "outputs": [],
   "source": [
    "def accuracy_by_bins(model, x, y):\n",
    "    \"\"\"\n",
    "    Calculate and print the accuracy of the given model for specific bins of classes.\n",
    "    The bins are defined as: 0-1, 2-7, 8-9.\n",
    "\n",
    "    :param model: Trained tf.keras model to evaluate.\n",
    "    :param x: Input features, shape of [num_samples, feature_dim].\n",
    "    :param y: One-hot encoded labels, shape of [num_samples, num_classes].\n",
    "    \"\"\"\n",
    "    predictions = model.predict(x).argmax(axis=-1)\n",
    "    true_labels = y.argmax(axis=-1)\n",
    "    bins = [(0, 1), (2, 7), (8, 9)]\n",
    "    for bin_start, bin_end in bins:\n",
    "        mask = (true_labels >= bin_start) & (true_labels <= bin_end) \n",
    "        bin_accuracy = np.mean(predictions[mask] == true_labels[mask])\n",
    "        print(f\"Accuracy for bin {bin_start}-{bin_end}: {bin_accuracy*100}\")"
   ],
   "metadata": {
    "collapsed": false
   },
   "id": "b6e2d0a9c83f4d30"
  },
  {
   "cell_type": "code",
   "execution_count": 98,
   "outputs": [
    {
     "name": "stdout",
     "output_type": "stream",
     "text": [
      "Accuracy by bins for balanced data:\n",
      "Cross Entropy:\n",
      "313/313 [==============================] - 1s 2ms/step\n",
      "Accuracy for bin 0-1: 99.05437352245863\n",
      "Accuracy for bin 2-7: 31.58251440189766\n",
      "Accuracy for bin 8-9: 0.0\n",
      "Focal Loss:\n",
      "313/313 [==============================] - 1s 2ms/step\n",
      "Accuracy for bin 0-1: 97.06855791962174\n",
      "Accuracy for bin 2-7: 16.045408336157234\n",
      "Accuracy for bin 8-9: 0.0\n",
      "Rational Loss:\n",
      "313/313 [==============================] - 1s 2ms/step\n",
      "Accuracy for bin 0-1: 99.2434988179669\n",
      "Accuracy for bin 2-7: 44.391731616401216\n",
      "Accuracy for bin 8-9: 14.069591527987896\n"
     ]
    }
   ],
   "source": [
    "print(\"Accuracy by bins for balanced data:\")\n",
    "print(\"Cross Entropy:\")\n",
    "accuracy_by_bins(model_ce, x_test, y_test)\n",
    "print(\"Focal Loss:\")\n",
    "accuracy_by_bins(model_fl, x_test, y_test)\n",
    "print(\"Rational Loss:\")\n",
    "accuracy_by_bins(model_rl, x_test, y_test)"
   ],
   "metadata": {
    "collapsed": false,
    "ExecuteTime": {
     "end_time": "2023-08-18T14:42:43.433326900Z",
     "start_time": "2023-08-18T14:42:40.955033Z"
    }
   },
   "id": "8fe7c339d416b1a3"
  },
  {
   "cell_type": "code",
   "execution_count": 100,
   "outputs": [
    {
     "name": "stdout",
     "output_type": "stream",
     "text": [
      "Accuracy by bins for imbalanced data:\n",
      "Cross Entropy:\n",
      "138/138 [==============================] - 1s 5ms/step\n",
      "Accuracy for bin 0-1: 99.05437352245863\n",
      "Accuracy for bin 2-7: 67.61819803746654\n",
      "Accuracy for bin 8-9: 0.0\n",
      "Focal Loss:\n",
      "138/138 [==============================] - 1s 4ms/step\n",
      "Accuracy for bin 0-1: 97.06855791962174\n",
      "Accuracy for bin 2-7: 42.23907225691347\n",
      "Accuracy for bin 8-9: 0.0\n",
      "Rational Loss:\n",
      "138/138 [==============================] - 1s 4ms/step\n",
      "Accuracy for bin 0-1: 97.16312056737588\n",
      "Accuracy for bin 2-7: 91.21320249776986\n",
      "Accuracy for bin 8-9: 85.71428571428571\n"
     ]
    }
   ],
   "source": [
    "print(\"Accuracy by bins for imbalanced data:\")\n",
    "print(\"Cross Entropy:\")\n",
    "accuracy_by_bins(model_ce, x_test_imbalanced, y_test_imbalanced)\n",
    "print(\"Focal Loss:\")\n",
    "accuracy_by_bins(model_fl, x_test_imbalanced, y_test_imbalanced)\n",
    "print(\"Rational Loss:\")\n",
    "accuracy_by_bins(model_rl, x_test_imbalanced, y_test_imbalanced)"
   ],
   "metadata": {
    "collapsed": false,
    "ExecuteTime": {
     "end_time": "2023-08-18T14:47:29.045385100Z",
     "start_time": "2023-08-18T14:47:26.373962900Z"
    }
   },
   "id": "41e57f2fc25a7f33"
  },
  {
   "cell_type": "code",
   "execution_count": null,
   "outputs": [],
   "source": [],
   "metadata": {
    "collapsed": false
   },
   "id": "b86bd6d25d0aabc5"
  }
 ],
 "metadata": {
  "kernelspec": {
   "display_name": "Python 3 (ipykernel)",
   "language": "python",
   "name": "python3"
  },
  "language_info": {
   "codemirror_mode": {
    "name": "ipython",
    "version": 3
   },
   "file_extension": ".py",
   "mimetype": "text/x-python",
   "name": "python",
   "nbconvert_exporter": "python",
   "pygments_lexer": "ipython3",
   "version": "3.9.12"
  }
 },
 "nbformat": 4,
 "nbformat_minor": 5
}
