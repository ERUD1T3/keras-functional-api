{
 "cells": [
  {
   "cell_type": "code",
   "execution_count": 1,
   "metadata": {
    "ExecuteTime": {
     "end_time": "2023-08-13T20:56:01.483257500Z",
     "start_time": "2023-08-13T20:56:01.438757400Z"
    }
   },
   "outputs": [],
   "source": [
    "# Practicing Keras functional api\n",
    "\n"
   ]
  },
  {
   "cell_type": "code",
   "execution_count": 2,
   "outputs": [],
   "source": [
    "# import libraries\n",
    "import numpy as np\n",
    "import tensorflow as tf\n",
    "import matplotlib.pyplot as plt\n",
    "import keras\n",
    "from keras import layers"
   ],
   "metadata": {
    "collapsed": false,
    "ExecuteTime": {
     "end_time": "2023-08-13T20:56:04.813257900Z",
     "start_time": "2023-08-13T20:56:01.456256400Z"
    }
   }
  },
  {
   "cell_type": "markdown",
   "source": [
    "# 1. Build a simple model\n",
    "Functional API is more flexible than Sequential API. It can handle models with non-linear topology, shared layers, and even multiple inputs or outputs."
   ],
   "metadata": {
    "collapsed": false
   }
  },
  {
   "cell_type": "code",
   "execution_count": 3,
   "outputs": [
    {
     "name": "stdout",
     "output_type": "stream",
     "text": [
      "shape of input layer: , type of input layer:  (None, 784) <dtype: 'float32'>\n"
     ]
    }
   ],
   "source": [
    "inputs = keras.Input(shape=(784,), name='input_layer') # 784 is the number of input features\n",
    "# shape of input layer \n",
    "print(\"shape of input layer: , type of input layer: \", inputs.shape, inputs.dtype)"
   ],
   "metadata": {
    "collapsed": false,
    "ExecuteTime": {
     "end_time": "2023-08-13T20:56:04.907758200Z",
     "start_time": "2023-08-13T20:56:04.814259Z"
    }
   }
  },
  {
   "cell_type": "code",
   "execution_count": 4,
   "outputs": [],
   "source": [
    "# hidden layer with relu activation\n",
    "h1 = layers.Dense(64, activation='relu', name='hidden_layer1')(inputs)"
   ],
   "metadata": {
    "collapsed": false,
    "ExecuteTime": {
     "end_time": "2023-08-13T20:56:04.996755200Z",
     "start_time": "2023-08-13T20:56:04.908758500Z"
    }
   }
  },
  {
   "cell_type": "code",
   "execution_count": 5,
   "outputs": [],
   "source": [
    "h2 = layers.Dense(64, activation='relu', name='hidden_layer2')(h1)"
   ],
   "metadata": {
    "collapsed": false,
    "ExecuteTime": {
     "end_time": "2023-08-13T20:56:05.013256600Z",
     "start_time": "2023-08-13T20:56:04.971756700Z"
    }
   }
  },
  {
   "cell_type": "code",
   "execution_count": 6,
   "outputs": [],
   "source": [
    "# output layer \n",
    "outputs = layers.Dense(10, name='output_layer')(h2)"
   ],
   "metadata": {
    "collapsed": false,
    "ExecuteTime": {
     "end_time": "2023-08-13T20:56:05.057258100Z",
     "start_time": "2023-08-13T20:56:05.002258100Z"
    }
   }
  },
  {
   "cell_type": "code",
   "execution_count": 7,
   "outputs": [
    {
     "name": "stdout",
     "output_type": "stream",
     "text": [
      "Model: \"mnist_model\"\n",
      "_________________________________________________________________\n",
      " Layer (type)                Output Shape              Param #   \n",
      "=================================================================\n",
      " input_layer (InputLayer)    [(None, 784)]             0         \n",
      "                                                                 \n",
      " hidden_layer1 (Dense)       (None, 64)                50240     \n",
      "                                                                 \n",
      " hidden_layer2 (Dense)       (None, 64)                4160      \n",
      "                                                                 \n",
      " output_layer (Dense)        (None, 10)                650       \n",
      "                                                                 \n",
      "=================================================================\n",
      "Total params: 55050 (215.04 KB)\n",
      "Trainable params: 55050 (215.04 KB)\n",
      "Non-trainable params: 0 (0.00 Byte)\n",
      "_________________________________________________________________\n"
     ]
    }
   ],
   "source": [
    "# create a model\n",
    "model = keras.Model(inputs=inputs, outputs=outputs, name='mnist_model')\n",
    "# summary of the model\n",
    "model.summary()"
   ],
   "metadata": {
    "collapsed": false,
    "ExecuteTime": {
     "end_time": "2023-08-13T20:56:05.078757800Z",
     "start_time": "2023-08-13T20:56:05.035758900Z"
    }
   }
  },
  {
   "cell_type": "code",
   "execution_count": 10,
   "outputs": [],
   "source": [
    "# loading training MNIST dataset\n",
    "(x_train, y_train), (x_test, y_test) = keras.datasets.mnist.load_data()\n",
    "\n",
    "x_train = x_train.reshape(60000, 784).astype('float32')/255  # 60000 is the number of samples, divide by 255 to normalize the data\n",
    "x_test = x_test.reshape(10000, 784).astype('float32')/255\n",
    "\n",
    "loss_fn = keras.losses.SparseCategoricalCrossentropy(from_logits=True) # raw output from the model, not the probability, SparseCategoricalCrossentropy is better for integer labels\n",
    "optimizer = keras.optimizers.RMSprop() # the Root Mean Square Propagation algorithm\n",
    "metrics = [keras.metrics.SparseCategoricalAccuracy()] # accuracy is the metric to eval\n",
    "\n",
    "model.compile(loss=loss_fn, optimizer=optimizer, metrics=metrics)"
   ],
   "metadata": {
    "collapsed": false,
    "ExecuteTime": {
     "end_time": "2023-08-13T21:06:36.640098400Z",
     "start_time": "2023-08-13T21:06:36.249871100Z"
    }
   }
  },
  {
   "cell_type": "code",
   "execution_count": 11,
   "outputs": [
    {
     "name": "stdout",
     "output_type": "stream",
     "text": [
      "Epoch 1/2\n",
      "750/750 [==============================] - 2s 2ms/step - loss: 0.3611 - sparse_categorical_accuracy: 0.8976 - val_loss: 0.1972 - val_sparse_categorical_accuracy: 0.9427\n",
      "Epoch 2/2\n",
      "750/750 [==============================] - 1s 2ms/step - loss: 0.1712 - sparse_categorical_accuracy: 0.9485 - val_loss: 0.1460 - val_sparse_categorical_accuracy: 0.9582\n"
     ]
    }
   ],
   "source": [
    "# training the model\n",
    "history = model.fit(x_train, y_train, batch_size=64, epochs=2, validation_split=0.2) # 20% of the training data is used for validation"
   ],
   "metadata": {
    "collapsed": false,
    "ExecuteTime": {
     "end_time": "2023-08-13T21:06:41.884113900Z",
     "start_time": "2023-08-13T21:06:38.293116400Z"
    }
   }
  },
  {
   "cell_type": "code",
   "execution_count": 12,
   "outputs": [
    {
     "name": "stdout",
     "output_type": "stream",
     "text": [
      "313/313 - 0s - loss: 0.1409 - sparse_categorical_accuracy: 0.9582 - 257ms/epoch - 819us/step\n",
      "Test loss: 0.14094504714012146, Test accuracy: 0.9581999778747559\n"
     ]
    }
   ],
   "source": [
    "# evaluate the model\n",
    "test_scores = model.evaluate(x_test, y_test, verbose=2)\n",
    "print(f\"Test loss: {test_scores[0]}, Test accuracy: {test_scores[1]}\")"
   ],
   "metadata": {
    "collapsed": false,
    "ExecuteTime": {
     "end_time": "2023-08-13T21:07:49.605386Z",
     "start_time": "2023-08-13T21:07:49.198893400Z"
    }
   }
  }
 ],
 "metadata": {
  "kernelspec": {
   "display_name": "Python 3",
   "language": "python",
   "name": "python3"
  },
  "language_info": {
   "name": "python",
   "version": "3.9.17"
  },
  "orig_nbformat": 4
 },
 "nbformat": 4,
 "nbformat_minor": 2
}
